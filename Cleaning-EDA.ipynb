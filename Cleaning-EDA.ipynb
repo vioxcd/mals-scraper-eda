{
 "cells": [
  {
   "cell_type": "markdown",
   "metadata": {
    "id": "EGsyEKQLdDXr"
   },
   "source": [
    "#### *Dataset Description*"
   ]
  },
  {
   "cell_type": "markdown",
   "metadata": {
    "id": "zSAFvs7Odp9a"
   },
   "source": [
    "**Score**: Ranging from 1 - 10 (can't be 0)\n",
    "\n",
    "**Watching Status**\n",
    "- 1: Currently Watching\n",
    "- 2: Completed\n",
    "- 3: On Hold\n",
    "- 4: Dropped\n",
    "- 6: Plan to Watch"
   ]
  },
  {
   "cell_type": "markdown",
   "metadata": {
    "id": "aS-QtwnWJB3n"
   },
   "source": [
    "### Loading"
   ]
  },
  {
   "cell_type": "code",
   "execution_count": null,
   "metadata": {},
   "outputs": [],
   "source": [
    "# USERS_PAGE + CLUBS_PAGE\n",
    "!gdown 'LINK_REMOVED'\n",
    "!wc -l 'dumps.csv'"
   ]
  },
  {
   "cell_type": "markdown",
   "metadata": {
    "id": "C5O7RCjth2TA"
   },
   "source": [
    "#### Import"
   ]
  },
  {
   "cell_type": "code",
   "execution_count": null,
   "metadata": {
    "id": "g2DMWIYLWtML"
   },
   "outputs": [],
   "source": [
    "import numpy as np\n",
    "import pandas as pd\n",
    "import matplotlib.pyplot as plt\n",
    "import seaborn as sns\n",
    "\n",
    "sns.set_theme(style=\"whitegrid\")"
   ]
  },
  {
   "cell_type": "code",
   "execution_count": null,
   "metadata": {
    "id": "9LGuIdNYlAjE"
   },
   "outputs": [],
   "source": [
    "plt.rcParams[\"figure.figsize\"] = (9, 6)"
   ]
  },
  {
   "cell_type": "code",
   "execution_count": null,
   "metadata": {
    "id": "x9K6QIkQXPe9"
   },
   "outputs": [],
   "source": [
    "RATING_PATH = 'dumps.csv'\n",
    "ratings = pd.read_csv(RATING_PATH)"
   ]
  },
  {
   "cell_type": "code",
   "execution_count": null,
   "metadata": {
    "colab": {
     "base_uri": "https://localhost:8080/"
    },
    "id": "GktFfAYUX41m",
    "outputId": "8886a52f-064e-43e0-fcf5-459e7b6a0c36"
   },
   "outputs": [
    {
     "data": {
      "text/html": [
       "<div>\n",
       "<style scoped>\n",
       "    .dataframe tbody tr th:only-of-type {\n",
       "        vertical-align: middle;\n",
       "    }\n",
       "\n",
       "    .dataframe tbody tr th {\n",
       "        vertical-align: top;\n",
       "    }\n",
       "\n",
       "    .dataframe thead th {\n",
       "        text-align: right;\n",
       "    }\n",
       "</style>\n",
       "<table border=\"1\" class=\"dataframe\">\n",
       "  <thead>\n",
       "    <tr style=\"text-align: right;\">\n",
       "      <th></th>\n",
       "      <th>username</th>\n",
       "      <th>type</th>\n",
       "      <th>id</th>\n",
       "      <th>title</th>\n",
       "      <th>score</th>\n",
       "      <th>status</th>\n",
       "    </tr>\n",
       "  </thead>\n",
       "  <tbody>\n",
       "    <tr>\n",
       "      <th>0</th>\n",
       "      <td>Blaziken</td>\n",
       "      <td>anime</td>\n",
       "      <td>4151</td>\n",
       "      <td>Blade of the Immortal</td>\n",
       "      <td>7</td>\n",
       "      <td>1</td>\n",
       "    </tr>\n",
       "    <tr>\n",
       "      <th>1</th>\n",
       "      <td>Blaziken</td>\n",
       "      <td>anime</td>\n",
       "      <td>1</td>\n",
       "      <td>Cowboy Bebop</td>\n",
       "      <td>8</td>\n",
       "      <td>1</td>\n",
       "    </tr>\n",
       "    <tr>\n",
       "      <th>2</th>\n",
       "      <td>Blaziken</td>\n",
       "      <td>anime</td>\n",
       "      <td>6702</td>\n",
       "      <td>Fairy Tail</td>\n",
       "      <td>8</td>\n",
       "      <td>1</td>\n",
       "    </tr>\n",
       "    <tr>\n",
       "      <th>3</th>\n",
       "      <td>Blaziken</td>\n",
       "      <td>anime</td>\n",
       "      <td>11061</td>\n",
       "      <td>Hunter x Hunter (2011)</td>\n",
       "      <td>9</td>\n",
       "      <td>1</td>\n",
       "    </tr>\n",
       "    <tr>\n",
       "      <th>4</th>\n",
       "      <td>Blaziken</td>\n",
       "      <td>anime</td>\n",
       "      <td>8277</td>\n",
       "      <td>Hyakka Ryouran: Samurai Girls</td>\n",
       "      <td>7</td>\n",
       "      <td>1</td>\n",
       "    </tr>\n",
       "  </tbody>\n",
       "</table>\n",
       "</div>"
      ],
      "text/plain": [
       "   username   type     id                          title  score  status\n",
       "0  Blaziken  anime   4151          Blade of the Immortal      7       1\n",
       "1  Blaziken  anime      1                   Cowboy Bebop      8       1\n",
       "2  Blaziken  anime   6702                     Fairy Tail      8       1\n",
       "3  Blaziken  anime  11061         Hunter x Hunter (2011)      9       1\n",
       "4  Blaziken  anime   8277  Hyakka Ryouran: Samurai Girls      7       1"
      ]
     },
     "execution_count": 7,
     "metadata": {},
     "output_type": "execute_result"
    }
   ],
   "source": [
    "ratings.head()"
   ]
  },
  {
   "cell_type": "markdown",
   "metadata": {
    "id": "B7vR8ISuIDSC"
   },
   "source": [
    "### Cleaning"
   ]
  },
  {
   "cell_type": "code",
   "execution_count": null,
   "metadata": {
    "colab": {
     "base_uri": "https://localhost:8080/"
    },
    "id": "k4oDVMcxZuY3",
    "outputId": "c8ccea13-ef45-4bf0-bdd5-2566d299a107"
   },
   "outputs": [
    {
     "data": {
      "text/plain": [
       "((8724217, 6), 18527, 64624)"
      ]
     },
     "execution_count": 8,
     "metadata": {},
     "output_type": "execute_result"
    }
   ],
   "source": [
    "ratings.shape, ratings.username.nunique(), ratings.title.nunique()"
   ]
  },
  {
   "cell_type": "code",
   "execution_count": null,
   "metadata": {
    "colab": {
     "base_uri": "https://localhost:8080/"
    },
    "id": "b9AJPzx1abYg",
    "outputId": "6072b35e-10b9-4cea-e5e7-7b2ddddaff5f"
   },
   "outputs": [
    {
     "data": {
      "text/plain": [
       "2    4833882\n",
       "6    2566712\n",
       "1     689398\n",
       "3     344834\n",
       "4     289363\n",
       "0         28\n",
       "Name: status, dtype: int64"
      ]
     },
     "execution_count": 9,
     "metadata": {},
     "output_type": "execute_result"
    }
   ],
   "source": [
    "ratings.status.value_counts()"
   ]
  },
  {
   "cell_type": "code",
   "execution_count": null,
   "metadata": {
    "colab": {
     "base_uri": "https://localhost:8080/"
    },
    "id": "o7s3tjOVI5OB",
    "outputId": "04cfd3d8-45b2-4ad8-b287-d46b53b1b26d"
   },
   "outputs": [
    {
     "data": {
      "text/plain": [
       "2    4833882\n",
       "6    2566712\n",
       "1     689398\n",
       "3     344834\n",
       "4     289363\n",
       "Name: status, dtype: int64"
      ]
     },
     "execution_count": 10,
     "metadata": {},
     "output_type": "execute_result"
    }
   ],
   "source": [
    "# 1) the status `0` is probably an error on the site, get rid of it\n",
    "ratings = ratings[ratings.status != 0].copy()\n",
    "ratings.status.value_counts()"
   ]
  },
  {
   "cell_type": "code",
   "execution_count": null,
   "metadata": {
    "id": "haaTNQpAYypo"
   },
   "outputs": [],
   "source": [
    "# 2) encode status as category\n",
    "ratings.status = ratings.status.astype('category')"
   ]
  },
  {
   "cell_type": "code",
   "execution_count": null,
   "metadata": {
    "colab": {
     "base_uri": "https://localhost:8080/"
    },
    "id": "JuyvCTDmFNy7",
    "outputId": "651632f1-9a30-4091-b693-f8569f76e44e"
   },
   "outputs": [
    {
     "data": {
      "text/html": [
       "<div>\n",
       "<style scoped>\n",
       "    .dataframe tbody tr th:only-of-type {\n",
       "        vertical-align: middle;\n",
       "    }\n",
       "\n",
       "    .dataframe tbody tr th {\n",
       "        vertical-align: top;\n",
       "    }\n",
       "\n",
       "    .dataframe thead th {\n",
       "        text-align: right;\n",
       "    }\n",
       "</style>\n",
       "<table border=\"1\" class=\"dataframe\">\n",
       "  <thead>\n",
       "    <tr style=\"text-align: right;\">\n",
       "      <th></th>\n",
       "      <th>username</th>\n",
       "      <th>type</th>\n",
       "      <th>id</th>\n",
       "      <th>title</th>\n",
       "      <th>score</th>\n",
       "      <th>status</th>\n",
       "    </tr>\n",
       "  </thead>\n",
       "  <tbody>\n",
       "    <tr>\n",
       "      <th>4913277</th>\n",
       "      <td>Yumerei</td>\n",
       "      <td>anime</td>\n",
       "      <td>6547</td>\n",
       "      <td>Angel Beats!</td>\n",
       "      <td>0</td>\n",
       "      <td>1</td>\n",
       "    </tr>\n",
       "    <tr>\n",
       "      <th>4913279</th>\n",
       "      <td>Yumerei</td>\n",
       "      <td>anime</td>\n",
       "      <td>14751</td>\n",
       "      <td>Bishoujo Senshi Sailor Moon Crystal</td>\n",
       "      <td>0</td>\n",
       "      <td>1</td>\n",
       "    </tr>\n",
       "    <tr>\n",
       "      <th>4913280</th>\n",
       "      <td>Yumerei</td>\n",
       "      <td>anime</td>\n",
       "      <td>31964</td>\n",
       "      <td>Boku no Hero Academia</td>\n",
       "      <td>0</td>\n",
       "      <td>1</td>\n",
       "    </tr>\n",
       "    <tr>\n",
       "      <th>4913281</th>\n",
       "      <td>Yumerei</td>\n",
       "      <td>anime</td>\n",
       "      <td>37379</td>\n",
       "      <td>Chihayafuru 3</td>\n",
       "      <td>0</td>\n",
       "      <td>1</td>\n",
       "    </tr>\n",
       "    <tr>\n",
       "      <th>4913282</th>\n",
       "      <td>Yumerei</td>\n",
       "      <td>anime</td>\n",
       "      <td>47413</td>\n",
       "      <td>Detective Conan: The Scarlet Alibi</td>\n",
       "      <td>0</td>\n",
       "      <td>1</td>\n",
       "    </tr>\n",
       "    <tr>\n",
       "      <th>...</th>\n",
       "      <td>...</td>\n",
       "      <td>...</td>\n",
       "      <td>...</td>\n",
       "      <td>...</td>\n",
       "      <td>...</td>\n",
       "      <td>...</td>\n",
       "    </tr>\n",
       "    <tr>\n",
       "      <th>8714299</th>\n",
       "      <td>PHANTOM_07</td>\n",
       "      <td>manga</td>\n",
       "      <td>87610</td>\n",
       "      <td>Tensei shitara Slime Datta Ken</td>\n",
       "      <td>8</td>\n",
       "      <td>3</td>\n",
       "    </tr>\n",
       "    <tr>\n",
       "      <th>8714300</th>\n",
       "      <td>PHANTOM_07</td>\n",
       "      <td>manga</td>\n",
       "      <td>123992</td>\n",
       "      <td>Youkoso Jitsuryoku Shijou Shugi no Kyoushitsu ...</td>\n",
       "      <td>8</td>\n",
       "      <td>3</td>\n",
       "    </tr>\n",
       "    <tr>\n",
       "      <th>8714301</th>\n",
       "      <td>PHANTOM_07</td>\n",
       "      <td>manga</td>\n",
       "      <td>35243</td>\n",
       "      <td>Haikyuu!!</td>\n",
       "      <td>0</td>\n",
       "      <td>6</td>\n",
       "    </tr>\n",
       "    <tr>\n",
       "      <th>8714302</th>\n",
       "      <td>PHANTOM_07</td>\n",
       "      <td>manga</td>\n",
       "      <td>1325</td>\n",
       "      <td>Hi no Tori (1967)</td>\n",
       "      <td>0</td>\n",
       "      <td>6</td>\n",
       "    </tr>\n",
       "    <tr>\n",
       "      <th>8714303</th>\n",
       "      <td>PHANTOM_07</td>\n",
       "      <td>manga</td>\n",
       "      <td>99007</td>\n",
       "      <td>Komi-san wa, Comyushou desu.</td>\n",
       "      <td>0</td>\n",
       "      <td>6</td>\n",
       "    </tr>\n",
       "  </tbody>\n",
       "</table>\n",
       "<p>136296 rows × 6 columns</p>\n",
       "</div>"
      ],
      "text/plain": [
       "           username   type  ...  score status\n",
       "4913277     Yumerei  anime  ...      0      1\n",
       "4913279     Yumerei  anime  ...      0      1\n",
       "4913280     Yumerei  anime  ...      0      1\n",
       "4913281     Yumerei  anime  ...      0      1\n",
       "4913282     Yumerei  anime  ...      0      1\n",
       "...             ...    ...  ...    ...    ...\n",
       "8714299  PHANTOM_07  manga  ...      8      3\n",
       "8714300  PHANTOM_07  manga  ...      8      3\n",
       "8714301  PHANTOM_07  manga  ...      0      6\n",
       "8714302  PHANTOM_07  manga  ...      0      6\n",
       "8714303  PHANTOM_07  manga  ...      0      6\n",
       "\n",
       "[136296 rows x 6 columns]"
      ]
     },
     "execution_count": 12,
     "metadata": {},
     "output_type": "execute_result"
    }
   ],
   "source": [
    "# 3) remove duplicated entries\n",
    "# (possible cause: my fault when storing scraped data)\n",
    "ratings[ratings.duplicated()]"
   ]
  },
  {
   "cell_type": "code",
   "execution_count": null,
   "metadata": {
    "colab": {
     "base_uri": "https://localhost:8080/"
    },
    "id": "IobncUYUa-W_",
    "outputId": "5cd5aab9-27bf-4add-b12b-4e08daa1236a"
   },
   "outputs": [
    {
     "data": {
      "text/html": [
       "<div>\n",
       "<style scoped>\n",
       "    .dataframe tbody tr th:only-of-type {\n",
       "        vertical-align: middle;\n",
       "    }\n",
       "\n",
       "    .dataframe tbody tr th {\n",
       "        vertical-align: top;\n",
       "    }\n",
       "\n",
       "    .dataframe thead th {\n",
       "        text-align: right;\n",
       "    }\n",
       "</style>\n",
       "<table border=\"1\" class=\"dataframe\">\n",
       "  <thead>\n",
       "    <tr style=\"text-align: right;\">\n",
       "      <th></th>\n",
       "      <th>username</th>\n",
       "      <th>type</th>\n",
       "      <th>id</th>\n",
       "      <th>title</th>\n",
       "      <th>score</th>\n",
       "      <th>status</th>\n",
       "    </tr>\n",
       "  </thead>\n",
       "  <tbody>\n",
       "    <tr>\n",
       "      <th>2620755</th>\n",
       "      <td>Yumerei</td>\n",
       "      <td>anime</td>\n",
       "      <td>6547</td>\n",
       "      <td>Angel Beats!</td>\n",
       "      <td>0</td>\n",
       "      <td>1</td>\n",
       "    </tr>\n",
       "    <tr>\n",
       "      <th>4913277</th>\n",
       "      <td>Yumerei</td>\n",
       "      <td>anime</td>\n",
       "      <td>6547</td>\n",
       "      <td>Angel Beats!</td>\n",
       "      <td>0</td>\n",
       "      <td>1</td>\n",
       "    </tr>\n",
       "  </tbody>\n",
       "</table>\n",
       "</div>"
      ],
      "text/plain": [
       "        username   type    id         title  score status\n",
       "2620755  Yumerei  anime  6547  Angel Beats!      0      1\n",
       "4913277  Yumerei  anime  6547  Angel Beats!      0      1"
      ]
     },
     "execution_count": 13,
     "metadata": {},
     "output_type": "execute_result"
    }
   ],
   "source": [
    "ratings.loc[(ratings.username == 'Yumerei') & (ratings.title == 'Angel Beats!')]"
   ]
  },
  {
   "cell_type": "code",
   "execution_count": null,
   "metadata": {
    "colab": {
     "base_uri": "https://localhost:8080/"
    },
    "id": "GCnBC1ShFNy8",
    "outputId": "20ec7d19-ce8f-46bc-9ff6-5674992c02ee"
   },
   "outputs": [
    {
     "data": {
      "text/plain": [
       "((8724189, 6), (136296, 6), (8587893, 6))"
      ]
     },
     "execution_count": 14,
     "metadata": {},
     "output_type": "execute_result"
    }
   ],
   "source": [
    "# look the comparison between non-duplicated and duplicated\n",
    "ratings.shape, ratings[ratings.duplicated()].shape, ratings[~ratings.duplicated()].shape"
   ]
  },
  {
   "cell_type": "code",
   "execution_count": null,
   "metadata": {
    "colab": {
     "base_uri": "https://localhost:8080/"
    },
    "id": "Ldbnf7O9FNy9",
    "outputId": "f6a5cd29-d4a6-4f58-8f70-f45621fd1577"
   },
   "outputs": [
    {
     "data": {
      "text/plain": [
       "(8587893, 6)"
      ]
     },
     "execution_count": 15,
     "metadata": {},
     "output_type": "execute_result"
    }
   ],
   "source": [
    "ratings = ratings[~ratings.duplicated()]\n",
    "ratings.shape"
   ]
  },
  {
   "cell_type": "code",
   "execution_count": null,
   "metadata": {
    "colab": {
     "base_uri": "https://localhost:8080/"
    },
    "id": "PGqK-l1EFNy9",
    "outputId": "c7d79368-71c3-4301-a58f-597ddd1aeaf7"
   },
   "outputs": [
    {
     "data": {
      "text/plain": [
       "False"
      ]
     },
     "execution_count": 16,
     "metadata": {},
     "output_type": "execute_result"
    }
   ],
   "source": [
    "# assuming the ratings has been deduplicated & ratings_clean cell has been ran\n",
    "any(ratings.duplicated())"
   ]
  },
  {
   "cell_type": "code",
   "execution_count": null,
   "metadata": {
    "colab": {
     "base_uri": "https://localhost:8080/"
    },
    "id": "LY0QfSvqa7Rb",
    "outputId": "8863ef96-8960-4c68-9794-b78d7f665b91"
   },
   "outputs": [
    {
     "data": {
      "text/plain": [
       "(4073966, 6)"
      ]
     },
     "execution_count": 17,
     "metadata": {},
     "output_type": "execute_result"
    }
   ],
   "source": [
    "# 4) clean the dataset from 0 ratings (including plan-to-watch status)\n",
    "\n",
    "# ratings with score 0\n",
    "ratings.loc[ratings.score == 0].shape"
   ]
  },
  {
   "cell_type": "code",
   "execution_count": null,
   "metadata": {
    "colab": {
     "base_uri": "https://localhost:8080/"
    },
    "id": "H4pMUaAYLrSA",
    "outputId": "f3b04ecf-f7d3-453d-952b-681a4959d9ca"
   },
   "outputs": [
    {
     "data": {
      "text/plain": [
       "(4513927, 6)"
      ]
     },
     "execution_count": 18,
     "metadata": {},
     "output_type": "execute_result"
    }
   ],
   "source": [
    "# clean them\n",
    "ratings_clean = ratings.loc[ratings.score != 0].copy()\n",
    "\n",
    "# resort the index\n",
    "ratings_clean.index = pd.RangeIndex(0, len(ratings_clean))\n",
    "\n",
    "ratings_clean.shape"
   ]
  },
  {
   "cell_type": "code",
   "execution_count": null,
   "metadata": {
    "id": "2of5DYyrQKWG"
   },
   "outputs": [],
   "source": [
    "# 5) duplicate in title: Manga & LN are regarded as one category in the site\n",
    "# pick the highest one among the two as the rating using max\n",
    "# https://stackoverflow.com/a/51459733/8996974"
   ]
  },
  {
   "cell_type": "code",
   "execution_count": null,
   "metadata": {
    "colab": {
     "base_uri": "https://localhost:8080/"
    },
    "id": "J93M0wF7O1kq",
    "outputId": "f20859f3-4187-4d24-b0bf-7108302fde9d"
   },
   "outputs": [
    {
     "data": {
      "text/plain": [
       "True"
      ]
     },
     "execution_count": 20,
     "metadata": {},
     "output_type": "execute_result"
    }
   ],
   "source": [
    "any(ratings_clean.duplicated(subset=['username', 'type', 'title']))"
   ]
  },
  {
   "cell_type": "code",
   "execution_count": null,
   "metadata": {
    "colab": {
     "base_uri": "https://localhost:8080/"
    },
    "id": "aBNXJQSSVI-K",
    "outputId": "b4dafcb4-eaff-4373-f361-f03502ab79c4"
   },
   "outputs": [
    {
     "data": {
      "text/plain": [
       "(8115, 3263)"
      ]
     },
     "execution_count": 21,
     "metadata": {},
     "output_type": "execute_result"
    }
   ],
   "source": [
    "# there's duplicate with different score given\n",
    "sum(ratings_clean.duplicated(subset=['username', 'type', 'title'])), sum(ratings_clean.duplicated(subset=['username', 'type', 'title', 'score']))"
   ]
  },
  {
   "cell_type": "code",
   "execution_count": null,
   "metadata": {
    "colab": {
     "base_uri": "https://localhost:8080/"
    },
    "id": "EiEIEdQZPDFv",
    "outputId": "845c9444-897b-4131-dad2-52ba2e41a42a"
   },
   "outputs": [
    {
     "data": {
      "text/html": [
       "<div>\n",
       "<style scoped>\n",
       "    .dataframe tbody tr th:only-of-type {\n",
       "        vertical-align: middle;\n",
       "    }\n",
       "\n",
       "    .dataframe tbody tr th {\n",
       "        vertical-align: top;\n",
       "    }\n",
       "\n",
       "    .dataframe thead th {\n",
       "        text-align: right;\n",
       "    }\n",
       "</style>\n",
       "<table border=\"1\" class=\"dataframe\">\n",
       "  <thead>\n",
       "    <tr style=\"text-align: right;\">\n",
       "      <th></th>\n",
       "      <th>username</th>\n",
       "      <th>type</th>\n",
       "      <th>id</th>\n",
       "      <th>title</th>\n",
       "      <th>score</th>\n",
       "      <th>status</th>\n",
       "    </tr>\n",
       "  </thead>\n",
       "  <tbody>\n",
       "    <tr>\n",
       "      <th>2668639</th>\n",
       "      <td>BlueAtomix</td>\n",
       "      <td>manga</td>\n",
       "      <td>57201</td>\n",
       "      <td>Rakudai Kishi no Cavalry</td>\n",
       "      <td>10</td>\n",
       "      <td>1</td>\n",
       "    </tr>\n",
       "    <tr>\n",
       "      <th>2668676</th>\n",
       "      <td>BlueAtomix</td>\n",
       "      <td>manga</td>\n",
       "      <td>70061</td>\n",
       "      <td>Rakudai Kishi no Cavalry</td>\n",
       "      <td>10</td>\n",
       "      <td>2</td>\n",
       "    </tr>\n",
       "  </tbody>\n",
       "</table>\n",
       "</div>"
      ],
      "text/plain": [
       "           username   type     id                     title  score status\n",
       "2668639  BlueAtomix  manga  57201  Rakudai Kishi no Cavalry     10      1\n",
       "2668676  BlueAtomix  manga  70061  Rakudai Kishi no Cavalry     10      2"
      ]
     },
     "execution_count": 22,
     "metadata": {},
     "output_type": "execute_result"
    }
   ],
   "source": [
    "# example of such duplicates\n",
    "# https://myanimelist.net/manga/57201\n",
    "# https://myanimelist.net/manga/70061\n",
    "f = (ratings_clean.username == 'BlueAtomix') & \\\n",
    "    (ratings_clean['type'] == 'manga') & \\\n",
    "    (ratings_clean.title == 'Rakudai Kishi no Cavalry')\n",
    "\n",
    "ratings_clean[f]"
   ]
  },
  {
   "cell_type": "code",
   "execution_count": null,
   "metadata": {
    "colab": {
     "base_uri": "https://localhost:8080/"
    },
    "id": "JHc2aODGSP0w",
    "outputId": "fd357415-16f2-4773-d2dd-0ec6c339fda2"
   },
   "outputs": [
    {
     "data": {
      "text/plain": [
       "(4513927, 6)"
      ]
     },
     "execution_count": 23,
     "metadata": {},
     "output_type": "execute_result"
    }
   ],
   "source": [
    "# shape before dropping duplicates\n",
    "ratings_clean.shape"
   ]
  },
  {
   "cell_type": "code",
   "execution_count": null,
   "metadata": {
    "colab": {
     "base_uri": "https://localhost:8080/"
    },
    "id": "AzAe8hQKSyMQ",
    "outputId": "1c0f8dc3-9eae-4bda-d320-25bd5d020480"
   },
   "outputs": [
    {
     "data": {
      "text/plain": [
       "(4505812, 6)"
      ]
     },
     "execution_count": 24,
     "metadata": {},
     "output_type": "execute_result"
    }
   ],
   "source": [
    "ratings_clean = ratings_clean.sort_values('score') \\\n",
    "                             .drop_duplicates(['username', 'type', 'title'],\n",
    "                                              keep='last')\n",
    "\n",
    "# shape after dropping duplicates\n",
    "ratings_clean.shape"
   ]
  },
  {
   "cell_type": "markdown",
   "metadata": {
    "id": "YlNC9icOEary"
   },
   "source": [
    "### EDA"
   ]
  },
  {
   "cell_type": "markdown",
   "metadata": {
    "id": "1EBrb-RtWK8j"
   },
   "source": [
    "##### Basic numerics"
   ]
  },
  {
   "cell_type": "code",
   "execution_count": null,
   "metadata": {
    "colab": {
     "base_uri": "https://localhost:8080/"
    },
    "id": "kTdEdzPdQ7L7",
    "outputId": "c4e18dbe-38db-4692-da30-7c8fb8a96945"
   },
   "outputs": [
    {
     "name": "stdout",
     "output_type": "stream",
     "text": [
      "<class 'pandas.core.frame.DataFrame'>\n",
      "Int64Index: 8587893 entries, 0 to 8724216\n",
      "Data columns (total 6 columns):\n",
      " #   Column    Dtype   \n",
      "---  ------    -----   \n",
      " 0   username  object  \n",
      " 1   type      object  \n",
      " 2   id        int64   \n",
      " 3   title     object  \n",
      " 4   score     int64   \n",
      " 5   status    category\n",
      "dtypes: category(1), int64(2), object(3)\n",
      "memory usage: 401.3+ MB\n"
     ]
    }
   ],
   "source": [
    "# 3.915.953 entries\n",
    "ratings.info()"
   ]
  },
  {
   "cell_type": "code",
   "execution_count": null,
   "metadata": {
    "colab": {
     "base_uri": "https://localhost:8080/"
    },
    "id": "sqjWAC27rtAB",
    "outputId": "a68a4e59-c475-4578-fb42-8f2c14cd5dbb"
   },
   "outputs": [
    {
     "data": {
      "text/plain": [
       "18527"
      ]
     },
     "execution_count": 26,
     "metadata": {},
     "output_type": "execute_result"
    }
   ],
   "source": [
    "# number of unique users: 10.117\n",
    "ratings.username.nunique()"
   ]
  },
  {
   "cell_type": "code",
   "execution_count": null,
   "metadata": {
    "colab": {
     "base_uri": "https://localhost:8080/"
    },
    "id": "yLvPjBeMM0nA",
    "outputId": "1be01919-28bc-4ccc-e06f-802cea114aca"
   },
   "outputs": [
    {
     "data": {
      "text/plain": [
       "64624"
      ]
     },
     "execution_count": 27,
     "metadata": {},
     "output_type": "execute_result"
    }
   ],
   "source": [
    "# number of unique titles: 57.561\n",
    "ratings.title.nunique()"
   ]
  },
  {
   "cell_type": "code",
   "execution_count": null,
   "metadata": {
    "colab": {
     "base_uri": "https://localhost:8080/"
    },
    "id": "m5ARxpaaIUOw",
    "outputId": "b611cc47-76a8-4072-ee7e-6cb610eb87ca"
   },
   "outputs": [
    {
     "data": {
      "text/plain": [
       "1916059"
      ]
     },
     "execution_count": 19,
     "metadata": {},
     "output_type": "execute_result"
    }
   ],
   "source": [
    "# actually rated titles: 1.933.280\n",
    "len(ratings[ratings.score != 0])"
   ]
  },
  {
   "cell_type": "markdown",
   "metadata": {
    "id": "ykvcxbMwWPG3"
   },
   "source": [
    "##### Ratings, by users"
   ]
  },
  {
   "cell_type": "code",
   "execution_count": null,
   "metadata": {
    "colab": {
     "base_uri": "https://localhost:8080/",
     "height": 455
    },
    "id": "a_uElHqFNONV",
    "outputId": "a9564ddb-11d0-4ac7-8ce7-f0f2ed2345b8"
   },
   "outputs": [
    {
     "data": {
      "text/html": [
       "<div>\n",
       "<style scoped>\n",
       "    .dataframe tbody tr th:only-of-type {\n",
       "        vertical-align: middle;\n",
       "    }\n",
       "\n",
       "    .dataframe tbody tr th {\n",
       "        vertical-align: top;\n",
       "    }\n",
       "\n",
       "    .dataframe thead th {\n",
       "        text-align: right;\n",
       "    }\n",
       "</style>\n",
       "<table border=\"1\" class=\"dataframe\">\n",
       "  <thead>\n",
       "    <tr style=\"text-align: right;\">\n",
       "      <th></th>\n",
       "      <th>min</th>\n",
       "      <th>max</th>\n",
       "      <th>mean</th>\n",
       "    </tr>\n",
       "    <tr>\n",
       "      <th>username</th>\n",
       "      <th></th>\n",
       "      <th></th>\n",
       "      <th></th>\n",
       "    </tr>\n",
       "  </thead>\n",
       "  <tbody>\n",
       "    <tr>\n",
       "      <th>--ALEX--</th>\n",
       "      <td>0</td>\n",
       "      <td>10</td>\n",
       "      <td>6.296333</td>\n",
       "    </tr>\n",
       "    <tr>\n",
       "      <th>--Nightmare--</th>\n",
       "      <td>3</td>\n",
       "      <td>10</td>\n",
       "      <td>7.139630</td>\n",
       "    </tr>\n",
       "    <tr>\n",
       "      <th>--William--</th>\n",
       "      <td>0</td>\n",
       "      <td>10</td>\n",
       "      <td>4.753623</td>\n",
       "    </tr>\n",
       "    <tr>\n",
       "      <th>--Xerxes--</th>\n",
       "      <td>0</td>\n",
       "      <td>10</td>\n",
       "      <td>4.232804</td>\n",
       "    </tr>\n",
       "    <tr>\n",
       "      <th>-Arnheid-</th>\n",
       "      <td>0</td>\n",
       "      <td>10</td>\n",
       "      <td>7.039548</td>\n",
       "    </tr>\n",
       "    <tr>\n",
       "      <th>...</th>\n",
       "      <td>...</td>\n",
       "      <td>...</td>\n",
       "      <td>...</td>\n",
       "    </tr>\n",
       "    <tr>\n",
       "      <th>zyume</th>\n",
       "      <td>0</td>\n",
       "      <td>10</td>\n",
       "      <td>5.289720</td>\n",
       "    </tr>\n",
       "    <tr>\n",
       "      <th>zyxqupalef</th>\n",
       "      <td>0</td>\n",
       "      <td>10</td>\n",
       "      <td>4.926573</td>\n",
       "    </tr>\n",
       "    <tr>\n",
       "      <th>zztag146</th>\n",
       "      <td>0</td>\n",
       "      <td>0</td>\n",
       "      <td>0.000000</td>\n",
       "    </tr>\n",
       "    <tr>\n",
       "      <th>zzzXenon</th>\n",
       "      <td>0</td>\n",
       "      <td>10</td>\n",
       "      <td>4.874332</td>\n",
       "    </tr>\n",
       "    <tr>\n",
       "      <th>zzzeeeeeeeeeeeee</th>\n",
       "      <td>0</td>\n",
       "      <td>10</td>\n",
       "      <td>2.770808</td>\n",
       "    </tr>\n",
       "  </tbody>\n",
       "</table>\n",
       "<p>10117 rows × 3 columns</p>\n",
       "</div>"
      ],
      "text/plain": [
       "                  min  max      mean\n",
       "username                            \n",
       "--ALEX--            0   10  6.296333\n",
       "--Nightmare--       3   10  7.139630\n",
       "--William--         0   10  4.753623\n",
       "--Xerxes--          0   10  4.232804\n",
       "-Arnheid-           0   10  7.039548\n",
       "...               ...  ...       ...\n",
       "zyume               0   10  5.289720\n",
       "zyxqupalef          0   10  4.926573\n",
       "zztag146            0    0  0.000000\n",
       "zzzXenon            0   10  4.874332\n",
       "zzzeeeeeeeeeeeee    0   10  2.770808\n",
       "\n",
       "[10117 rows x 3 columns]"
      ]
     },
     "execution_count": 16,
     "metadata": {},
     "output_type": "execute_result"
    }
   ],
   "source": [
    "ratings.groupby('username')['score'].agg(['min', 'max', 'mean'])"
   ]
  },
  {
   "cell_type": "code",
   "execution_count": null,
   "metadata": {
    "colab": {
     "base_uri": "https://localhost:8080/",
     "height": 1000
    },
    "id": "wxsVEnLtN1gF",
    "outputId": "92d444cf-1e69-46dd-e3bc-444895f063d6"
   },
   "outputs": [
    {
     "data": {
      "text/html": [
       "<div>\n",
       "<style scoped>\n",
       "    .dataframe tbody tr th:only-of-type {\n",
       "        vertical-align: middle;\n",
       "    }\n",
       "\n",
       "    .dataframe tbody tr th {\n",
       "        vertical-align: top;\n",
       "    }\n",
       "\n",
       "    .dataframe thead th {\n",
       "        text-align: right;\n",
       "    }\n",
       "</style>\n",
       "<table border=\"1\" class=\"dataframe\">\n",
       "  <thead>\n",
       "    <tr style=\"text-align: right;\">\n",
       "      <th></th>\n",
       "      <th>username</th>\n",
       "      <th>type</th>\n",
       "      <th>id</th>\n",
       "      <th>title</th>\n",
       "      <th>score</th>\n",
       "      <th>status</th>\n",
       "    </tr>\n",
       "  </thead>\n",
       "  <tbody>\n",
       "    <tr>\n",
       "      <th>3829685</th>\n",
       "      <td>zztag146</td>\n",
       "      <td>anime</td>\n",
       "      <td>41587</td>\n",
       "      <td>Boku no Hero Academia 5th Season</td>\n",
       "      <td>0</td>\n",
       "      <td>1</td>\n",
       "    </tr>\n",
       "    <tr>\n",
       "      <th>3829686</th>\n",
       "      <td>zztag146</td>\n",
       "      <td>anime</td>\n",
       "      <td>6702</td>\n",
       "      <td>Fairy Tail</td>\n",
       "      <td>0</td>\n",
       "      <td>1</td>\n",
       "    </tr>\n",
       "    <tr>\n",
       "      <th>3829687</th>\n",
       "      <td>zztag146</td>\n",
       "      <td>anime</td>\n",
       "      <td>20</td>\n",
       "      <td>Naruto</td>\n",
       "      <td>0</td>\n",
       "      <td>1</td>\n",
       "    </tr>\n",
       "    <tr>\n",
       "      <th>3829688</th>\n",
       "      <td>zztag146</td>\n",
       "      <td>anime</td>\n",
       "      <td>527</td>\n",
       "      <td>Pokemon</td>\n",
       "      <td>0</td>\n",
       "      <td>1</td>\n",
       "    </tr>\n",
       "    <tr>\n",
       "      <th>3829689</th>\n",
       "      <td>zztag146</td>\n",
       "      <td>anime</td>\n",
       "      <td>19291</td>\n",
       "      <td>Pokemon XY</td>\n",
       "      <td>0</td>\n",
       "      <td>1</td>\n",
       "    </tr>\n",
       "    <tr>\n",
       "      <th>3829690</th>\n",
       "      <td>zztag146</td>\n",
       "      <td>anime</td>\n",
       "      <td>16498</td>\n",
       "      <td>Shingeki no Kyojin</td>\n",
       "      <td>0</td>\n",
       "      <td>1</td>\n",
       "    </tr>\n",
       "    <tr>\n",
       "      <th>3829691</th>\n",
       "      <td>zztag146</td>\n",
       "      <td>anime</td>\n",
       "      <td>39195</td>\n",
       "      <td>Beastars</td>\n",
       "      <td>0</td>\n",
       "      <td>2</td>\n",
       "    </tr>\n",
       "    <tr>\n",
       "      <th>3829692</th>\n",
       "      <td>zztag146</td>\n",
       "      <td>anime</td>\n",
       "      <td>40935</td>\n",
       "      <td>Beastars 2nd Season</td>\n",
       "      <td>0</td>\n",
       "      <td>2</td>\n",
       "    </tr>\n",
       "    <tr>\n",
       "      <th>3829693</th>\n",
       "      <td>zztag146</td>\n",
       "      <td>anime</td>\n",
       "      <td>31964</td>\n",
       "      <td>Boku no Hero Academia</td>\n",
       "      <td>0</td>\n",
       "      <td>2</td>\n",
       "    </tr>\n",
       "    <tr>\n",
       "      <th>3829694</th>\n",
       "      <td>zztag146</td>\n",
       "      <td>anime</td>\n",
       "      <td>33486</td>\n",
       "      <td>Boku no Hero Academia 2nd Season</td>\n",
       "      <td>0</td>\n",
       "      <td>2</td>\n",
       "    </tr>\n",
       "    <tr>\n",
       "      <th>3829695</th>\n",
       "      <td>zztag146</td>\n",
       "      <td>anime</td>\n",
       "      <td>35262</td>\n",
       "      <td>Boku no Hero Academia 2nd Season: Hero Note</td>\n",
       "      <td>0</td>\n",
       "      <td>2</td>\n",
       "    </tr>\n",
       "    <tr>\n",
       "      <th>3829696</th>\n",
       "      <td>zztag146</td>\n",
       "      <td>anime</td>\n",
       "      <td>36456</td>\n",
       "      <td>Boku no Hero Academia 3rd Season</td>\n",
       "      <td>0</td>\n",
       "      <td>2</td>\n",
       "    </tr>\n",
       "    <tr>\n",
       "      <th>3829697</th>\n",
       "      <td>zztag146</td>\n",
       "      <td>anime</td>\n",
       "      <td>38408</td>\n",
       "      <td>Boku no Hero Academia 4th Season</td>\n",
       "      <td>0</td>\n",
       "      <td>2</td>\n",
       "    </tr>\n",
       "    <tr>\n",
       "      <th>3829698</th>\n",
       "      <td>zztag146</td>\n",
       "      <td>anime</td>\n",
       "      <td>36896</td>\n",
       "      <td>Boku no Hero Academia the Movie 1: Futari no Hero</td>\n",
       "      <td>0</td>\n",
       "      <td>2</td>\n",
       "    </tr>\n",
       "    <tr>\n",
       "      <th>3829699</th>\n",
       "      <td>zztag146</td>\n",
       "      <td>anime</td>\n",
       "      <td>39565</td>\n",
       "      <td>Boku no Hero Academia the Movie 2: Heroes:Rising</td>\n",
       "      <td>0</td>\n",
       "      <td>2</td>\n",
       "    </tr>\n",
       "    <tr>\n",
       "      <th>3829700</th>\n",
       "      <td>zztag146</td>\n",
       "      <td>anime</td>\n",
       "      <td>42603</td>\n",
       "      <td>Boku no Hero Academia: Ikinokore! Kesshi no Su...</td>\n",
       "      <td>0</td>\n",
       "      <td>2</td>\n",
       "    </tr>\n",
       "    <tr>\n",
       "      <th>3829701</th>\n",
       "      <td>zztag146</td>\n",
       "      <td>anime</td>\n",
       "      <td>1535</td>\n",
       "      <td>Death Note</td>\n",
       "      <td>0</td>\n",
       "      <td>2</td>\n",
       "    </tr>\n",
       "    <tr>\n",
       "      <th>3829702</th>\n",
       "      <td>zztag146</td>\n",
       "      <td>anime</td>\n",
       "      <td>39533</td>\n",
       "      <td>Given</td>\n",
       "      <td>0</td>\n",
       "      <td>2</td>\n",
       "    </tr>\n",
       "    <tr>\n",
       "      <th>3829703</th>\n",
       "      <td>zztag146</td>\n",
       "      <td>anime</td>\n",
       "      <td>40421</td>\n",
       "      <td>Given Movie</td>\n",
       "      <td>0</td>\n",
       "      <td>2</td>\n",
       "    </tr>\n",
       "    <tr>\n",
       "      <th>3829704</th>\n",
       "      <td>zztag146</td>\n",
       "      <td>anime</td>\n",
       "      <td>20583</td>\n",
       "      <td>Haikyuu!!</td>\n",
       "      <td>0</td>\n",
       "      <td>2</td>\n",
       "    </tr>\n",
       "    <tr>\n",
       "      <th>3829705</th>\n",
       "      <td>zztag146</td>\n",
       "      <td>anime</td>\n",
       "      <td>32935</td>\n",
       "      <td>Haikyuu!!: Karasuno Koukou vs. Shiratorizawa G...</td>\n",
       "      <td>0</td>\n",
       "      <td>2</td>\n",
       "    </tr>\n",
       "    <tr>\n",
       "      <th>3829706</th>\n",
       "      <td>zztag146</td>\n",
       "      <td>anime</td>\n",
       "      <td>431</td>\n",
       "      <td>Howl no Ugoku Shiro</td>\n",
       "      <td>0</td>\n",
       "      <td>2</td>\n",
       "    </tr>\n",
       "    <tr>\n",
       "      <th>3829707</th>\n",
       "      <td>zztag146</td>\n",
       "      <td>anime</td>\n",
       "      <td>38000</td>\n",
       "      <td>Kimetsu no Yaiba</td>\n",
       "      <td>0</td>\n",
       "      <td>2</td>\n",
       "    </tr>\n",
       "    <tr>\n",
       "      <th>3829708</th>\n",
       "      <td>zztag146</td>\n",
       "      <td>anime</td>\n",
       "      <td>40456</td>\n",
       "      <td>Kimetsu no Yaiba Movie: Mugen Ressha-hen</td>\n",
       "      <td>0</td>\n",
       "      <td>2</td>\n",
       "    </tr>\n",
       "    <tr>\n",
       "      <th>3829709</th>\n",
       "      <td>zztag146</td>\n",
       "      <td>anime</td>\n",
       "      <td>28851</td>\n",
       "      <td>Koe no Katachi</td>\n",
       "      <td>0</td>\n",
       "      <td>2</td>\n",
       "    </tr>\n",
       "    <tr>\n",
       "      <th>3829710</th>\n",
       "      <td>zztag146</td>\n",
       "      <td>anime</td>\n",
       "      <td>4898</td>\n",
       "      <td>Kuroshitsuji</td>\n",
       "      <td>0</td>\n",
       "      <td>2</td>\n",
       "    </tr>\n",
       "    <tr>\n",
       "      <th>3829711</th>\n",
       "      <td>zztag146</td>\n",
       "      <td>anime</td>\n",
       "      <td>6707</td>\n",
       "      <td>Kuroshitsuji II</td>\n",
       "      <td>0</td>\n",
       "      <td>2</td>\n",
       "    </tr>\n",
       "    <tr>\n",
       "      <th>3829712</th>\n",
       "      <td>zztag146</td>\n",
       "      <td>anime</td>\n",
       "      <td>9136</td>\n",
       "      <td>Kuroshitsuji II Specials</td>\n",
       "      <td>0</td>\n",
       "      <td>2</td>\n",
       "    </tr>\n",
       "    <tr>\n",
       "      <th>3829713</th>\n",
       "      <td>zztag146</td>\n",
       "      <td>anime</td>\n",
       "      <td>31812</td>\n",
       "      <td>Kuroshitsuji Movie: Book of the Atlantic</td>\n",
       "      <td>0</td>\n",
       "      <td>2</td>\n",
       "    </tr>\n",
       "    <tr>\n",
       "      <th>3829714</th>\n",
       "      <td>zztag146</td>\n",
       "      <td>anime</td>\n",
       "      <td>22145</td>\n",
       "      <td>Kuroshitsuji: Book of Circus</td>\n",
       "      <td>0</td>\n",
       "      <td>2</td>\n",
       "    </tr>\n",
       "    <tr>\n",
       "      <th>3829715</th>\n",
       "      <td>zztag146</td>\n",
       "      <td>anime</td>\n",
       "      <td>23317</td>\n",
       "      <td>Kuroshitsuji: Book of Murder</td>\n",
       "      <td>0</td>\n",
       "      <td>2</td>\n",
       "    </tr>\n",
       "    <tr>\n",
       "      <th>3829716</th>\n",
       "      <td>zztag146</td>\n",
       "      <td>anime</td>\n",
       "      <td>6793</td>\n",
       "      <td>Kuroshitsuji: Sono Shitsuji, Kougyou</td>\n",
       "      <td>0</td>\n",
       "      <td>2</td>\n",
       "    </tr>\n",
       "    <tr>\n",
       "      <th>3829717</th>\n",
       "      <td>zztag146</td>\n",
       "      <td>anime</td>\n",
       "      <td>853</td>\n",
       "      <td>Ouran Koukou Host Club</td>\n",
       "      <td>0</td>\n",
       "      <td>2</td>\n",
       "    </tr>\n",
       "    <tr>\n",
       "      <th>3829718</th>\n",
       "      <td>zztag146</td>\n",
       "      <td>anime</td>\n",
       "      <td>2201</td>\n",
       "      <td>Pokemon Movie 09: Pokemon Ranger to Umi no Ouj...</td>\n",
       "      <td>0</td>\n",
       "      <td>2</td>\n",
       "    </tr>\n",
       "    <tr>\n",
       "      <th>3829719</th>\n",
       "      <td>zztag146</td>\n",
       "      <td>anime</td>\n",
       "      <td>4910</td>\n",
       "      <td>Pokemon: Pikachu no Wanpaku Island</td>\n",
       "      <td>0</td>\n",
       "      <td>2</td>\n",
       "    </tr>\n",
       "    <tr>\n",
       "      <th>3829720</th>\n",
       "      <td>zztag146</td>\n",
       "      <td>anime</td>\n",
       "      <td>199</td>\n",
       "      <td>Sen to Chihiro no Kamikakushi</td>\n",
       "      <td>0</td>\n",
       "      <td>2</td>\n",
       "    </tr>\n",
       "    <tr>\n",
       "      <th>3829721</th>\n",
       "      <td>zztag146</td>\n",
       "      <td>anime</td>\n",
       "      <td>523</td>\n",
       "      <td>Tonari no Totoro</td>\n",
       "      <td>0</td>\n",
       "      <td>2</td>\n",
       "    </tr>\n",
       "    <tr>\n",
       "      <th>3829722</th>\n",
       "      <td>zztag146</td>\n",
       "      <td>anime</td>\n",
       "      <td>37779</td>\n",
       "      <td>Yakusoku no Neverland</td>\n",
       "      <td>0</td>\n",
       "      <td>2</td>\n",
       "    </tr>\n",
       "    <tr>\n",
       "      <th>3829723</th>\n",
       "      <td>zztag146</td>\n",
       "      <td>anime</td>\n",
       "      <td>32995</td>\n",
       "      <td>Yuri!!! on Ice</td>\n",
       "      <td>0</td>\n",
       "      <td>2</td>\n",
       "    </tr>\n",
       "    <tr>\n",
       "      <th>3829724</th>\n",
       "      <td>zztag146</td>\n",
       "      <td>anime</td>\n",
       "      <td>36649</td>\n",
       "      <td>Banana Fish</td>\n",
       "      <td>0</td>\n",
       "      <td>6</td>\n",
       "    </tr>\n",
       "    <tr>\n",
       "      <th>3829725</th>\n",
       "      <td>zztag146</td>\n",
       "      <td>anime</td>\n",
       "      <td>11061</td>\n",
       "      <td>Hunter x Hunter (2011)</td>\n",
       "      <td>0</td>\n",
       "      <td>6</td>\n",
       "    </tr>\n",
       "    <tr>\n",
       "      <th>3829726</th>\n",
       "      <td>zztag146</td>\n",
       "      <td>anime</td>\n",
       "      <td>42923</td>\n",
       "      <td>SK∞</td>\n",
       "      <td>0</td>\n",
       "      <td>6</td>\n",
       "    </tr>\n",
       "    <tr>\n",
       "      <th>3829727</th>\n",
       "      <td>zztag146</td>\n",
       "      <td>anime</td>\n",
       "      <td>43299</td>\n",
       "      <td>Wonder Egg Priority</td>\n",
       "      <td>0</td>\n",
       "      <td>6</td>\n",
       "    </tr>\n",
       "    <tr>\n",
       "      <th>3829728</th>\n",
       "      <td>zztag146</td>\n",
       "      <td>anime</td>\n",
       "      <td>48614</td>\n",
       "      <td>Wonder Egg Priority Special</td>\n",
       "      <td>0</td>\n",
       "      <td>6</td>\n",
       "    </tr>\n",
       "    <tr>\n",
       "      <th>3829729</th>\n",
       "      <td>zztag146</td>\n",
       "      <td>manga</td>\n",
       "      <td>103701</td>\n",
       "      <td>Beastars</td>\n",
       "      <td>0</td>\n",
       "      <td>1</td>\n",
       "    </tr>\n",
       "    <tr>\n",
       "      <th>3829730</th>\n",
       "      <td>zztag146</td>\n",
       "      <td>manga</td>\n",
       "      <td>75989</td>\n",
       "      <td>Boku no Hero Academia</td>\n",
       "      <td>0</td>\n",
       "      <td>1</td>\n",
       "    </tr>\n",
       "    <tr>\n",
       "      <th>3829731</th>\n",
       "      <td>zztag146</td>\n",
       "      <td>manga</td>\n",
       "      <td>94110</td>\n",
       "      <td>Boku no Hero Academia Smash!</td>\n",
       "      <td>0</td>\n",
       "      <td>1</td>\n",
       "    </tr>\n",
       "    <tr>\n",
       "      <th>3829732</th>\n",
       "      <td>zztag146</td>\n",
       "      <td>manga</td>\n",
       "      <td>120881</td>\n",
       "      <td>Boku no Hero Academia: Team Up Mission</td>\n",
       "      <td>0</td>\n",
       "      <td>1</td>\n",
       "    </tr>\n",
       "    <tr>\n",
       "      <th>3829733</th>\n",
       "      <td>zztag146</td>\n",
       "      <td>manga</td>\n",
       "      <td>35243</td>\n",
       "      <td>Haikyuu!!</td>\n",
       "      <td>0</td>\n",
       "      <td>1</td>\n",
       "    </tr>\n",
       "    <tr>\n",
       "      <th>3829734</th>\n",
       "      <td>zztag146</td>\n",
       "      <td>manga</td>\n",
       "      <td>96792</td>\n",
       "      <td>Kimetsu no Yaiba</td>\n",
       "      <td>0</td>\n",
       "      <td>1</td>\n",
       "    </tr>\n",
       "    <tr>\n",
       "      <th>3829735</th>\n",
       "      <td>zztag146</td>\n",
       "      <td>manga</td>\n",
       "      <td>3866</td>\n",
       "      <td>Kuroshitsuji</td>\n",
       "      <td>0</td>\n",
       "      <td>1</td>\n",
       "    </tr>\n",
       "    <tr>\n",
       "      <th>3829736</th>\n",
       "      <td>zztag146</td>\n",
       "      <td>manga</td>\n",
       "      <td>30</td>\n",
       "      <td>Ouran Koukou Host Club</td>\n",
       "      <td>0</td>\n",
       "      <td>1</td>\n",
       "    </tr>\n",
       "    <tr>\n",
       "      <th>3829737</th>\n",
       "      <td>zztag146</td>\n",
       "      <td>manga</td>\n",
       "      <td>100128</td>\n",
       "      <td>Yakusoku no Neverland</td>\n",
       "      <td>0</td>\n",
       "      <td>1</td>\n",
       "    </tr>\n",
       "  </tbody>\n",
       "</table>\n",
       "</div>"
      ],
      "text/plain": [
       "         username   type  ...  score status\n",
       "3829685  zztag146  anime  ...      0      1\n",
       "3829686  zztag146  anime  ...      0      1\n",
       "3829687  zztag146  anime  ...      0      1\n",
       "3829688  zztag146  anime  ...      0      1\n",
       "3829689  zztag146  anime  ...      0      1\n",
       "3829690  zztag146  anime  ...      0      1\n",
       "3829691  zztag146  anime  ...      0      2\n",
       "3829692  zztag146  anime  ...      0      2\n",
       "3829693  zztag146  anime  ...      0      2\n",
       "3829694  zztag146  anime  ...      0      2\n",
       "3829695  zztag146  anime  ...      0      2\n",
       "3829696  zztag146  anime  ...      0      2\n",
       "3829697  zztag146  anime  ...      0      2\n",
       "3829698  zztag146  anime  ...      0      2\n",
       "3829699  zztag146  anime  ...      0      2\n",
       "3829700  zztag146  anime  ...      0      2\n",
       "3829701  zztag146  anime  ...      0      2\n",
       "3829702  zztag146  anime  ...      0      2\n",
       "3829703  zztag146  anime  ...      0      2\n",
       "3829704  zztag146  anime  ...      0      2\n",
       "3829705  zztag146  anime  ...      0      2\n",
       "3829706  zztag146  anime  ...      0      2\n",
       "3829707  zztag146  anime  ...      0      2\n",
       "3829708  zztag146  anime  ...      0      2\n",
       "3829709  zztag146  anime  ...      0      2\n",
       "3829710  zztag146  anime  ...      0      2\n",
       "3829711  zztag146  anime  ...      0      2\n",
       "3829712  zztag146  anime  ...      0      2\n",
       "3829713  zztag146  anime  ...      0      2\n",
       "3829714  zztag146  anime  ...      0      2\n",
       "3829715  zztag146  anime  ...      0      2\n",
       "3829716  zztag146  anime  ...      0      2\n",
       "3829717  zztag146  anime  ...      0      2\n",
       "3829718  zztag146  anime  ...      0      2\n",
       "3829719  zztag146  anime  ...      0      2\n",
       "3829720  zztag146  anime  ...      0      2\n",
       "3829721  zztag146  anime  ...      0      2\n",
       "3829722  zztag146  anime  ...      0      2\n",
       "3829723  zztag146  anime  ...      0      2\n",
       "3829724  zztag146  anime  ...      0      6\n",
       "3829725  zztag146  anime  ...      0      6\n",
       "3829726  zztag146  anime  ...      0      6\n",
       "3829727  zztag146  anime  ...      0      6\n",
       "3829728  zztag146  anime  ...      0      6\n",
       "3829729  zztag146  manga  ...      0      1\n",
       "3829730  zztag146  manga  ...      0      1\n",
       "3829731  zztag146  manga  ...      0      1\n",
       "3829732  zztag146  manga  ...      0      1\n",
       "3829733  zztag146  manga  ...      0      1\n",
       "3829734  zztag146  manga  ...      0      1\n",
       "3829735  zztag146  manga  ...      0      1\n",
       "3829736  zztag146  manga  ...      0      1\n",
       "3829737  zztag146  manga  ...      0      1\n",
       "\n",
       "[53 rows x 6 columns]"
      ]
     },
     "execution_count": 17,
     "metadata": {},
     "output_type": "execute_result"
    }
   ],
   "source": [
    "# example of users who haven't rated anything, but have a list (cold start)\n",
    "ratings[ratings.username == 'zztag146']"
   ]
  },
  {
   "cell_type": "code",
   "execution_count": null,
   "metadata": {
    "colab": {
     "base_uri": "https://localhost:8080/"
    },
    "id": "kt7RDKnXOaIF",
    "outputId": "0766d0d6-b00f-4c85-a1f9-23aa493e6f21"
   },
   "outputs": [
    {
     "data": {
      "text/plain": [
       "979"
      ]
     },
     "execution_count": 28,
     "metadata": {},
     "output_type": "execute_result"
    }
   ],
   "source": [
    "# how many haven't rated anything?\n",
    "sum(ratings.groupby('username')['score'].agg('mean') == 0)  # adding boolean value"
   ]
  },
  {
   "cell_type": "markdown",
   "metadata": {
    "id": "oJDr2PWMRruM"
   },
   "source": [
    "##### Ratings vs. Ratings Clean"
   ]
  },
  {
   "cell_type": "code",
   "execution_count": null,
   "metadata": {
    "colab": {
     "base_uri": "https://localhost:8080/"
    },
    "id": "iV8A6I9gWhv7",
    "outputId": "7f0337ed-0fa0-486d-d81d-5dcf34f80f57"
   },
   "outputs": [
    {
     "data": {
      "text/plain": [
       "(18527, 64624)"
      ]
     },
     "execution_count": 29,
     "metadata": {},
     "output_type": "execute_result"
    }
   ],
   "source": [
    "ratings.username.nunique(), ratings.title.nunique()"
   ]
  },
  {
   "cell_type": "code",
   "execution_count": null,
   "metadata": {
    "colab": {
     "base_uri": "https://localhost:8080/"
    },
    "id": "CSv3LpmPMN2p",
    "outputId": "a23c5d63-e6f7-4021-d33d-a408436b8031"
   },
   "outputs": [
    {
     "data": {
      "text/plain": [
       "(17548, 47519)"
      ]
     },
     "execution_count": 30,
     "metadata": {},
     "output_type": "execute_result"
    }
   ],
   "source": [
    "# down 700 users, 20k titles\n",
    "ratings_clean.username.nunique(), ratings_clean.title.nunique()"
   ]
  },
  {
   "cell_type": "markdown",
   "metadata": {
    "id": "jCVmGMLcW0Lm"
   },
   "source": [
    "##### Clean user scores"
   ]
  },
  {
   "cell_type": "code",
   "execution_count": null,
   "metadata": {
    "colab": {
     "base_uri": "https://localhost:8080/",
     "height": 238
    },
    "id": "ru1j0xzZMKyS",
    "outputId": "30206352-ce2d-40f2-a659-a4c25bcf1134"
   },
   "outputs": [
    {
     "data": {
      "text/html": [
       "<div>\n",
       "<style scoped>\n",
       "    .dataframe tbody tr th:only-of-type {\n",
       "        vertical-align: middle;\n",
       "    }\n",
       "\n",
       "    .dataframe tbody tr th {\n",
       "        vertical-align: top;\n",
       "    }\n",
       "\n",
       "    .dataframe thead th {\n",
       "        text-align: right;\n",
       "    }\n",
       "</style>\n",
       "<table border=\"1\" class=\"dataframe\">\n",
       "  <thead>\n",
       "    <tr style=\"text-align: right;\">\n",
       "      <th></th>\n",
       "      <th>min</th>\n",
       "      <th>max</th>\n",
       "      <th>mean</th>\n",
       "    </tr>\n",
       "    <tr>\n",
       "      <th>username</th>\n",
       "      <th></th>\n",
       "      <th></th>\n",
       "      <th></th>\n",
       "    </tr>\n",
       "  </thead>\n",
       "  <tbody>\n",
       "    <tr>\n",
       "      <th>---DANIEL---</th>\n",
       "      <td>5</td>\n",
       "      <td>10</td>\n",
       "      <td>8.000000</td>\n",
       "    </tr>\n",
       "    <tr>\n",
       "      <th>---KING---</th>\n",
       "      <td>1</td>\n",
       "      <td>10</td>\n",
       "      <td>6.980707</td>\n",
       "    </tr>\n",
       "    <tr>\n",
       "      <th>---Spartacus---</th>\n",
       "      <td>9</td>\n",
       "      <td>9</td>\n",
       "      <td>9.000000</td>\n",
       "    </tr>\n",
       "    <tr>\n",
       "      <th>--ALEX--</th>\n",
       "      <td>1</td>\n",
       "      <td>10</td>\n",
       "      <td>6.875541</td>\n",
       "    </tr>\n",
       "    <tr>\n",
       "      <th>--ANONYMOUS--</th>\n",
       "      <td>3</td>\n",
       "      <td>10</td>\n",
       "      <td>7.141153</td>\n",
       "    </tr>\n",
       "  </tbody>\n",
       "</table>\n",
       "</div>"
      ],
      "text/plain": [
       "                 min  max      mean\n",
       "username                           \n",
       "---DANIEL---       5   10  8.000000\n",
       "---KING---         1   10  6.980707\n",
       "---Spartacus---    9    9  9.000000\n",
       "--ALEX--           1   10  6.875541\n",
       "--ANONYMOUS--      3   10  7.141153"
      ]
     },
     "execution_count": 31,
     "metadata": {},
     "output_type": "execute_result"
    }
   ],
   "source": [
    "ratings_clean.groupby('username')['score'].agg(['min', 'max', 'mean']).head()"
   ]
  },
  {
   "cell_type": "code",
   "execution_count": null,
   "metadata": {
    "colab": {
     "base_uri": "https://localhost:8080/",
     "height": 470
    },
    "id": "U-BqhzD4QIUo",
    "outputId": "9dc2cb0d-a6bf-42f8-cce6-bc90242104e7"
   },
   "outputs": [
    {
     "data": {
      "text/plain": [
       "<seaborn.axisgrid.FacetGrid at 0x7f181a366c90>"
      ]
     },
     "execution_count": 32,
     "metadata": {},
     "output_type": "execute_result"
    },
    {
     "data": {
      "image/png": "[encoded data removed]",
      "text/plain": [
       "<Figure size 864x432 with 1 Axes>"
      ]
     },
     "metadata": {},
     "output_type": "display_data"
    }
   ],
   "source": [
    "# mean score distribution of the users, looks quite normal\n",
    "mean_score = ratings_clean.groupby('username')['score'].agg('mean')\n",
    "\n",
    "sns.displot(mean_score, height=6, aspect=2, kde=True).set(title='Distribution of User Ratings')"
   ]
  },
  {
   "cell_type": "code",
   "execution_count": null,
   "metadata": {
    "colab": {
     "base_uri": "https://localhost:8080/"
    },
    "id": "i87BIafXNdq_",
    "outputId": "36685239-f349-496e-f363-16cdad7168f2"
   },
   "outputs": [
    {
     "data": {
      "text/plain": [
       "425"
      ]
     },
     "execution_count": 33,
     "metadata": {},
     "output_type": "execute_result"
    }
   ],
   "source": [
    "# people who only rated 10\n",
    "sum(mean_score == 10)"
   ]
  },
  {
   "cell_type": "code",
   "execution_count": null,
   "metadata": {
    "colab": {
     "base_uri": "https://localhost:8080/"
    },
    "id": "K0YwV9LuN-I6",
    "outputId": "3403435f-9945-4f6a-8110-3969d8d286d6"
   },
   "outputs": [
    {
     "data": {
      "text/plain": [
       "(7.770650870259337, 0.974098578515249)"
      ]
     },
     "execution_count": 34,
     "metadata": {},
     "output_type": "execute_result"
    }
   ],
   "source": [
    "mean_score.mean(), mean_score.std()"
   ]
  },
  {
   "cell_type": "code",
   "execution_count": null,
   "metadata": {
    "colab": {
     "base_uri": "https://localhost:8080/",
     "height": 427
    },
    "id": "JFhh-nCwOIa0",
    "outputId": "418265a5-a7bf-4713-f5cb-bab9f75d1d21"
   },
   "outputs": [
    {
     "data": {
      "text/plain": [
       "[Text(0.5, 1.0, 'Outliers in the Distribution of User Ratings')]"
      ]
     },
     "execution_count": 35,
     "metadata": {},
     "output_type": "execute_result"
    },
    {
     "data": {
      "image/png": "[encoded data removed]",
      "text/plain": [
       "<Figure size 648x432 with 1 Axes>"
      ]
     },
     "metadata": {},
     "output_type": "display_data"
    }
   ],
   "source": [
    " sns.boxplot(x = mean_score).set(title='Outliers in the Distribution of User Ratings')"
   ]
  },
  {
   "cell_type": "markdown",
   "metadata": {
    "id": "kCJnrKKmYWzK"
   },
   "source": [
    "##### Status"
   ]
  },
  {
   "cell_type": "code",
   "execution_count": null,
   "metadata": {
    "colab": {
     "base_uri": "https://localhost:8080/"
    },
    "id": "E-5tyaIuRFrS",
    "outputId": "89820949-b89f-463e-b6fc-61e456f9993b"
   },
   "outputs": [
    {
     "data": {
      "text/plain": [
       "username      object\n",
       "type          object\n",
       "id             int64\n",
       "title         object\n",
       "score          int64\n",
       "status      category\n",
       "dtype: object"
      ]
     },
     "execution_count": 27,
     "metadata": {},
     "output_type": "execute_result"
    }
   ],
   "source": [
    "ratings_clean.dtypes"
   ]
  },
  {
   "cell_type": "code",
   "execution_count": null,
   "metadata": {
    "colab": {
     "base_uri": "https://localhost:8080/"
    },
    "id": "8HiKDvqPRLTq",
    "outputId": "fa8cd457-22a7-4abd-af55-b65b6f2404fe"
   },
   "outputs": [
    {
     "data": {
      "text/plain": [
       "2    1750545\n",
       "1      85922\n",
       "4      58887\n",
       "3      30385\n",
       "6       7541\n",
       "0          0\n",
       "Name: status, dtype: int64"
      ]
     },
     "execution_count": 28,
     "metadata": {},
     "output_type": "execute_result"
    }
   ],
   "source": [
    "ratings_clean.status.value_counts()"
   ]
  },
  {
   "cell_type": "code",
   "execution_count": null,
   "metadata": {
    "colab": {
     "base_uri": "https://localhost:8080/",
     "height": 482
    },
    "id": "gp-gGt1hQ4Ou",
    "outputId": "16f4a745-8bd3-4875-cefc-3fd61e4cd33a"
   },
   "outputs": [
    {
     "data": {
      "text/plain": [
       "[Text(0.5, 1.0, 'User Watching Status Proportion')]"
      ]
     },
     "execution_count": 37,
     "metadata": {},
     "output_type": "execute_result"
    },
    {
     "data": {
      "image/png": "[encoded data removed]",
      "text/plain": [
       "<Figure size 648x432 with 1 Axes>"
      ]
     },
     "metadata": {},
     "output_type": "display_data"
    }
   ],
   "source": [
    "status_counts = ratings_clean.status.value_counts(normalize=True)\n",
    "map_index = {\n",
    "    1: \"Currently Watching\",\n",
    "    2: \"Completed\",\n",
    "    3: \"On Hold\",\n",
    "    4: \"Dropped\",\n",
    "    6: \"Plan to Watch\",\n",
    "}\n",
    "status_counts.rename(map_index, inplace=True)\n",
    "status_counts.plot.bar(rot=45).set(title='User Watching Status Proportion')"
   ]
  },
  {
   "cell_type": "code",
   "execution_count": null,
   "metadata": {
    "colab": {
     "base_uri": "https://localhost:8080/",
     "height": 482
    },
    "id": "idfD00iDYiEz",
    "outputId": "17b58311-f430-4dd1-f748-6b8667f2ccb7"
   },
   "outputs": [
    {
     "data": {
      "text/plain": [
       "[Text(0.5, 1.0, 'User Watching Status Proportion in Uncleaned Data')]"
      ]
     },
     "execution_count": 38,
     "metadata": {},
     "output_type": "execute_result"
    },
    {
     "data": {
      "image/png": "[encoded data removed]",
      "text/plain": [
       "<Figure size 648x432 with 1 Axes>"
      ]
     },
     "metadata": {},
     "output_type": "display_data"
    }
   ],
   "source": [
    "# the uncleaned ratings has plan-to-watch status which has 0 has its score\n",
    "# and there are more plan-to-watch there than the middle 3 status\n",
    "uncleaned_status_counts = ratings.status.value_counts(normalize=True)\n",
    "uncleaned_status_counts.rename(map_index, inplace=True)\n",
    "uncleaned_status_counts.plot.bar(rot=45).set(title='User Watching Status Proportion in Uncleaned Data')"
   ]
  },
  {
   "cell_type": "markdown",
   "metadata": {
    "id": "i1tmwLlVYbkD"
   },
   "source": [
    "##### Title"
   ]
  },
  {
   "cell_type": "code",
   "execution_count": null,
   "metadata": {
    "colab": {
     "base_uri": "https://localhost:8080/"
    },
    "id": "5aNkAP0_R7Hr",
    "outputId": "1c6b2ddd-8807-453c-8093-c96e9602b5d6"
   },
   "outputs": [
    {
     "data": {
      "text/plain": [
       "Shingeki no Kyojin                                               14687\n",
       "Death Note                                                       12797\n",
       "Kimetsu no Yaiba                                                 11412\n",
       "Boku no Hero Academia                                            11026\n",
       "Naruto                                                           10598\n",
       "                                                                 ...  \n",
       "Sennen no Yakusoku                                                   1\n",
       "Omiai Daisakusen!                                                    1\n",
       "Sagami-san wa Nisemono: Daikirai na Osananajimi ni Dakaremasu        1\n",
       "Are wa Choukouritsu no Mochako da yo!                                1\n",
       "Senpai wa Kigae ga Dekinai                                           1\n",
       "Name: title, Length: 47519, dtype: int64"
      ]
     },
     "execution_count": 39,
     "metadata": {},
     "output_type": "execute_result"
    }
   ],
   "source": [
    "title_counts = ratings_clean.title.value_counts()\n",
    "title_counts"
   ]
  },
  {
   "cell_type": "code",
   "execution_count": null,
   "metadata": {
    "colab": {
     "base_uri": "https://localhost:8080/",
     "height": 611
    },
    "id": "FSyjqOvwUO-e",
    "outputId": "90c71f80-e5df-4d92-c1c5-ce768b0e0d3e"
   },
   "outputs": [
    {
     "data": {
      "text/plain": [
       "<matplotlib.axes._subplots.AxesSubplot at 0x7f180ea43450>"
      ]
     },
     "execution_count": 40,
     "metadata": {},
     "output_type": "execute_result"
    },
    {
     "data": {
      "image/png": "[encoded data removed]",
      "text/plain": [
       "<Figure size 432x720 with 1 Axes>"
      ]
     },
     "metadata": {},
     "output_type": "display_data"
    }
   ],
   "source": [
    "title_counts[20::-1].plot.barh(figsize=(6,10))"
   ]
  },
  {
   "cell_type": "code",
   "execution_count": null,
   "metadata": {
    "colab": {
     "base_uri": "https://localhost:8080/",
     "height": 462
    },
    "id": "TV0Qw15KZ98t",
    "outputId": "71751064-afa0-47f3-8f9e-bd4a4089adce"
   },
   "outputs": [
    {
     "data": {
      "text/plain": [
       "[Text(0, 0.5, 'Amount of Ratings'),\n",
       " Text(0.5, 0, 'Item IDs'),\n",
       " Text(0.5, 1.0, 'Long Tail in the Item Ratings')]"
      ]
     },
     "execution_count": 41,
     "metadata": {},
     "output_type": "execute_result"
    },
    {
     "data": {
      "image/png": "[encoded data removed]",
      "text/plain": [
       "<Figure size 648x432 with 1 Axes>"
      ]
     },
     "metadata": {},
     "output_type": "display_data"
    }
   ],
   "source": [
    "# Visualize long tail\n",
    "title_counts.plot.line(use_index=False, logy=True) \\\n",
    "                  .set(\n",
    "                      title='Long Tail in the Item Ratings',\n",
    "                      xlabel='Item IDs',\n",
    "                      ylabel='Amount of Ratings'\n",
    "                  )"
   ]
  },
  {
   "cell_type": "markdown",
   "metadata": {
    "id": "cGAmHXZ9WAom"
   },
   "source": [
    "##### Manga x Anime"
   ]
  },
  {
   "cell_type": "code",
   "execution_count": null,
   "metadata": {
    "colab": {
     "base_uri": "https://localhost:8080/",
     "height": 410
    },
    "id": "VpDzVNUXZBOY",
    "outputId": "f42168f5-ce66-4ec9-c88c-56b03a585853"
   },
   "outputs": [
    {
     "data": {
      "text/plain": [
       "[Text(0.5, 1.0, 'Rating Proportion between Anime and Manga')]"
      ]
     },
     "execution_count": 42,
     "metadata": {},
     "output_type": "execute_result"
    },
    {
     "data": {
      "image/png": "[encoded data removed]",
      "text/plain": [
       "<Figure size 648x432 with 1 Axes>"
      ]
     },
     "metadata": {},
     "output_type": "display_data"
    }
   ],
   "source": [
    "ratings_clean['type'].value_counts(normalize=True) \\\n",
    "                      .plot(kind='bar', rot=0) \\\n",
    "                      .set(title='Rating Proportion between Anime and Manga')"
   ]
  },
  {
   "cell_type": "code",
   "execution_count": null,
   "metadata": {
    "id": "S53DK5qsUUaG"
   },
   "outputs": [],
   "source": [
    "manga = ratings_clean[ratings_clean['type'] == 'manga']\n",
    "anime = ratings_clean[ratings_clean['type'] == 'anime']"
   ]
  },
  {
   "cell_type": "code",
   "execution_count": null,
   "metadata": {
    "colab": {
     "base_uri": "https://localhost:8080/"
    },
    "id": "Dp2G6DWuXNvU",
    "outputId": "c59af269-ce2a-412a-bf1b-2c5d3cf6c12f"
   },
   "outputs": [
    {
     "data": {
      "text/plain": [
       "(196829, 0.10285006325287512)"
      ]
     },
     "execution_count": 25,
     "metadata": {},
     "output_type": "execute_result"
    }
   ],
   "source": [
    "len(manga), len(manga) / len(ratings_clean)  # proportion of manga in clean dataset"
   ]
  },
  {
   "cell_type": "code",
   "execution_count": null,
   "metadata": {
    "colab": {
     "base_uri": "https://localhost:8080/"
    },
    "id": "0LSiimRVXUpj",
    "outputId": "878c8fc3-704c-4aa0-81b4-9f001700dc87"
   },
   "outputs": [
    {
     "data": {
      "text/plain": [
       "(1716918, 0.8971499367471248)"
      ]
     },
     "execution_count": 26,
     "metadata": {},
     "output_type": "execute_result"
    }
   ],
   "source": [
    "len(anime), len(anime) / len(ratings_clean)  # proportion of anime in clean dataset"
   ]
  },
  {
   "cell_type": "code",
   "execution_count": null,
   "metadata": {
    "colab": {
     "base_uri": "https://localhost:8080/"
    },
    "id": "bD-jQqsaau5w",
    "outputId": "8db1ff1b-1922-4497-bcc9-920df929d7f4"
   },
   "outputs": [
    {
     "data": {
      "text/plain": [
       "(17051, 32717, 0.34260970904999194, 0.657390290950008)"
      ]
     },
     "execution_count": 44,
     "metadata": {},
     "output_type": "execute_result"
    }
   ],
   "source": [
    "total_anime = anime.title.nunique()\n",
    "total_manga = manga.title.nunique()\n",
    "total_titles = anime.title.nunique() + manga.title.nunique()\n",
    "\n",
    "total_anime, total_manga, total_anime / total_titles, total_manga / total_titles"
   ]
  },
  {
   "cell_type": "code",
   "execution_count": null,
   "metadata": {
    "colab": {
     "base_uri": "https://localhost:8080/",
     "height": 393
    },
    "id": "8lEO5a3aa1Ho",
    "outputId": "d11cfe27-335e-42a6-8261-3ba9698275ae"
   },
   "outputs": [
    {
     "data": {
      "image/png": "[encoded data removed]",
      "text/plain": [
       "<Figure size 648x432 with 1 Axes>"
      ]
     },
     "metadata": {},
     "output_type": "display_data"
    }
   ],
   "source": [
    "plt.bar(x = ['anime', 'manga'],\n",
    "        height = [total_anime / total_titles, total_manga / total_titles],\n",
    "        width = .5\n",
    "      )\n",
    "plt.title('Item Proportions between Anime and Manga')\n",
    "plt.show()"
   ]
  },
  {
   "cell_type": "code",
   "execution_count": null,
   "metadata": {
    "colab": {
     "base_uri": "https://localhost:8080/"
    },
    "id": "fH9RwuozYAjn",
    "outputId": "42703bf1-66b5-4aaf-e0d5-b1f83debfcef"
   },
   "outputs": [
    {
     "data": {
      "text/plain": [
       "Shingeki no Kyojin     1860\n",
       "Chainsaw Man           1799\n",
       "Kimetsu no Yaiba       1228\n",
       "Solo Leveling          1073\n",
       "Tokyo Ghoul            1025\n",
       "                       ... \n",
       "M.M Santa                 1\n",
       "Fizon Core                1\n",
       "Mou Manzoku desho!?       1\n",
       "S-senjou no Tena          1\n",
       "Vetsunova                 1\n",
       "Name: title, Length: 23154, dtype: int64"
      ]
     },
     "execution_count": 40,
     "metadata": {},
     "output_type": "execute_result"
    }
   ],
   "source": [
    "manga_counts = manga.title.value_counts()\n",
    "manga_counts"
   ]
  },
  {
   "cell_type": "code",
   "execution_count": null,
   "metadata": {
    "colab": {
     "base_uri": "https://localhost:8080/",
     "height": 285
    },
    "id": "mgwtg0v6U3fX",
    "outputId": "6c35c1b5-9366-4ea2-e368-6ffa37e7dbad"
   },
   "outputs": [
    {
     "data": {
      "text/plain": [
       "<matplotlib.axes._subplots.AxesSubplot at 0x7f1be441ca50>"
      ]
     },
     "execution_count": 41,
     "metadata": {},
     "output_type": "execute_result"
    },
    {
     "data": {
      "image/png": "[encoded data removed]",
      "text/plain": [
       "<Figure size 432x288 with 1 Axes>"
      ]
     },
     "metadata": {},
     "output_type": "display_data"
    }
   ],
   "source": [
    "manga_counts[20::-1].plot.barh()"
   ]
  },
  {
   "cell_type": "code",
   "execution_count": null,
   "metadata": {
    "colab": {
     "base_uri": "https://localhost:8080/"
    },
    "id": "tWdSDkd5YCGt",
    "outputId": "9ab8836b-9ef9-4f5b-d92c-30a23b5dd9f8"
   },
   "outputs": [
    {
     "data": {
      "text/plain": [
       "Kimetsu no Yaiba                                  6404\n",
       "Shingeki no Kyojin                                6309\n",
       "Boku no Hero Academia                             5663\n",
       "Shingeki no Kyojin Season 2                       5653\n",
       "Kimi no Na wa.                                    5647\n",
       "                                                  ... \n",
       "A-jang.com                                           1\n",
       "Hello Kitty no Yappari Mama ga Suki                  1\n",
       "Sore Ike! Anpanman: Yumeneko no Kuni no Nyanii       1\n",
       "Naniwa Yuukyouden: Kanketsu-hen                      1\n",
       "Maboroshi Mabo-chan                                  1\n",
       "Name: title, Length: 16136, dtype: int64"
      ]
     },
     "execution_count": 42,
     "metadata": {},
     "output_type": "execute_result"
    }
   ],
   "source": [
    "anime_counts = anime.title.value_counts()\n",
    "anime_counts"
   ]
  },
  {
   "cell_type": "code",
   "execution_count": null,
   "metadata": {
    "colab": {
     "base_uri": "https://localhost:8080/",
     "height": 285
    },
    "id": "IuvohpIcVCql",
    "outputId": "1ce26818-b693-4758-e03c-ba218c299859"
   },
   "outputs": [
    {
     "data": {
      "text/plain": [
       "<matplotlib.axes._subplots.AxesSubplot at 0x7f1be438db50>"
      ]
     },
     "execution_count": 43,
     "metadata": {},
     "output_type": "execute_result"
    },
    {
     "data": {
      "image/png": "[encoded data removed]",
      "text/plain": [
       "<Figure size 432x288 with 1 Axes>"
      ]
     },
     "metadata": {},
     "output_type": "display_data"
    }
   ],
   "source": [
    "anime_counts[20::-1].plot.barh()"
   ]
  },
  {
   "cell_type": "code",
   "execution_count": null,
   "metadata": {
    "colab": {
     "base_uri": "https://localhost:8080/",
     "height": 455
    },
    "id": "Q_ZQikw_YO6C",
    "outputId": "a41f72d5-5054-41d3-94c6-579fe3162594"
   },
   "outputs": [
    {
     "data": {
      "text/html": [
       "<div>\n",
       "<style scoped>\n",
       "    .dataframe tbody tr th:only-of-type {\n",
       "        vertical-align: middle;\n",
       "    }\n",
       "\n",
       "    .dataframe tbody tr th {\n",
       "        vertical-align: top;\n",
       "    }\n",
       "\n",
       "    .dataframe thead th {\n",
       "        text-align: right;\n",
       "    }\n",
       "</style>\n",
       "<table border=\"1\" class=\"dataframe\">\n",
       "  <thead>\n",
       "    <tr style=\"text-align: right;\">\n",
       "      <th></th>\n",
       "      <th>min</th>\n",
       "      <th>max</th>\n",
       "      <th>mean</th>\n",
       "    </tr>\n",
       "    <tr>\n",
       "      <th>title</th>\n",
       "      <th></th>\n",
       "      <th></th>\n",
       "      <th></th>\n",
       "    </tr>\n",
       "  </thead>\n",
       "  <tbody>\n",
       "    <tr>\n",
       "      <th>\"1999\"</th>\n",
       "      <td>3</td>\n",
       "      <td>4</td>\n",
       "      <td>3.500000</td>\n",
       "    </tr>\n",
       "    <tr>\n",
       "      <th>\"Aishiteru\", Uso dakedo.</th>\n",
       "      <td>7</td>\n",
       "      <td>7</td>\n",
       "      <td>7.000000</td>\n",
       "    </tr>\n",
       "    <tr>\n",
       "      <th>\"Aoi\" Hikaru ga Chikyuu ni Ita Koro......</th>\n",
       "      <td>5</td>\n",
       "      <td>10</td>\n",
       "      <td>7.538462</td>\n",
       "    </tr>\n",
       "    <tr>\n",
       "      <th>\"Boku wa Senpai ni Josou wo Shiirareteimasu.\"</th>\n",
       "      <td>1</td>\n",
       "      <td>7</td>\n",
       "      <td>5.000000</td>\n",
       "    </tr>\n",
       "    <tr>\n",
       "      <th>\"Bungaku Shoujo\" Series</th>\n",
       "      <td>6</td>\n",
       "      <td>9</td>\n",
       "      <td>7.200000</td>\n",
       "    </tr>\n",
       "    <tr>\n",
       "      <th>...</th>\n",
       "      <td>...</td>\n",
       "      <td>...</td>\n",
       "      <td>...</td>\n",
       "    </tr>\n",
       "    <tr>\n",
       "      <th>♀x♀=♥</th>\n",
       "      <td>6</td>\n",
       "      <td>9</td>\n",
       "      <td>7.500000</td>\n",
       "    </tr>\n",
       "    <tr>\n",
       "      <th>♂Docchi♀</th>\n",
       "      <td>4</td>\n",
       "      <td>6</td>\n",
       "      <td>5.250000</td>\n",
       "    </tr>\n",
       "    <tr>\n",
       "      <th>♡♡♡ suru Onnanoko</th>\n",
       "      <td>4</td>\n",
       "      <td>4</td>\n",
       "      <td>4.000000</td>\n",
       "    </tr>\n",
       "    <tr>\n",
       "      <th>♭37℃</th>\n",
       "      <td>7</td>\n",
       "      <td>8</td>\n",
       "      <td>7.500000</td>\n",
       "    </tr>\n",
       "    <tr>\n",
       "      <th>♭38℃: Loveberry Twins♥</th>\n",
       "      <td>5</td>\n",
       "      <td>8</td>\n",
       "      <td>6.666667</td>\n",
       "    </tr>\n",
       "  </tbody>\n",
       "</table>\n",
       "<p>23154 rows × 3 columns</p>\n",
       "</div>"
      ],
      "text/plain": [
       "                                               min  max      mean\n",
       "title                                                            \n",
       "\"1999\"                                           3    4  3.500000\n",
       "\"Aishiteru\", Uso dakedo.                         7    7  7.000000\n",
       "\"Aoi\" Hikaru ga Chikyuu ni Ita Koro......        5   10  7.538462\n",
       "\"Boku wa Senpai ni Josou wo Shiirareteimasu.\"    1    7  5.000000\n",
       "\"Bungaku Shoujo\" Series                          6    9  7.200000\n",
       "...                                            ...  ...       ...\n",
       "♀x♀=♥                                            6    9  7.500000\n",
       "♂Docchi♀                                         4    6  5.250000\n",
       "♡♡♡ suru Onnanoko                                4    4  4.000000\n",
       "♭37℃                                             7    8  7.500000\n",
       "♭38℃: Loveberry Twins♥                           5    8  6.666667\n",
       "\n",
       "[23154 rows x 3 columns]"
      ]
     },
     "execution_count": 44,
     "metadata": {},
     "output_type": "execute_result"
    }
   ],
   "source": [
    "manga.groupby('title')['score'].agg(['min', 'max', 'mean'])"
   ]
  },
  {
   "cell_type": "code",
   "execution_count": null,
   "metadata": {
    "colab": {
     "base_uri": "https://localhost:8080/",
     "height": 455
    },
    "id": "fDHosLSaYrwX",
    "outputId": "c6379e42-521f-4448-ec15-1b90c19bcbac"
   },
   "outputs": [
    {
     "data": {
      "text/html": [
       "<div>\n",
       "<style scoped>\n",
       "    .dataframe tbody tr th:only-of-type {\n",
       "        vertical-align: middle;\n",
       "    }\n",
       "\n",
       "    .dataframe tbody tr th {\n",
       "        vertical-align: top;\n",
       "    }\n",
       "\n",
       "    .dataframe thead th {\n",
       "        text-align: right;\n",
       "    }\n",
       "</style>\n",
       "<table border=\"1\" class=\"dataframe\">\n",
       "  <thead>\n",
       "    <tr style=\"text-align: right;\">\n",
       "      <th></th>\n",
       "      <th>min</th>\n",
       "      <th>max</th>\n",
       "      <th>mean</th>\n",
       "    </tr>\n",
       "    <tr>\n",
       "      <th>title</th>\n",
       "      <th></th>\n",
       "      <th></th>\n",
       "      <th></th>\n",
       "    </tr>\n",
       "  </thead>\n",
       "  <tbody>\n",
       "    <tr>\n",
       "      <th>\"0\"</th>\n",
       "      <td>1</td>\n",
       "      <td>7</td>\n",
       "      <td>4.187500</td>\n",
       "    </tr>\n",
       "    <tr>\n",
       "      <th>\"Bungaku Shoujo\" Kyou no Oyatsu: Hatsukoi</th>\n",
       "      <td>3</td>\n",
       "      <td>10</td>\n",
       "      <td>6.457143</td>\n",
       "    </tr>\n",
       "    <tr>\n",
       "      <th>\"Bungaku Shoujo\" Memoire</th>\n",
       "      <td>3</td>\n",
       "      <td>10</td>\n",
       "      <td>6.888889</td>\n",
       "    </tr>\n",
       "    <tr>\n",
       "      <th>\"Bungaku Shoujo\" Movie</th>\n",
       "      <td>2</td>\n",
       "      <td>10</td>\n",
       "      <td>6.946809</td>\n",
       "    </tr>\n",
       "    <tr>\n",
       "      <th>\"Calpis\" Hakkou Monogatari</th>\n",
       "      <td>1</td>\n",
       "      <td>5</td>\n",
       "      <td>2.857143</td>\n",
       "    </tr>\n",
       "    <tr>\n",
       "      <th>...</th>\n",
       "      <td>...</td>\n",
       "      <td>...</td>\n",
       "      <td>...</td>\n",
       "    </tr>\n",
       "    <tr>\n",
       "      <th>xxxHOLiC Movie: Manatsu no Yoru no Yume</th>\n",
       "      <td>4</td>\n",
       "      <td>10</td>\n",
       "      <td>7.587500</td>\n",
       "    </tr>\n",
       "    <tr>\n",
       "      <th>xxxHOLiC Rou</th>\n",
       "      <td>4</td>\n",
       "      <td>10</td>\n",
       "      <td>7.857143</td>\n",
       "    </tr>\n",
       "    <tr>\n",
       "      <th>xxxHOLiC Shunmuki</th>\n",
       "      <td>3</td>\n",
       "      <td>10</td>\n",
       "      <td>7.840909</td>\n",
       "    </tr>\n",
       "    <tr>\n",
       "      <th>ēlDLIVE</th>\n",
       "      <td>1</td>\n",
       "      <td>10</td>\n",
       "      <td>5.846154</td>\n",
       "    </tr>\n",
       "    <tr>\n",
       "      <th>◯</th>\n",
       "      <td>1</td>\n",
       "      <td>7</td>\n",
       "      <td>2.967742</td>\n",
       "    </tr>\n",
       "  </tbody>\n",
       "</table>\n",
       "<p>16136 rows × 3 columns</p>\n",
       "</div>"
      ],
      "text/plain": [
       "                                           min  max      mean\n",
       "title                                                        \n",
       "\"0\"                                          1    7  4.187500\n",
       "\"Bungaku Shoujo\" Kyou no Oyatsu: Hatsukoi    3   10  6.457143\n",
       "\"Bungaku Shoujo\" Memoire                     3   10  6.888889\n",
       "\"Bungaku Shoujo\" Movie                       2   10  6.946809\n",
       "\"Calpis\" Hakkou Monogatari                   1    5  2.857143\n",
       "...                                        ...  ...       ...\n",
       "xxxHOLiC Movie: Manatsu no Yoru no Yume      4   10  7.587500\n",
       "xxxHOLiC Rou                                 4   10  7.857143\n",
       "xxxHOLiC Shunmuki                            3   10  7.840909\n",
       "ēlDLIVE                                      1   10  5.846154\n",
       "◯                                            1    7  2.967742\n",
       "\n",
       "[16136 rows x 3 columns]"
      ]
     },
     "execution_count": 45,
     "metadata": {},
     "output_type": "execute_result"
    }
   ],
   "source": [
    "anime.groupby('title')['score'].agg(['min', 'max', 'mean'])"
   ]
  },
  {
   "cell_type": "code",
   "execution_count": null,
   "metadata": {
    "id": "V81MOD8ldzk9"
   },
   "outputs": [],
   "source": [
    "# visualize long tail"
   ]
  },
  {
   "cell_type": "code",
   "execution_count": null,
   "metadata": {
    "colab": {
     "base_uri": "https://localhost:8080/",
     "height": 462
    },
    "id": "OPjB7wTydU62",
    "outputId": "9f16c9ea-3b13-4d5f-9d30-37a66e74df0a"
   },
   "outputs": [
    {
     "data": {
      "text/plain": [
       "[Text(0, 0.5, 'Amount of Ratings'),\n",
       " Text(0.5, 0, 'IDs'),\n",
       " Text(0.5, 1.0, 'Long Tail in Manga Ratings')]"
      ]
     },
     "execution_count": 50,
     "metadata": {},
     "output_type": "execute_result"
    },
    {
     "data": {
      "image/png": "[encoded data removed]",
      "text/plain": [
       "<Figure size 648x432 with 1 Axes>"
      ]
     },
     "metadata": {},
     "output_type": "display_data"
    }
   ],
   "source": [
    "manga.title.value_counts().plot \\\n",
    "                          .line(use_index=False, logy=True) \\\n",
    "                          .set(title='Long Tail in Manga Ratings',\n",
    "                               xlabel='IDs',\n",
    "                               ylabel='Amount of Ratings')"
   ]
  },
  {
   "cell_type": "code",
   "execution_count": null,
   "metadata": {
    "colab": {
     "base_uri": "https://localhost:8080/",
     "height": 462
    },
    "id": "k97s9qs9dJO1",
    "outputId": "0256c041-2a65-4d01-f9c2-0cc17f7c6d5e"
   },
   "outputs": [
    {
     "data": {
      "text/plain": [
       "[Text(0, 0.5, 'Amount of Ratings'),\n",
       " Text(0.5, 0, 'IDs'),\n",
       " Text(0.5, 1.0, 'Long Tail in Anime Ratings')]"
      ]
     },
     "execution_count": 51,
     "metadata": {},
     "output_type": "execute_result"
    },
    {
     "data": {
      "image/png": "[encoded data removed]",
      "text/plain": [
       "<Figure size 648x432 with 1 Axes>"
      ]
     },
     "metadata": {},
     "output_type": "display_data"
    }
   ],
   "source": [
    "# sns.displot(x=anime.title.value_counts(), bins=50, height=6, aspect=2, log_scale=(False, True))\n",
    "anime.title.value_counts().plot \\\n",
    "                          .line(use_index=False, logy=True) \\\n",
    "                          .set(title='Long Tail in Anime Ratings',\n",
    "                               xlabel='IDs',\n",
    "                               ylabel='Amount of Ratings')"
   ]
  },
  {
   "cell_type": "code",
   "execution_count": null,
   "metadata": {
    "id": "9v_ZuwV6VkNa"
   },
   "outputs": [],
   "source": [
    "# mean rating of anime & manga, and its std dev.\n",
    "# displot & boxplot"
   ]
  },
  {
   "cell_type": "code",
   "execution_count": null,
   "metadata": {
    "colab": {
     "base_uri": "https://localhost:8080/"
    },
    "id": "VtgxxzxxePbo",
    "outputId": "65ce0a6a-5ab8-44ea-a26e-b6fb1645a3d5"
   },
   "outputs": [
    {
     "data": {
      "text/plain": [
       "(7.413302328098415, 1.7676259421506355)"
      ]
     },
     "execution_count": 54,
     "metadata": {},
     "output_type": "execute_result"
    }
   ],
   "source": [
    "manga.score.mean(), manga.score.std()"
   ]
  },
  {
   "cell_type": "code",
   "execution_count": null,
   "metadata": {
    "colab": {
     "base_uri": "https://localhost:8080/",
     "height": 414
    },
    "id": "xYGO11SUqY5D",
    "outputId": "766972fd-0438-40df-8325-9919ef5088d4"
   },
   "outputs": [
    {
     "data": {
      "text/plain": [
       "[Text(0.5, 1.0, 'Distribution of Manga Ratings')]"
      ]
     },
     "execution_count": 52,
     "metadata": {},
     "output_type": "execute_result"
    },
    {
     "data": {
      "image/png": "[encoded data removed]",
      "text/plain": [
       "<Figure size 648x432 with 1 Axes>"
      ]
     },
     "metadata": {},
     "output_type": "display_data"
    }
   ],
   "source": [
    "# score by user\n",
    "manga.score.value_counts(normalize=True) \\\n",
    "            .sort_index() \\\n",
    "            .plot.bar() \\\n",
    "            .set(title='Distribution of Manga Ratings')"
   ]
  },
  {
   "cell_type": "code",
   "execution_count": null,
   "metadata": {
    "colab": {
     "base_uri": "https://localhost:8080/",
     "height": 382
    },
    "id": "A3lJrF74ejjV",
    "outputId": "f7032000-b7e4-4be3-8e1d-5897085c1163"
   },
   "outputs": [
    {
     "data": {
      "text/plain": [
       "<seaborn.axisgrid.FacetGrid at 0x7f1be40650d0>"
      ]
     },
     "execution_count": 52,
     "metadata": {},
     "output_type": "execute_result"
    },
    {
     "data": {
      "image/png": "[encoded data removed]",
      "text/plain": [
       "<Figure size 720x360 with 1 Axes>"
      ]
     },
     "metadata": {},
     "output_type": "display_data"
    }
   ],
   "source": [
    "# score by title\n",
    "sns.displot(x = manga.groupby('title')['score'].mean(), height=5, aspect=2, kde=True)"
   ]
  },
  {
   "cell_type": "code",
   "execution_count": null,
   "metadata": {
    "colab": {
     "base_uri": "https://localhost:8080/",
     "height": 427
    },
    "id": "-1eKFsh6eSZ8",
    "outputId": "d4c43c1f-5d2f-4ede-f95b-1f459b8d5392"
   },
   "outputs": [
    {
     "data": {
      "text/plain": [
       "[Text(0.5, 1.0, 'Outliers in the Distribution of Manga Ratings')]"
      ]
     },
     "execution_count": 53,
     "metadata": {},
     "output_type": "execute_result"
    },
    {
     "data": {
      "image/png": "[encoded data removed]",
      "text/plain": [
       "<Figure size 648x432 with 1 Axes>"
      ]
     },
     "metadata": {},
     "output_type": "display_data"
    }
   ],
   "source": [
    "sns.boxplot(x = manga.score) \\\n",
    "    .set(title='Outliers in the Distribution of Manga Ratings')"
   ]
  },
  {
   "cell_type": "code",
   "execution_count": null,
   "metadata": {
    "colab": {
     "base_uri": "https://localhost:8080/"
    },
    "id": "8LV1PrhFeO4l",
    "outputId": "c22e166c-1adb-47a1-b43d-205bf8e1cb38"
   },
   "outputs": [
    {
     "data": {
      "text/plain": [
       "(7.267492661693985, 1.8328255446574022)"
      ]
     },
     "execution_count": 54,
     "metadata": {},
     "output_type": "execute_result"
    }
   ],
   "source": [
    "anime.score.mean(), anime.score.std()"
   ]
  },
  {
   "cell_type": "code",
   "execution_count": null,
   "metadata": {
    "colab": {
     "base_uri": "https://localhost:8080/",
     "height": 414
    },
    "id": "CHewODSasCQx",
    "outputId": "603bb3cc-e597-4222-b8c7-101b4135950d"
   },
   "outputs": [
    {
     "data": {
      "text/plain": [
       "[Text(0.5, 1.0, 'Distribution of Anime Ratings')]"
      ]
     },
     "execution_count": 57,
     "metadata": {},
     "output_type": "execute_result"
    },
    {
     "data": {
      "image/png": "[encoded data removed]",
      "text/plain": [
       "<Figure size 648x432 with 1 Axes>"
      ]
     },
     "metadata": {},
     "output_type": "display_data"
    }
   ],
   "source": [
    "# score by user\n",
    "anime.score.value_counts(normalize=True) \\\n",
    "            .sort_index() \\\n",
    "            .plot.bar() \\\n",
    "            .set(title='Distribution of Anime Ratings')"
   ]
  },
  {
   "cell_type": "code",
   "execution_count": null,
   "metadata": {
    "colab": {
     "base_uri": "https://localhost:8080/",
     "height": 382
    },
    "id": "jL7-VtQTgBnm",
    "outputId": "3365781f-ccaf-475d-f53a-d6f719caf460"
   },
   "outputs": [
    {
     "data": {
      "text/plain": [
       "<seaborn.axisgrid.FacetGrid at 0x7f1be3ef9790>"
      ]
     },
     "execution_count": 56,
     "metadata": {},
     "output_type": "execute_result"
    },
    {
     "data": {
      "image/png": "[encoded data removed]",
      "text/plain": [
       "<Figure size 720x360 with 1 Axes>"
      ]
     },
     "metadata": {},
     "output_type": "display_data"
    }
   ],
   "source": [
    "sns.displot(x = anime.groupby('title')['score'].mean(), height=5, aspect=2, kde=True)"
   ]
  },
  {
   "cell_type": "code",
   "execution_count": null,
   "metadata": {
    "colab": {
     "base_uri": "https://localhost:8080/",
     "height": 427
    },
    "id": "m4iOVNe0dynD",
    "outputId": "bd81ed92-a8a8-4355-f07d-df71973c8cf8"
   },
   "outputs": [
    {
     "data": {
      "text/plain": [
       "[Text(0.5, 1.0, 'Outliers in the Distribution of Anime Ratings')]"
      ]
     },
     "execution_count": 58,
     "metadata": {},
     "output_type": "execute_result"
    },
    {
     "data": {
      "image/png": "[encoded data removed]",
      "text/plain": [
       "<Figure size 648x432 with 1 Axes>"
      ]
     },
     "metadata": {},
     "output_type": "display_data"
    }
   ],
   "source": [
    "sns.boxplot(x = anime.score) \\\n",
    "    .set(title='Outliers in the Distribution of Anime Ratings')"
   ]
  },
  {
   "cell_type": "code",
   "execution_count": null,
   "metadata": {
    "id": "OaipNKNQVNhl"
   },
   "outputs": [],
   "source": [
    "# threshold values for manga/anime that has really low ratings?\n",
    "# based on the mean of ratings user give?\n",
    "# the lower bar was mean - std ~ 6.7"
   ]
  },
  {
   "cell_type": "code",
   "execution_count": null,
   "metadata": {
    "id": "ux-9nx6gaH60"
   },
   "outputs": [],
   "source": [
    "# compare the distribution back-to-back"
   ]
  },
  {
   "cell_type": "code",
   "execution_count": null,
   "metadata": {
    "colab": {
     "base_uri": "https://localhost:8080/",
     "height": 427
    },
    "id": "L1TdRvN_nh5I",
    "outputId": "9f3dc3c7-d88c-4b1a-f3d6-c84469fc5d3b"
   },
   "outputs": [
    {
     "data": {
      "text/plain": [
       "<matplotlib.legend.Legend at 0x7f180e284990>"
      ]
     },
     "execution_count": 59,
     "metadata": {},
     "output_type": "execute_result"
    },
    {
     "data": {
      "image/png": "[encoded data removed]",
      "text/plain": [
       "<Figure size 648x432 with 1 Axes>"
      ]
     },
     "metadata": {},
     "output_type": "display_data"
    }
   ],
   "source": [
    "sns.kdeplot(x=mean_score, shade=True, label='User')\n",
    "sns.kdeplot(x=manga.groupby('title')['score'].mean(), shade=True, label='Manga')\n",
    "sns.kdeplot(x=anime.groupby('title')['score'].mean(), shade=True, label='Anime')\n",
    "\n",
    "plt.title(\"Distribution of User, Anime, and Manga Ratings\")\n",
    "plt.xlabel('Ratings')\n",
    "plt.legend()"
   ]
  },
  {
   "cell_type": "markdown",
   "metadata": {
    "id": "CW17hPzGZYJ1"
   },
   "source": [
    "##### Sparsity"
   ]
  },
  {
   "cell_type": "code",
   "execution_count": null,
   "metadata": {
    "colab": {
     "base_uri": "https://localhost:8080/"
    },
    "id": "0D2ENSX9ZZZp",
    "outputId": "c0ffbc0f-eb4f-4300-bec4-5de4287a6727"
   },
   "outputs": [
    {
     "data": {
      "text/plain": [
       "(12719, 32717, 628281)"
      ]
     },
     "execution_count": 60,
     "metadata": {},
     "output_type": "execute_result"
    }
   ],
   "source": [
    "manga.username.nunique(), manga.title.nunique(), len(manga)"
   ]
  },
  {
   "cell_type": "code",
   "execution_count": null,
   "metadata": {
    "colab": {
     "base_uri": "https://localhost:8080/"
    },
    "id": "p-HnywGxZxRS",
    "outputId": "0f9edc19-65e7-4519-8b56-8a8a0918aad4"
   },
   "outputs": [
    {
     "data": {
      "text/plain": [
       "0.4059045620581786"
      ]
     },
     "execution_count": 61,
     "metadata": {},
     "output_type": "execute_result"
    }
   ],
   "source": [
    "len(manga) / len(ratings.loc[(ratings['type'] == 'manga')])  # 34% are rated"
   ]
  },
  {
   "cell_type": "code",
   "execution_count": null,
   "metadata": {
    "colab": {
     "base_uri": "https://localhost:8080/"
    },
    "id": "jJWOsR1xaPtp",
    "outputId": "17089160-4025-4f1e-f8c4-6d4f406127be"
   },
   "outputs": [
    {
     "data": {
      "text/plain": [
       "0.15098280341336615"
      ]
     },
     "execution_count": 62,
     "metadata": {},
     "output_type": "execute_result"
    }
   ],
   "source": [
    "# sparsity, in %\n",
    "manga_sparsity = (len(manga) / (manga.username.nunique() * manga.title.nunique())) * 100\n",
    "manga_sparsity"
   ]
  },
  {
   "cell_type": "code",
   "execution_count": null,
   "metadata": {
    "colab": {
     "base_uri": "https://localhost:8080/"
    },
    "id": "XSnktdNzalaV",
    "outputId": "7b435313-b782-4df2-fcce-565073d79046"
   },
   "outputs": [
    {
     "data": {
      "text/plain": [
       "(17445, 17051, 3877531)"
      ]
     },
     "execution_count": 63,
     "metadata": {},
     "output_type": "execute_result"
    }
   ],
   "source": [
    "anime.username.nunique(), anime.title.nunique(), len(anime)"
   ]
  },
  {
   "cell_type": "code",
   "execution_count": null,
   "metadata": {
    "colab": {
     "base_uri": "https://localhost:8080/"
    },
    "id": "pnFaOT94aqMT",
    "outputId": "9cae9de2-131e-4d5f-d556-b14f6e666494"
   },
   "outputs": [
    {
     "data": {
      "text/plain": [
       "0.5507826021986526"
      ]
     },
     "execution_count": 64,
     "metadata": {},
     "output_type": "execute_result"
    }
   ],
   "source": [
    "len(anime) / len(ratings.loc[(ratings['type'] == 'anime')])  # 51% are rated"
   ]
  },
  {
   "cell_type": "code",
   "execution_count": null,
   "metadata": {
    "colab": {
     "base_uri": "https://localhost:8080/"
    },
    "id": "YFDAMwy6a0n8",
    "outputId": "8e0c7c06-a4b8-4d6f-afb5-334171bafaa4"
   },
   "outputs": [
    {
     "data": {
      "text/plain": [
       "1.303570279837069"
      ]
     },
     "execution_count": 65,
     "metadata": {},
     "output_type": "execute_result"
    }
   ],
   "source": [
    "# sparsity, in %\n",
    "anime_sparsity = (len(anime) / (anime.username.nunique() * anime.title.nunique())) * 100\n",
    "anime_sparsity"
   ]
  },
  {
   "cell_type": "code",
   "execution_count": null,
   "metadata": {
    "colab": {
     "base_uri": "https://localhost:8080/"
    },
    "id": "o8B6paMtbEp2",
    "outputId": "124d2aa3-868f-4f8d-8b4b-30b2338f712b"
   },
   "outputs": [
    {
     "name": "stdout",
     "output_type": "stream",
     "text": [
      "Sparsity 98.55%\n"
     ]
    }
   ],
   "source": [
    "print(f\"Sparsity {100 - (manga_sparsity + anime_sparsity):.2f}%\")"
   ]
  },
  {
   "cell_type": "markdown",
   "metadata": {
    "id": "U10ejMGu2RnO"
   },
   "source": [
    "##### Looking at weird-looking data"
   ]
  },
  {
   "cell_type": "code",
   "execution_count": null,
   "metadata": {
    "colab": {
     "base_uri": "https://localhost:8080/",
     "height": 53
    },
    "id": "0q0atOdu2beU",
    "outputId": "c4d7fa6d-e2f7-4739-a949-74136bdcea91"
   },
   "outputs": [
    {
     "data": {
      "application/vnd.google.colaboratory.intrinsic+json": {
       "type": "string"
      },
      "text/plain": [
       "'\\nfurther investigation suggest that it might be an error, or \"not classified\" category\\nso, let\\'s just drop this\\n'"
      ]
     },
     "execution_count": 68,
     "metadata": {},
     "output_type": "execute_result"
    }
   ],
   "source": [
    "# the \"0\" in status\n",
    "zero_in_status =  ratings[ratings.status == 0]\n",
    "zero_in_status.head()\n",
    "\n",
    "\"\"\"\n",
    "further investigation suggest that it might be an error, or \"not classified\" category\n",
    "so, let's just drop this\n",
    "\"\"\""
   ]
  },
  {
   "cell_type": "code",
   "execution_count": null,
   "metadata": {
    "colab": {
     "base_uri": "https://localhost:8080/",
     "height": 87
    },
    "id": "3y6Ukg3rAjci",
    "outputId": "b2f2d682-e9c1-468a-9c74-227ddec6d58d"
   },
   "outputs": [
    {
     "data": {
      "application/vnd.google.colaboratory.intrinsic+json": {
       "type": "string"
      },
      "text/plain": [
       "'\\ninvestigation suggest that these people might have \"private scores\" on their profile page.\\nthis answer is indicated by the high `completed` bar, higher than plan-to-watch, which if it\\'s higher,\\nmight actually explain that it\\'s just issues in the status. but, no, as the `completed` status is higher,\\nand I checked on one of the profile, there\\'s just no score to be seen on the lists.\\n'"
      ]
     },
     "execution_count": 69,
     "metadata": {},
     "output_type": "execute_result"
    }
   ],
   "source": [
    "# users that haven't rated anything but has lists\n",
    "\"\"\"\n",
    "investigation suggest that these people might have \"private scores\" on their profile page.\n",
    "this answer is indicated by the high `completed` bar, higher than plan-to-watch, which if it's higher,\n",
    "might actually explain that it's just issues in the status. but, no, as the `completed` status is higher,\n",
    "and I checked on one of the profile, there's just no score to be seen on the lists.\n",
    "\"\"\""
   ]
  },
  {
   "cell_type": "code",
   "execution_count": null,
   "metadata": {
    "colab": {
     "base_uri": "https://localhost:8080/"
    },
    "id": "LIfbf7Hv2U6z",
    "outputId": "066d6241-7733-4475-a0da-3e63eb8a4a75"
   },
   "outputs": [
    {
     "data": {
      "text/plain": [
       "username\n",
       "06hotdawg       0.0\n",
       "100gecstou      0.0\n",
       "1Kyo3           0.0\n",
       "31915           0.0\n",
       "4inxv           0.0\n",
       "               ... \n",
       "yumenonaka12    0.0\n",
       "zagaller        0.0\n",
       "zerpiente       0.0\n",
       "zoul_yusouf     0.0\n",
       "zztag146        0.0\n",
       "Name: score, Length: 729, dtype: float64"
      ]
     },
     "execution_count": 70,
     "metadata": {},
     "output_type": "execute_result"
    }
   ],
   "source": [
    "users_score = ratings.groupby('username')['score'].mean()\n",
    "users_havent_rate = users_score[users_score == 0]\n",
    "users_havent_rate"
   ]
  },
  {
   "cell_type": "code",
   "execution_count": null,
   "metadata": {
    "colab": {
     "base_uri": "https://localhost:8080/",
     "height": 424
    },
    "id": "khzCVpIC3clF",
    "outputId": "755a527e-bd78-48d9-8ddb-69e4ad094de2"
   },
   "outputs": [
    {
     "data": {
      "text/html": [
       "<div>\n",
       "<style scoped>\n",
       "    .dataframe tbody tr th:only-of-type {\n",
       "        vertical-align: middle;\n",
       "    }\n",
       "\n",
       "    .dataframe tbody tr th {\n",
       "        vertical-align: top;\n",
       "    }\n",
       "\n",
       "    .dataframe thead th {\n",
       "        text-align: right;\n",
       "    }\n",
       "</style>\n",
       "<table border=\"1\" class=\"dataframe\">\n",
       "  <thead>\n",
       "    <tr style=\"text-align: right;\">\n",
       "      <th></th>\n",
       "      <th>username</th>\n",
       "      <th>type</th>\n",
       "      <th>title</th>\n",
       "      <th>status</th>\n",
       "    </tr>\n",
       "  </thead>\n",
       "  <tbody>\n",
       "    <tr>\n",
       "      <th>0</th>\n",
       "      <td>AthulIsla</td>\n",
       "      <td>anime</td>\n",
       "      <td>5-toubun no Hanayome</td>\n",
       "      <td>2</td>\n",
       "    </tr>\n",
       "    <tr>\n",
       "      <th>1</th>\n",
       "      <td>AthulIsla</td>\n",
       "      <td>anime</td>\n",
       "      <td>Absolute Duo</td>\n",
       "      <td>2</td>\n",
       "    </tr>\n",
       "    <tr>\n",
       "      <th>2</th>\n",
       "      <td>AthulIsla</td>\n",
       "      <td>anime</td>\n",
       "      <td>Air</td>\n",
       "      <td>2</td>\n",
       "    </tr>\n",
       "    <tr>\n",
       "      <th>3</th>\n",
       "      <td>AthulIsla</td>\n",
       "      <td>anime</td>\n",
       "      <td>Akame ga Kill!</td>\n",
       "      <td>2</td>\n",
       "    </tr>\n",
       "    <tr>\n",
       "      <th>4</th>\n",
       "      <td>AthulIsla</td>\n",
       "      <td>anime</td>\n",
       "      <td>Akaneiro ni Somaru Saka</td>\n",
       "      <td>2</td>\n",
       "    </tr>\n",
       "    <tr>\n",
       "      <th>...</th>\n",
       "      <td>...</td>\n",
       "      <td>...</td>\n",
       "      <td>...</td>\n",
       "      <td>...</td>\n",
       "    </tr>\n",
       "    <tr>\n",
       "      <th>209236</th>\n",
       "      <td>MDLG</td>\n",
       "      <td>manga</td>\n",
       "      <td>Seishun Buta Yarou Series</td>\n",
       "      <td>6</td>\n",
       "    </tr>\n",
       "    <tr>\n",
       "      <th>209237</th>\n",
       "      <td>MDLG</td>\n",
       "      <td>manga</td>\n",
       "      <td>Shigatsu wa Kimi no Uso</td>\n",
       "      <td>6</td>\n",
       "    </tr>\n",
       "    <tr>\n",
       "      <th>209238</th>\n",
       "      <td>MDLG</td>\n",
       "      <td>manga</td>\n",
       "      <td>Solo Leveling</td>\n",
       "      <td>6</td>\n",
       "    </tr>\n",
       "    <tr>\n",
       "      <th>209239</th>\n",
       "      <td>MDLG</td>\n",
       "      <td>manga</td>\n",
       "      <td>Yahari Ore no Seishun Love Comedy wa Machigatt...</td>\n",
       "      <td>6</td>\n",
       "    </tr>\n",
       "    <tr>\n",
       "      <th>209240</th>\n",
       "      <td>MDLG</td>\n",
       "      <td>manga</td>\n",
       "      <td>Youkoso Jitsuryoku Shijou Shugi no Kyoushitsu e</td>\n",
       "      <td>6</td>\n",
       "    </tr>\n",
       "  </tbody>\n",
       "</table>\n",
       "<p>209241 rows × 4 columns</p>\n",
       "</div>"
      ],
      "text/plain": [
       "         username  ... status\n",
       "0       AthulIsla  ...      2\n",
       "1       AthulIsla  ...      2\n",
       "2       AthulIsla  ...      2\n",
       "3       AthulIsla  ...      2\n",
       "4       AthulIsla  ...      2\n",
       "...           ...  ...    ...\n",
       "209236       MDLG  ...      6\n",
       "209237       MDLG  ...      6\n",
       "209238       MDLG  ...      6\n",
       "209239       MDLG  ...      6\n",
       "209240       MDLG  ...      6\n",
       "\n",
       "[209241 rows x 4 columns]"
      ]
     },
     "execution_count": 71,
     "metadata": {},
     "output_type": "execute_result"
    }
   ],
   "source": [
    "users_havent_rate = ratings.merge(users_havent_rate, how='inner', on='username').drop(columns=['score_x', 'score_y', 'id'])\n",
    "users_havent_rate"
   ]
  },
  {
   "cell_type": "code",
   "execution_count": null,
   "metadata": {
    "colab": {
     "base_uri": "https://localhost:8080/",
     "height": 175
    },
    "id": "unrqP-C_52N0",
    "outputId": "44793207-8a0c-4315-cba5-1cf0bfce2538"
   },
   "outputs": [
    {
     "data": {
      "text/html": [
       "<div>\n",
       "<style scoped>\n",
       "    .dataframe tbody tr th:only-of-type {\n",
       "        vertical-align: middle;\n",
       "    }\n",
       "\n",
       "    .dataframe tbody tr th {\n",
       "        vertical-align: top;\n",
       "    }\n",
       "\n",
       "    .dataframe thead th {\n",
       "        text-align: right;\n",
       "    }\n",
       "</style>\n",
       "<table border=\"1\" class=\"dataframe\">\n",
       "  <thead>\n",
       "    <tr style=\"text-align: right;\">\n",
       "      <th></th>\n",
       "      <th>username</th>\n",
       "      <th>type</th>\n",
       "      <th>title</th>\n",
       "      <th>status</th>\n",
       "    </tr>\n",
       "  </thead>\n",
       "  <tbody>\n",
       "    <tr>\n",
       "      <th>count</th>\n",
       "      <td>209241</td>\n",
       "      <td>209241</td>\n",
       "      <td>209241</td>\n",
       "      <td>209241</td>\n",
       "    </tr>\n",
       "    <tr>\n",
       "      <th>unique</th>\n",
       "      <td>729</td>\n",
       "      <td>2</td>\n",
       "      <td>16504</td>\n",
       "      <td>5</td>\n",
       "    </tr>\n",
       "    <tr>\n",
       "      <th>top</th>\n",
       "      <td>jGRite</td>\n",
       "      <td>anime</td>\n",
       "      <td>Kimetsu no Yaiba</td>\n",
       "      <td>2</td>\n",
       "    </tr>\n",
       "    <tr>\n",
       "      <th>freq</th>\n",
       "      <td>3971</td>\n",
       "      <td>184531</td>\n",
       "      <td>517</td>\n",
       "      <td>113584</td>\n",
       "    </tr>\n",
       "  </tbody>\n",
       "</table>\n",
       "</div>"
      ],
      "text/plain": [
       "       username    type             title  status\n",
       "count    209241  209241            209241  209241\n",
       "unique      729       2             16504       5\n",
       "top      jGRite   anime  Kimetsu no Yaiba       2\n",
       "freq       3971  184531               517  113584"
      ]
     },
     "execution_count": 72,
     "metadata": {},
     "output_type": "execute_result"
    }
   ],
   "source": [
    "users_havent_rate.describe()"
   ]
  },
  {
   "cell_type": "code",
   "execution_count": null,
   "metadata": {
    "colab": {
     "base_uri": "https://localhost:8080/",
     "height": 282
    },
    "id": "F26hv-jx56Rs",
    "outputId": "1e63818c-1a1c-4bce-e374-fa68af198dd1"
   },
   "outputs": [
    {
     "data": {
      "text/plain": [
       "<matplotlib.axes._subplots.AxesSubplot at 0x7f1be3fc5350>"
      ]
     },
     "execution_count": 73,
     "metadata": {},
     "output_type": "execute_result"
    },
    {
     "data": {
      "image/png": "[encoded data removed]",
      "text/plain": [
       "<Figure size 432x288 with 1 Axes>"
      ]
     },
     "metadata": {},
     "output_type": "display_data"
    }
   ],
   "source": [
    "users_havent_rate.status.value_counts().sort_index().plot.bar()"
   ]
  },
  {
   "cell_type": "code",
   "execution_count": null,
   "metadata": {
    "colab": {
     "base_uri": "https://localhost:8080/",
     "height": 70
    },
    "id": "b4VdwhvN2Yco",
    "outputId": "78118dd5-9cb8-43b9-80ff-a7ba34167229"
   },
   "outputs": [
    {
     "data": {
      "application/vnd.google.colaboratory.intrinsic+json": {
       "type": "string"
      },
      "text/plain": [
       "\"\\ninvestigation suggest that these users are watching relatively highly rated titles (skew to the right),\\nwhich is easy to explain: they only watch good titles, and they liked it so much.\\nthough, there's one anomalous user that rated 128 titles at 10.0; that's probably too much?\\n\""
      ]
     },
     "execution_count": 74,
     "metadata": {},
     "output_type": "execute_result"
    }
   ],
   "source": [
    "# users that give all 10.0 for everything\n",
    "\"\"\"\n",
    "investigation suggest that these users are watching relatively highly rated titles (skew to the right),\n",
    "which is easy to explain: they only watch good titles, and they liked it so much.\n",
    "though, there's one anomalous user that rated 128 titles at 10.0; that's probably too much?\n",
    "\"\"\""
   ]
  },
  {
   "cell_type": "code",
   "execution_count": null,
   "metadata": {
    "colab": {
     "base_uri": "https://localhost:8080/"
    },
    "id": "kexYM5fN6ZlL",
    "outputId": "f7b7ac0c-f00a-4b8e-b66a-5e941485ef25"
   },
   "outputs": [
    {
     "data": {
      "text/plain": [
       "(34,)"
      ]
     },
     "execution_count": 75,
     "metadata": {},
     "output_type": "execute_result"
    }
   ],
   "source": [
    "users_rated_all_10 = users_score[users_score == 10]\n",
    "users_rated_all_10.shape"
   ]
  },
  {
   "cell_type": "code",
   "execution_count": null,
   "metadata": {
    "colab": {
     "base_uri": "https://localhost:8080/",
     "height": 206
    },
    "id": "w5uMS4fi6ndR",
    "outputId": "16da97b3-d90a-44d7-9340-5641200705f7"
   },
   "outputs": [
    {
     "data": {
      "text/html": [
       "<div>\n",
       "<style scoped>\n",
       "    .dataframe tbody tr th:only-of-type {\n",
       "        vertical-align: middle;\n",
       "    }\n",
       "\n",
       "    .dataframe tbody tr th {\n",
       "        vertical-align: top;\n",
       "    }\n",
       "\n",
       "    .dataframe thead th {\n",
       "        text-align: right;\n",
       "    }\n",
       "</style>\n",
       "<table border=\"1\" class=\"dataframe\">\n",
       "  <thead>\n",
       "    <tr style=\"text-align: right;\">\n",
       "      <th></th>\n",
       "      <th>username</th>\n",
       "      <th>type</th>\n",
       "      <th>title</th>\n",
       "      <th>status</th>\n",
       "    </tr>\n",
       "  </thead>\n",
       "  <tbody>\n",
       "    <tr>\n",
       "      <th>0</th>\n",
       "      <td>085396231607</td>\n",
       "      <td>anime</td>\n",
       "      <td>Vanitas no Karte</td>\n",
       "      <td>1</td>\n",
       "    </tr>\n",
       "    <tr>\n",
       "      <th>1</th>\n",
       "      <td>KawaiiSensei</td>\n",
       "      <td>anime</td>\n",
       "      <td>Shigatsu wa Kimi no Uso</td>\n",
       "      <td>2</td>\n",
       "    </tr>\n",
       "    <tr>\n",
       "      <th>2</th>\n",
       "      <td>Edward17</td>\n",
       "      <td>anime</td>\n",
       "      <td>Haikyuu!!</td>\n",
       "      <td>2</td>\n",
       "    </tr>\n",
       "    <tr>\n",
       "      <th>3</th>\n",
       "      <td>Edward17</td>\n",
       "      <td>anime</td>\n",
       "      <td>Haikyuu!! Second Season</td>\n",
       "      <td>2</td>\n",
       "    </tr>\n",
       "    <tr>\n",
       "      <th>4</th>\n",
       "      <td>Edward17</td>\n",
       "      <td>anime</td>\n",
       "      <td>Haikyuu!!: Karasuno Koukou vs. Shiratorizawa G...</td>\n",
       "      <td>2</td>\n",
       "    </tr>\n",
       "  </tbody>\n",
       "</table>\n",
       "</div>"
      ],
      "text/plain": [
       "       username  ... status\n",
       "0  085396231607  ...      1\n",
       "1  KawaiiSensei  ...      2\n",
       "2      Edward17  ...      2\n",
       "3      Edward17  ...      2\n",
       "4      Edward17  ...      2\n",
       "\n",
       "[5 rows x 4 columns]"
      ]
     },
     "execution_count": 76,
     "metadata": {},
     "output_type": "execute_result"
    }
   ],
   "source": [
    "users_rated_all_10 = ratings_clean.merge(users_rated_all_10, how='inner', on='username').drop(columns=['score_x', 'score_y', 'id'])\n",
    "users_rated_all_10.head()"
   ]
  },
  {
   "cell_type": "code",
   "execution_count": null,
   "metadata": {
    "colab": {
     "base_uri": "https://localhost:8080/",
     "height": 175
    },
    "id": "f6-o5N_O6xoi",
    "outputId": "3574fc6c-d1a5-4b17-861d-a9f219b804c6"
   },
   "outputs": [
    {
     "data": {
      "text/html": [
       "<div>\n",
       "<style scoped>\n",
       "    .dataframe tbody tr th:only-of-type {\n",
       "        vertical-align: middle;\n",
       "    }\n",
       "\n",
       "    .dataframe tbody tr th {\n",
       "        vertical-align: top;\n",
       "    }\n",
       "\n",
       "    .dataframe thead th {\n",
       "        text-align: right;\n",
       "    }\n",
       "</style>\n",
       "<table border=\"1\" class=\"dataframe\">\n",
       "  <thead>\n",
       "    <tr style=\"text-align: right;\">\n",
       "      <th></th>\n",
       "      <th>username</th>\n",
       "      <th>type</th>\n",
       "      <th>title</th>\n",
       "      <th>status</th>\n",
       "    </tr>\n",
       "  </thead>\n",
       "  <tbody>\n",
       "    <tr>\n",
       "      <th>count</th>\n",
       "      <td>195</td>\n",
       "      <td>195</td>\n",
       "      <td>195</td>\n",
       "      <td>195</td>\n",
       "    </tr>\n",
       "    <tr>\n",
       "      <th>unique</th>\n",
       "      <td>34</td>\n",
       "      <td>2</td>\n",
       "      <td>162</td>\n",
       "      <td>3</td>\n",
       "    </tr>\n",
       "    <tr>\n",
       "      <th>top</th>\n",
       "      <td>eivanlopez</td>\n",
       "      <td>anime</td>\n",
       "      <td>Hunter x Hunter (2011)</td>\n",
       "      <td>2</td>\n",
       "    </tr>\n",
       "    <tr>\n",
       "      <th>freq</th>\n",
       "      <td>128</td>\n",
       "      <td>188</td>\n",
       "      <td>3</td>\n",
       "      <td>173</td>\n",
       "    </tr>\n",
       "  </tbody>\n",
       "</table>\n",
       "</div>"
      ],
      "text/plain": [
       "          username   type                   title  status\n",
       "count          195    195                     195     195\n",
       "unique          34      2                     162       3\n",
       "top     eivanlopez  anime  Hunter x Hunter (2011)       2\n",
       "freq           128    188                       3     173"
      ]
     },
     "execution_count": 77,
     "metadata": {},
     "output_type": "execute_result"
    }
   ],
   "source": [
    "users_rated_all_10.describe()"
   ]
  },
  {
   "cell_type": "code",
   "execution_count": null,
   "metadata": {
    "colab": {
     "base_uri": "https://localhost:8080/"
    },
    "id": "bu9Ufqtp7MBb",
    "outputId": "950ba3c5-a3cb-4ede-a8ed-25ed6dbcd723"
   },
   "outputs": [
    {
     "data": {
      "text/plain": [
       "Hunter x Hunter (2011)                  3\n",
       "86                                      3\n",
       "Shingeki no Kyojin: The Final Season    3\n",
       "Fullmetal Alchemist: Brotherhood        3\n",
       "Shingeki no Kyojin                      3\n",
       "                                       ..\n",
       "Shokugeki no Souma: Shin no Sara        1\n",
       "Haikyuu!!: To the Top 2nd Season        1\n",
       "Motto To LOVE-Ru                        1\n",
       "Noragami                                1\n",
       "Perfect Blue                            1\n",
       "Name: title, Length: 162, dtype: int64"
      ]
     },
     "execution_count": 78,
     "metadata": {},
     "output_type": "execute_result"
    }
   ],
   "source": [
    "users_rated_all_10.title.value_counts()"
   ]
  },
  {
   "cell_type": "code",
   "execution_count": null,
   "metadata": {
    "colab": {
     "base_uri": "https://localhost:8080/",
     "height": 285
    },
    "id": "B3wuhN3h7VyS",
    "outputId": "097b0aab-cb6c-4a0a-b44b-f2afa746ee9f"
   },
   "outputs": [
    {
     "data": {
      "text/plain": [
       "<matplotlib.axes._subplots.AxesSubplot at 0x7f1be3e7ae50>"
      ]
     },
     "execution_count": 79,
     "metadata": {},
     "output_type": "execute_result"
    },
    {
     "data": {
      "image/png": "[encoded data removed]",
      "text/plain": [
       "<Figure size 432x288 with 1 Axes>"
      ]
     },
     "metadata": {},
     "output_type": "display_data"
    }
   ],
   "source": [
    "the_titles_rated_10 = ratings_clean.merge(users_rated_all_10.title, how='inner', on='title')\n",
    "the_titles_rated_10.groupby('title')['score'].mean().plot.hist()"
   ]
  },
  {
   "cell_type": "markdown",
   "metadata": {
    "id": "91_UAqmCboue"
   },
   "source": [
    "##### Subset view of data"
   ]
  },
  {
   "cell_type": "code",
   "execution_count": null,
   "metadata": {
    "colab": {
     "base_uri": "https://localhost:8080/",
     "height": 206
    },
    "id": "Wz5k0zKZvKz9",
    "outputId": "ad28dbd2-6c7e-485a-a9c0-23a550217a59"
   },
   "outputs": [
    {
     "data": {
      "text/html": [
       "<div>\n",
       "<style scoped>\n",
       "    .dataframe tbody tr th:only-of-type {\n",
       "        vertical-align: middle;\n",
       "    }\n",
       "\n",
       "    .dataframe tbody tr th {\n",
       "        vertical-align: top;\n",
       "    }\n",
       "\n",
       "    .dataframe thead th {\n",
       "        text-align: right;\n",
       "    }\n",
       "</style>\n",
       "<table border=\"1\" class=\"dataframe\">\n",
       "  <thead>\n",
       "    <tr style=\"text-align: right;\">\n",
       "      <th></th>\n",
       "      <th>username</th>\n",
       "      <th>type</th>\n",
       "      <th>id</th>\n",
       "      <th>title</th>\n",
       "      <th>score</th>\n",
       "      <th>status</th>\n",
       "    </tr>\n",
       "  </thead>\n",
       "  <tbody>\n",
       "    <tr>\n",
       "      <th>36</th>\n",
       "      <td>WeeabooKat</td>\n",
       "      <td>anime</td>\n",
       "      <td>10087</td>\n",
       "      <td>Fate/Zero</td>\n",
       "      <td>9</td>\n",
       "      <td>2</td>\n",
       "    </tr>\n",
       "    <tr>\n",
       "      <th>37</th>\n",
       "      <td>WeeabooKat</td>\n",
       "      <td>anime</td>\n",
       "      <td>11741</td>\n",
       "      <td>Fate/Zero 2nd Season</td>\n",
       "      <td>9</td>\n",
       "      <td>2</td>\n",
       "    </tr>\n",
       "    <tr>\n",
       "      <th>92</th>\n",
       "      <td>WeeabooKat</td>\n",
       "      <td>anime</td>\n",
       "      <td>37510</td>\n",
       "      <td>Mob Psycho 100 II</td>\n",
       "      <td>10</td>\n",
       "      <td>2</td>\n",
       "    </tr>\n",
       "    <tr>\n",
       "      <th>93</th>\n",
       "      <td>WeeabooKat</td>\n",
       "      <td>anime</td>\n",
       "      <td>17074</td>\n",
       "      <td>Monogatari Series: Second Season</td>\n",
       "      <td>9</td>\n",
       "      <td>2</td>\n",
       "    </tr>\n",
       "    <tr>\n",
       "      <th>112</th>\n",
       "      <td>WeeabooKat</td>\n",
       "      <td>anime</td>\n",
       "      <td>41899</td>\n",
       "      <td>Ore dake Haireru Kakushi Dungeon</td>\n",
       "      <td>4</td>\n",
       "      <td>2</td>\n",
       "    </tr>\n",
       "  </tbody>\n",
       "</table>\n",
       "</div>"
      ],
      "text/plain": [
       "       username   type     id                             title  score status\n",
       "36   WeeabooKat  anime  10087                         Fate/Zero      9      2\n",
       "37   WeeabooKat  anime  11741              Fate/Zero 2nd Season      9      2\n",
       "92   WeeabooKat  anime  37510                 Mob Psycho 100 II     10      2\n",
       "93   WeeabooKat  anime  17074  Monogatari Series: Second Season      9      2\n",
       "112  WeeabooKat  anime  41899  Ore dake Haireru Kakushi Dungeon      4      2"
      ]
     },
     "execution_count": 81,
     "metadata": {},
     "output_type": "execute_result"
    }
   ],
   "source": [
    "ratings_clean.head()"
   ]
  },
  {
   "cell_type": "code",
   "execution_count": null,
   "metadata": {
    "colab": {
     "base_uri": "https://localhost:8080/",
     "height": 394
    },
    "id": "jd7QhGWQvJYT",
    "outputId": "0b1defda-4402-4274-afe1-e0a16cebbf7f"
   },
   "outputs": [
    {
     "data": {
      "text/html": [
       "<div>\n",
       "<style scoped>\n",
       "    .dataframe tbody tr th:only-of-type {\n",
       "        vertical-align: middle;\n",
       "    }\n",
       "\n",
       "    .dataframe tbody tr th {\n",
       "        vertical-align: top;\n",
       "    }\n",
       "\n",
       "    .dataframe thead th {\n",
       "        text-align: right;\n",
       "    }\n",
       "</style>\n",
       "<table border=\"1\" class=\"dataframe\">\n",
       "  <thead>\n",
       "    <tr style=\"text-align: right;\">\n",
       "      <th>id</th>\n",
       "      <th>1535</th>\n",
       "      <th>16498</th>\n",
       "      <th>25777</th>\n",
       "      <th>30276</th>\n",
       "      <th>31964</th>\n",
       "      <th>32281</th>\n",
       "      <th>35760</th>\n",
       "      <th>38000</th>\n",
       "      <th>38524</th>\n",
       "      <th>40748</th>\n",
       "    </tr>\n",
       "    <tr>\n",
       "      <th>username</th>\n",
       "      <th></th>\n",
       "      <th></th>\n",
       "      <th></th>\n",
       "      <th></th>\n",
       "      <th></th>\n",
       "      <th></th>\n",
       "      <th></th>\n",
       "      <th></th>\n",
       "      <th></th>\n",
       "      <th></th>\n",
       "    </tr>\n",
       "  </thead>\n",
       "  <tbody>\n",
       "    <tr>\n",
       "      <th>-Mitsukii</th>\n",
       "      <td>10.0</td>\n",
       "      <td>10.0</td>\n",
       "      <td>8.0</td>\n",
       "      <td>8.0</td>\n",
       "      <td>8.0</td>\n",
       "      <td>10.0</td>\n",
       "      <td>8.0</td>\n",
       "      <td>8.0</td>\n",
       "      <td>9.0</td>\n",
       "      <td>9.0</td>\n",
       "    </tr>\n",
       "    <tr>\n",
       "      <th>-Sonal-</th>\n",
       "      <td>9.0</td>\n",
       "      <td>8.0</td>\n",
       "      <td>7.0</td>\n",
       "      <td>6.0</td>\n",
       "      <td>7.0</td>\n",
       "      <td>6.0</td>\n",
       "      <td>7.0</td>\n",
       "      <td>7.0</td>\n",
       "      <td>8.0</td>\n",
       "      <td>7.0</td>\n",
       "    </tr>\n",
       "    <tr>\n",
       "      <th>Coolest1234D</th>\n",
       "      <td>NaN</td>\n",
       "      <td>NaN</td>\n",
       "      <td>NaN</td>\n",
       "      <td>9.0</td>\n",
       "      <td>8.0</td>\n",
       "      <td>NaN</td>\n",
       "      <td>NaN</td>\n",
       "      <td>9.0</td>\n",
       "      <td>NaN</td>\n",
       "      <td>8.0</td>\n",
       "    </tr>\n",
       "    <tr>\n",
       "      <th>HikariHime93</th>\n",
       "      <td>9.0</td>\n",
       "      <td>10.0</td>\n",
       "      <td>10.0</td>\n",
       "      <td>10.0</td>\n",
       "      <td>10.0</td>\n",
       "      <td>10.0</td>\n",
       "      <td>10.0</td>\n",
       "      <td>10.0</td>\n",
       "      <td>10.0</td>\n",
       "      <td>10.0</td>\n",
       "    </tr>\n",
       "    <tr>\n",
       "      <th>Jotaku97</th>\n",
       "      <td>9.0</td>\n",
       "      <td>8.0</td>\n",
       "      <td>8.0</td>\n",
       "      <td>10.0</td>\n",
       "      <td>10.0</td>\n",
       "      <td>10.0</td>\n",
       "      <td>9.0</td>\n",
       "      <td>10.0</td>\n",
       "      <td>9.0</td>\n",
       "      <td>9.0</td>\n",
       "    </tr>\n",
       "    <tr>\n",
       "      <th>SingleH</th>\n",
       "      <td>7.0</td>\n",
       "      <td>7.0</td>\n",
       "      <td>7.0</td>\n",
       "      <td>5.0</td>\n",
       "      <td>3.0</td>\n",
       "      <td>3.0</td>\n",
       "      <td>7.0</td>\n",
       "      <td>3.0</td>\n",
       "      <td>4.0</td>\n",
       "      <td>3.0</td>\n",
       "    </tr>\n",
       "    <tr>\n",
       "      <th>TaichouSenpai</th>\n",
       "      <td>10.0</td>\n",
       "      <td>9.0</td>\n",
       "      <td>9.0</td>\n",
       "      <td>10.0</td>\n",
       "      <td>8.0</td>\n",
       "      <td>8.0</td>\n",
       "      <td>8.0</td>\n",
       "      <td>9.0</td>\n",
       "      <td>9.0</td>\n",
       "      <td>9.0</td>\n",
       "    </tr>\n",
       "    <tr>\n",
       "      <th>Yogumunt</th>\n",
       "      <td>10.0</td>\n",
       "      <td>10.0</td>\n",
       "      <td>10.0</td>\n",
       "      <td>9.0</td>\n",
       "      <td>8.0</td>\n",
       "      <td>10.0</td>\n",
       "      <td>10.0</td>\n",
       "      <td>8.0</td>\n",
       "      <td>10.0</td>\n",
       "      <td>9.0</td>\n",
       "    </tr>\n",
       "    <tr>\n",
       "      <th>batsling1234</th>\n",
       "      <td>9.0</td>\n",
       "      <td>6.0</td>\n",
       "      <td>7.0</td>\n",
       "      <td>8.0</td>\n",
       "      <td>8.0</td>\n",
       "      <td>8.0</td>\n",
       "      <td>7.0</td>\n",
       "      <td>7.0</td>\n",
       "      <td>8.0</td>\n",
       "      <td>5.0</td>\n",
       "    </tr>\n",
       "    <tr>\n",
       "      <th>i16x</th>\n",
       "      <td>7.0</td>\n",
       "      <td>10.0</td>\n",
       "      <td>9.0</td>\n",
       "      <td>8.0</td>\n",
       "      <td>8.0</td>\n",
       "      <td>9.0</td>\n",
       "      <td>9.0</td>\n",
       "      <td>8.0</td>\n",
       "      <td>8.0</td>\n",
       "      <td>8.0</td>\n",
       "    </tr>\n",
       "  </tbody>\n",
       "</table>\n",
       "</div>"
      ],
      "text/plain": [
       "id             1535   16498  25777  30276  ...  35760  38000  38524  40748\n",
       "username                                   ...                            \n",
       "-Mitsukii       10.0   10.0    8.0    8.0  ...    8.0    8.0    9.0    9.0\n",
       "-Sonal-          9.0    8.0    7.0    6.0  ...    7.0    7.0    8.0    7.0\n",
       "Coolest1234D     NaN    NaN    NaN    9.0  ...    NaN    9.0    NaN    8.0\n",
       "HikariHime93     9.0   10.0   10.0   10.0  ...   10.0   10.0   10.0   10.0\n",
       "Jotaku97         9.0    8.0    8.0   10.0  ...    9.0   10.0    9.0    9.0\n",
       "SingleH          7.0    7.0    7.0    5.0  ...    7.0    3.0    4.0    3.0\n",
       "TaichouSenpai   10.0    9.0    9.0   10.0  ...    8.0    9.0    9.0    9.0\n",
       "Yogumunt        10.0   10.0   10.0    9.0  ...   10.0    8.0   10.0    9.0\n",
       "batsling1234     9.0    6.0    7.0    8.0  ...    7.0    7.0    8.0    5.0\n",
       "i16x             7.0   10.0    9.0    8.0  ...    9.0    8.0    8.0    8.0\n",
       "\n",
       "[10 rows x 10 columns]"
      ]
     },
     "execution_count": 82,
     "metadata": {},
     "output_type": "execute_result"
    }
   ],
   "source": [
    "top_users = ratings_clean.groupby('username')['score'].count().sort_values(ascending=False)[:10]\n",
    "top_movies = ratings_clean.groupby('id')['score'].count().sort_values(ascending=False)[:10]\n",
    "ratings_subset = ratings_clean.join(top_users, how='inner', on='username', rsuffix='_r') \\\n",
    "\t\t\t\t\t\t                  .join(top_movies, how='inner', on='id', rsuffix='_r')\n",
    "\n",
    "pd.crosstab(ratings_subset.username, ratings_subset.id, ratings_subset.score, aggfunc=np.mean)"
   ]
  },
  {
   "cell_type": "code",
   "execution_count": null,
   "metadata": {
    "colab": {
     "base_uri": "https://localhost:8080/",
     "height": 394
    },
    "id": "FPDclLY-LHVi",
    "outputId": "c4534a19-aa41-446c-bba7-fd1c08423341"
   },
   "outputs": [
    {
     "data": {
      "text/html": [
       "<div>\n",
       "<style scoped>\n",
       "    .dataframe tbody tr th:only-of-type {\n",
       "        vertical-align: middle;\n",
       "    }\n",
       "\n",
       "    .dataframe tbody tr th {\n",
       "        vertical-align: top;\n",
       "    }\n",
       "\n",
       "    .dataframe thead th {\n",
       "        text-align: right;\n",
       "    }\n",
       "</style>\n",
       "<table border=\"1\" class=\"dataframe\">\n",
       "  <thead>\n",
       "    <tr style=\"text-align: right;\">\n",
       "      <th>id</th>\n",
       "      <th>392</th>\n",
       "      <th>1840</th>\n",
       "      <th>7088</th>\n",
       "      <th>13125</th>\n",
       "      <th>18247</th>\n",
       "      <th>24765</th>\n",
       "      <th>31704</th>\n",
       "      <th>35557</th>\n",
       "      <th>35847</th>\n",
       "      <th>36999</th>\n",
       "      <th>103851</th>\n",
       "    </tr>\n",
       "    <tr>\n",
       "      <th>username</th>\n",
       "      <th></th>\n",
       "      <th></th>\n",
       "      <th></th>\n",
       "      <th></th>\n",
       "      <th></th>\n",
       "      <th></th>\n",
       "      <th></th>\n",
       "      <th></th>\n",
       "      <th></th>\n",
       "      <th></th>\n",
       "      <th></th>\n",
       "    </tr>\n",
       "  </thead>\n",
       "  <tbody>\n",
       "    <tr>\n",
       "      <th>Daxonzion-</th>\n",
       "      <td>NaN</td>\n",
       "      <td>NaN</td>\n",
       "      <td>NaN</td>\n",
       "      <td>NaN</td>\n",
       "      <td>4.0</td>\n",
       "      <td>NaN</td>\n",
       "      <td>NaN</td>\n",
       "      <td>NaN</td>\n",
       "      <td>NaN</td>\n",
       "      <td>NaN</td>\n",
       "      <td>NaN</td>\n",
       "    </tr>\n",
       "    <tr>\n",
       "      <th>FIXXX</th>\n",
       "      <td>9.0</td>\n",
       "      <td>NaN</td>\n",
       "      <td>6.0</td>\n",
       "      <td>NaN</td>\n",
       "      <td>NaN</td>\n",
       "      <td>NaN</td>\n",
       "      <td>7.0</td>\n",
       "      <td>NaN</td>\n",
       "      <td>NaN</td>\n",
       "      <td>NaN</td>\n",
       "      <td>NaN</td>\n",
       "    </tr>\n",
       "    <tr>\n",
       "      <th>Galo_Jimenez</th>\n",
       "      <td>NaN</td>\n",
       "      <td>4.0</td>\n",
       "      <td>7.0</td>\n",
       "      <td>10.0</td>\n",
       "      <td>3.0</td>\n",
       "      <td>NaN</td>\n",
       "      <td>NaN</td>\n",
       "      <td>10.0</td>\n",
       "      <td>NaN</td>\n",
       "      <td>NaN</td>\n",
       "      <td>NaN</td>\n",
       "    </tr>\n",
       "    <tr>\n",
       "      <th>KingCodeMonkey</th>\n",
       "      <td>NaN</td>\n",
       "      <td>NaN</td>\n",
       "      <td>NaN</td>\n",
       "      <td>9.0</td>\n",
       "      <td>3.0</td>\n",
       "      <td>NaN</td>\n",
       "      <td>NaN</td>\n",
       "      <td>NaN</td>\n",
       "      <td>NaN</td>\n",
       "      <td>6.0</td>\n",
       "      <td>7.0</td>\n",
       "    </tr>\n",
       "    <tr>\n",
       "      <th>KisaragiRP</th>\n",
       "      <td>9.0</td>\n",
       "      <td>NaN</td>\n",
       "      <td>NaN</td>\n",
       "      <td>NaN</td>\n",
       "      <td>NaN</td>\n",
       "      <td>NaN</td>\n",
       "      <td>NaN</td>\n",
       "      <td>NaN</td>\n",
       "      <td>8.0</td>\n",
       "      <td>9.0</td>\n",
       "      <td>NaN</td>\n",
       "    </tr>\n",
       "    <tr>\n",
       "      <th>MrDonCaliche</th>\n",
       "      <td>NaN</td>\n",
       "      <td>NaN</td>\n",
       "      <td>NaN</td>\n",
       "      <td>7.0</td>\n",
       "      <td>NaN</td>\n",
       "      <td>NaN</td>\n",
       "      <td>NaN</td>\n",
       "      <td>8.0</td>\n",
       "      <td>NaN</td>\n",
       "      <td>NaN</td>\n",
       "      <td>NaN</td>\n",
       "    </tr>\n",
       "    <tr>\n",
       "      <th>RadioactiveGhost</th>\n",
       "      <td>NaN</td>\n",
       "      <td>8.0</td>\n",
       "      <td>NaN</td>\n",
       "      <td>NaN</td>\n",
       "      <td>NaN</td>\n",
       "      <td>9.0</td>\n",
       "      <td>NaN</td>\n",
       "      <td>9.0</td>\n",
       "      <td>8.0</td>\n",
       "      <td>10.0</td>\n",
       "      <td>10.0</td>\n",
       "    </tr>\n",
       "    <tr>\n",
       "      <th>Rathesungod</th>\n",
       "      <td>NaN</td>\n",
       "      <td>NaN</td>\n",
       "      <td>NaN</td>\n",
       "      <td>NaN</td>\n",
       "      <td>NaN</td>\n",
       "      <td>6.0</td>\n",
       "      <td>NaN</td>\n",
       "      <td>NaN</td>\n",
       "      <td>NaN</td>\n",
       "      <td>NaN</td>\n",
       "      <td>NaN</td>\n",
       "    </tr>\n",
       "    <tr>\n",
       "      <th>i-have-a-problem</th>\n",
       "      <td>NaN</td>\n",
       "      <td>NaN</td>\n",
       "      <td>NaN</td>\n",
       "      <td>10.0</td>\n",
       "      <td>NaN</td>\n",
       "      <td>NaN</td>\n",
       "      <td>NaN</td>\n",
       "      <td>NaN</td>\n",
       "      <td>NaN</td>\n",
       "      <td>9.0</td>\n",
       "      <td>NaN</td>\n",
       "    </tr>\n",
       "    <tr>\n",
       "      <th>jltn</th>\n",
       "      <td>NaN</td>\n",
       "      <td>NaN</td>\n",
       "      <td>NaN</td>\n",
       "      <td>NaN</td>\n",
       "      <td>6.0</td>\n",
       "      <td>NaN</td>\n",
       "      <td>6.0</td>\n",
       "      <td>NaN</td>\n",
       "      <td>NaN</td>\n",
       "      <td>3.0</td>\n",
       "      <td>NaN</td>\n",
       "    </tr>\n",
       "  </tbody>\n",
       "</table>\n",
       "</div>"
      ],
      "text/plain": [
       "id                392     1840    7088    ...  35847   36999   103851\n",
       "username                                  ...                        \n",
       "Daxonzion-           NaN     NaN     NaN  ...     NaN     NaN     NaN\n",
       "FIXXX                9.0     NaN     6.0  ...     NaN     NaN     NaN\n",
       "Galo_Jimenez         NaN     4.0     7.0  ...     NaN     NaN     NaN\n",
       "KingCodeMonkey       NaN     NaN     NaN  ...     NaN     6.0     7.0\n",
       "KisaragiRP           9.0     NaN     NaN  ...     8.0     9.0     NaN\n",
       "MrDonCaliche         NaN     NaN     NaN  ...     NaN     NaN     NaN\n",
       "RadioactiveGhost     NaN     8.0     NaN  ...     8.0    10.0    10.0\n",
       "Rathesungod          NaN     NaN     NaN  ...     NaN     NaN     NaN\n",
       "i-have-a-problem     NaN     NaN     NaN  ...     NaN     9.0     NaN\n",
       "jltn                 NaN     NaN     NaN  ...     NaN     3.0     NaN\n",
       "\n",
       "[10 rows x 11 columns]"
      ]
     },
     "execution_count": 20,
     "metadata": {},
     "output_type": "execute_result"
    }
   ],
   "source": [
    "top_users = ratings_clean.groupby('username')['score'].count().sort_values(ascending=False)[500:511]\n",
    "top_movies = ratings_clean.groupby('id')['score'].count().sort_values(ascending=False)[500:511]\n",
    "ratings_subset = ratings_clean.join(top_users, how='inner', on='username', rsuffix='_r') \\\n",
    "\t\t\t\t\t\t                  .join(top_movies, how='inner', on='id', rsuffix='_r')\n",
    "\n",
    "pd.crosstab(ratings_subset.username, ratings_subset.id, ratings_subset.score, aggfunc=np.mean)"
   ]
  },
  {
   "cell_type": "markdown",
   "metadata": {
    "id": "eCRETiqsFWVv"
   },
   "source": [
    "##### User category"
   ]
  },
  {
   "cell_type": "code",
   "execution_count": null,
   "metadata": {
    "id": "2E5SshBXFfug"
   },
   "outputs": [],
   "source": [
    "# Do people that mostly watch anime, read less manga; vice versa"
   ]
  },
  {
   "cell_type": "code",
   "execution_count": null,
   "metadata": {
    "colab": {
     "base_uri": "https://localhost:8080/",
     "height": 238
    },
    "id": "vUV8sLgIDJO6",
    "outputId": "d41dbd04-d34c-4409-90b9-b5a58d6a3e4c"
   },
   "outputs": [
    {
     "data": {
      "text/html": [
       "<div>\n",
       "<style scoped>\n",
       "    .dataframe tbody tr th:only-of-type {\n",
       "        vertical-align: middle;\n",
       "    }\n",
       "\n",
       "    .dataframe tbody tr th {\n",
       "        vertical-align: top;\n",
       "    }\n",
       "\n",
       "    .dataframe thead th {\n",
       "        text-align: right;\n",
       "    }\n",
       "</style>\n",
       "<table border=\"1\" class=\"dataframe\">\n",
       "  <thead>\n",
       "    <tr style=\"text-align: right;\">\n",
       "      <th>type</th>\n",
       "      <th>anime</th>\n",
       "      <th>manga</th>\n",
       "    </tr>\n",
       "    <tr>\n",
       "      <th>username</th>\n",
       "      <th></th>\n",
       "      <th></th>\n",
       "    </tr>\n",
       "  </thead>\n",
       "  <tbody>\n",
       "    <tr>\n",
       "      <th>---DANIEL---</th>\n",
       "      <td>48.0</td>\n",
       "      <td>6.0</td>\n",
       "    </tr>\n",
       "    <tr>\n",
       "      <th>---KING---</th>\n",
       "      <td>305.0</td>\n",
       "      <td>6.0</td>\n",
       "    </tr>\n",
       "    <tr>\n",
       "      <th>---Spartacus---</th>\n",
       "      <td>4.0</td>\n",
       "      <td>NaN</td>\n",
       "    </tr>\n",
       "    <tr>\n",
       "      <th>--ALEX--</th>\n",
       "      <td>854.0</td>\n",
       "      <td>70.0</td>\n",
       "    </tr>\n",
       "    <tr>\n",
       "      <th>--ANONYMOUS--</th>\n",
       "      <td>495.0</td>\n",
       "      <td>8.0</td>\n",
       "    </tr>\n",
       "  </tbody>\n",
       "</table>\n",
       "</div>"
      ],
      "text/plain": [
       "type             anime  manga\n",
       "username                     \n",
       "---DANIEL---      48.0    6.0\n",
       "---KING---       305.0    6.0\n",
       "---Spartacus---    4.0    NaN\n",
       "--ALEX--         854.0   70.0\n",
       "--ANONYMOUS--    495.0    8.0"
      ]
     },
     "execution_count": 26,
     "metadata": {},
     "output_type": "execute_result"
    }
   ],
   "source": [
    "type_per_users_count = pd.crosstab(ratings_clean['username'], ratings_clean['type'], ratings_clean['title'], aggfunc='count')\n",
    "type_per_users_count.head()"
   ]
  },
  {
   "cell_type": "code",
   "execution_count": null,
   "metadata": {
    "colab": {
     "base_uri": "https://localhost:8080/"
    },
    "id": "aR1vS75JImCh",
    "outputId": "1df25512-1403-4583-d667-f9aafc6bf48c"
   },
   "outputs": [
    {
     "data": {
      "text/plain": [
       "type\n",
       "anime     103\n",
       "manga    4829\n",
       "dtype: int64"
      ]
     },
     "execution_count": 27,
     "metadata": {},
     "output_type": "execute_result"
    }
   ],
   "source": [
    "type_per_users_count.isna().sum()"
   ]
  },
  {
   "cell_type": "code",
   "execution_count": null,
   "metadata": {
    "id": "6SRNduLeI6PY"
   },
   "outputs": [],
   "source": [
    "type_per_users_count.fillna(value=0, inplace=True)"
   ]
  },
  {
   "cell_type": "code",
   "execution_count": null,
   "metadata": {
    "colab": {
     "base_uri": "https://localhost:8080/"
    },
    "id": "_JM8qZ5pF0pv",
    "outputId": "78932608-a862-4087-b182-dfd4c7d43d1a"
   },
   "outputs": [
    {
     "data": {
      "text/plain": [
       "(17548, 2)"
      ]
     },
     "execution_count": 29,
     "metadata": {},
     "output_type": "execute_result"
    }
   ],
   "source": [
    "type_per_users_count.shape"
   ]
  },
  {
   "cell_type": "code",
   "execution_count": null,
   "metadata": {
    "colab": {
     "base_uri": "https://localhost:8080/",
     "height": 300
    },
    "id": "ZBbgAEbUDXez",
    "outputId": "3713869b-6896-40e0-bc47-4b38a08dd754"
   },
   "outputs": [
    {
     "data": {
      "text/html": [
       "<div>\n",
       "<style scoped>\n",
       "    .dataframe tbody tr th:only-of-type {\n",
       "        vertical-align: middle;\n",
       "    }\n",
       "\n",
       "    .dataframe tbody tr th {\n",
       "        vertical-align: top;\n",
       "    }\n",
       "\n",
       "    .dataframe thead th {\n",
       "        text-align: right;\n",
       "    }\n",
       "</style>\n",
       "<table border=\"1\" class=\"dataframe\">\n",
       "  <thead>\n",
       "    <tr style=\"text-align: right;\">\n",
       "      <th>type</th>\n",
       "      <th>anime</th>\n",
       "      <th>manga</th>\n",
       "    </tr>\n",
       "  </thead>\n",
       "  <tbody>\n",
       "    <tr>\n",
       "      <th>count</th>\n",
       "      <td>17548.000000</td>\n",
       "      <td>17548.000000</td>\n",
       "    </tr>\n",
       "    <tr>\n",
       "      <th>mean</th>\n",
       "      <td>220.967119</td>\n",
       "      <td>35.803567</td>\n",
       "    </tr>\n",
       "    <tr>\n",
       "      <th>std</th>\n",
       "      <td>323.814024</td>\n",
       "      <td>140.701482</td>\n",
       "    </tr>\n",
       "    <tr>\n",
       "      <th>min</th>\n",
       "      <td>0.000000</td>\n",
       "      <td>0.000000</td>\n",
       "    </tr>\n",
       "    <tr>\n",
       "      <th>25%</th>\n",
       "      <td>57.000000</td>\n",
       "      <td>0.000000</td>\n",
       "    </tr>\n",
       "    <tr>\n",
       "      <th>50%</th>\n",
       "      <td>133.000000</td>\n",
       "      <td>5.000000</td>\n",
       "    </tr>\n",
       "    <tr>\n",
       "      <th>75%</th>\n",
       "      <td>268.000000</td>\n",
       "      <td>22.000000</td>\n",
       "    </tr>\n",
       "    <tr>\n",
       "      <th>max</th>\n",
       "      <td>11506.000000</td>\n",
       "      <td>4119.000000</td>\n",
       "    </tr>\n",
       "  </tbody>\n",
       "</table>\n",
       "</div>"
      ],
      "text/plain": [
       "type          anime         manga\n",
       "count  17548.000000  17548.000000\n",
       "mean     220.967119     35.803567\n",
       "std      323.814024    140.701482\n",
       "min        0.000000      0.000000\n",
       "25%       57.000000      0.000000\n",
       "50%      133.000000      5.000000\n",
       "75%      268.000000     22.000000\n",
       "max    11506.000000   4119.000000"
      ]
     },
     "execution_count": 30,
     "metadata": {},
     "output_type": "execute_result"
    }
   ],
   "source": [
    "type_per_users_count.describe()"
   ]
  },
  {
   "cell_type": "code",
   "execution_count": null,
   "metadata": {
    "colab": {
     "base_uri": "https://localhost:8080/",
     "height": 238
    },
    "id": "pCdodF_MB29Y",
    "outputId": "03f86979-c72a-4575-bdbc-3edbbd1594bd"
   },
   "outputs": [
    {
     "data": {
      "text/html": [
       "<div>\n",
       "<style scoped>\n",
       "    .dataframe tbody tr th:only-of-type {\n",
       "        vertical-align: middle;\n",
       "    }\n",
       "\n",
       "    .dataframe tbody tr th {\n",
       "        vertical-align: top;\n",
       "    }\n",
       "\n",
       "    .dataframe thead th {\n",
       "        text-align: right;\n",
       "    }\n",
       "</style>\n",
       "<table border=\"1\" class=\"dataframe\">\n",
       "  <thead>\n",
       "    <tr style=\"text-align: right;\">\n",
       "      <th>type</th>\n",
       "      <th>anime</th>\n",
       "      <th>manga</th>\n",
       "      <th>anime_proportion</th>\n",
       "      <th>manga_proportion</th>\n",
       "    </tr>\n",
       "    <tr>\n",
       "      <th>username</th>\n",
       "      <th></th>\n",
       "      <th></th>\n",
       "      <th></th>\n",
       "      <th></th>\n",
       "    </tr>\n",
       "  </thead>\n",
       "  <tbody>\n",
       "    <tr>\n",
       "      <th>---DANIEL---</th>\n",
       "      <td>48.0</td>\n",
       "      <td>6.0</td>\n",
       "      <td>0.888889</td>\n",
       "      <td>0.111111</td>\n",
       "    </tr>\n",
       "    <tr>\n",
       "      <th>---KING---</th>\n",
       "      <td>305.0</td>\n",
       "      <td>6.0</td>\n",
       "      <td>0.980707</td>\n",
       "      <td>0.019293</td>\n",
       "    </tr>\n",
       "    <tr>\n",
       "      <th>---Spartacus---</th>\n",
       "      <td>4.0</td>\n",
       "      <td>0.0</td>\n",
       "      <td>1.000000</td>\n",
       "      <td>0.000000</td>\n",
       "    </tr>\n",
       "    <tr>\n",
       "      <th>--ALEX--</th>\n",
       "      <td>854.0</td>\n",
       "      <td>70.0</td>\n",
       "      <td>0.924242</td>\n",
       "      <td>0.075758</td>\n",
       "    </tr>\n",
       "    <tr>\n",
       "      <th>--ANONYMOUS--</th>\n",
       "      <td>495.0</td>\n",
       "      <td>8.0</td>\n",
       "      <td>0.984095</td>\n",
       "      <td>0.015905</td>\n",
       "    </tr>\n",
       "  </tbody>\n",
       "</table>\n",
       "</div>"
      ],
      "text/plain": [
       "type             anime  manga  anime_proportion  manga_proportion\n",
       "username                                                         \n",
       "---DANIEL---      48.0    6.0          0.888889          0.111111\n",
       "---KING---       305.0    6.0          0.980707          0.019293\n",
       "---Spartacus---    4.0    0.0          1.000000          0.000000\n",
       "--ALEX--         854.0   70.0          0.924242          0.075758\n",
       "--ANONYMOUS--    495.0    8.0          0.984095          0.015905"
      ]
     },
     "execution_count": 31,
     "metadata": {},
     "output_type": "execute_result"
    }
   ],
   "source": [
    "type_per_users_count['anime_proportion'] = type_per_users_count.anime / (type_per_users_count.anime + type_per_users_count.manga)\n",
    "type_per_users_count['manga_proportion'] = type_per_users_count.manga / (type_per_users_count.anime + type_per_users_count.manga)\n",
    "\n",
    "type_per_users_count.head()"
   ]
  },
  {
   "cell_type": "code",
   "execution_count": null,
   "metadata": {
    "colab": {
     "base_uri": "https://localhost:8080/",
     "height": 238
    },
    "id": "ofqJTfK2EaB1",
    "outputId": "422aae79-c97c-4f44-a0aa-f4877b9d3836"
   },
   "outputs": [
    {
     "data": {
      "text/html": [
       "<div>\n",
       "<style scoped>\n",
       "    .dataframe tbody tr th:only-of-type {\n",
       "        vertical-align: middle;\n",
       "    }\n",
       "\n",
       "    .dataframe tbody tr th {\n",
       "        vertical-align: top;\n",
       "    }\n",
       "\n",
       "    .dataframe thead th {\n",
       "        text-align: right;\n",
       "    }\n",
       "</style>\n",
       "<table border=\"1\" class=\"dataframe\">\n",
       "  <thead>\n",
       "    <tr style=\"text-align: right;\">\n",
       "      <th>type</th>\n",
       "      <th>anime</th>\n",
       "      <th>manga</th>\n",
       "      <th>anime_proportion</th>\n",
       "      <th>manga_proportion</th>\n",
       "      <th>users_category</th>\n",
       "    </tr>\n",
       "    <tr>\n",
       "      <th>username</th>\n",
       "      <th></th>\n",
       "      <th></th>\n",
       "      <th></th>\n",
       "      <th></th>\n",
       "      <th></th>\n",
       "    </tr>\n",
       "  </thead>\n",
       "  <tbody>\n",
       "    <tr>\n",
       "      <th>---DANIEL---</th>\n",
       "      <td>48.0</td>\n",
       "      <td>6.0</td>\n",
       "      <td>0.888889</td>\n",
       "      <td>0.111111</td>\n",
       "      <td>anime</td>\n",
       "    </tr>\n",
       "    <tr>\n",
       "      <th>---KING---</th>\n",
       "      <td>305.0</td>\n",
       "      <td>6.0</td>\n",
       "      <td>0.980707</td>\n",
       "      <td>0.019293</td>\n",
       "      <td>anime</td>\n",
       "    </tr>\n",
       "    <tr>\n",
       "      <th>---Spartacus---</th>\n",
       "      <td>4.0</td>\n",
       "      <td>0.0</td>\n",
       "      <td>1.000000</td>\n",
       "      <td>0.000000</td>\n",
       "      <td>anime</td>\n",
       "    </tr>\n",
       "    <tr>\n",
       "      <th>--ALEX--</th>\n",
       "      <td>854.0</td>\n",
       "      <td>70.0</td>\n",
       "      <td>0.924242</td>\n",
       "      <td>0.075758</td>\n",
       "      <td>anime</td>\n",
       "    </tr>\n",
       "    <tr>\n",
       "      <th>--ANONYMOUS--</th>\n",
       "      <td>495.0</td>\n",
       "      <td>8.0</td>\n",
       "      <td>0.984095</td>\n",
       "      <td>0.015905</td>\n",
       "      <td>anime</td>\n",
       "    </tr>\n",
       "  </tbody>\n",
       "</table>\n",
       "</div>"
      ],
      "text/plain": [
       "type             anime  manga  ...  manga_proportion  users_category\n",
       "username                       ...                                  \n",
       "---DANIEL---      48.0    6.0  ...          0.111111           anime\n",
       "---KING---       305.0    6.0  ...          0.019293           anime\n",
       "---Spartacus---    4.0    0.0  ...          0.000000           anime\n",
       "--ALEX--         854.0   70.0  ...          0.075758           anime\n",
       "--ANONYMOUS--    495.0    8.0  ...          0.015905           anime\n",
       "\n",
       "[5 rows x 5 columns]"
      ]
     },
     "execution_count": 32,
     "metadata": {},
     "output_type": "execute_result"
    }
   ],
   "source": [
    "def users_category(anime_proportion):\n",
    "  if anime_proportion > .75:\n",
    "    return 'anime'\n",
    "  elif anime_proportion < .25:\n",
    "    return 'manga'\n",
    "  else:\n",
    "    return 'balanced'\n",
    "\n",
    "type_per_users_count['users_category'] = type_per_users_count.anime_proportion.apply(users_category)\n",
    "type_per_users_count.head()"
   ]
  },
  {
   "cell_type": "code",
   "execution_count": null,
   "metadata": {
    "colab": {
     "base_uri": "https://localhost:8080/"
    },
    "id": "2YpvYti_FoMd",
    "outputId": "4f2aeaf6-5c05-4750-8dfb-fa20557c68ee"
   },
   "outputs": [
    {
     "data": {
      "text/plain": [
       "anime       15528\n",
       "balanced     1801\n",
       "manga         219\n",
       "Name: users_category, dtype: int64"
      ]
     },
     "execution_count": 33,
     "metadata": {},
     "output_type": "execute_result"
    }
   ],
   "source": [
    "type_per_users_count.users_category.value_counts()"
   ]
  },
  {
   "cell_type": "code",
   "execution_count": null,
   "metadata": {
    "colab": {
     "base_uri": "https://localhost:8080/",
     "height": 238
    },
    "id": "9TOL2v7rGV5-",
    "outputId": "f54eaebb-cca2-4c9d-f8a9-32bbdeb6f1c6"
   },
   "outputs": [
    {
     "data": {
      "text/html": [
       "<div>\n",
       "<style scoped>\n",
       "    .dataframe tbody tr th:only-of-type {\n",
       "        vertical-align: middle;\n",
       "    }\n",
       "\n",
       "    .dataframe tbody tr th {\n",
       "        vertical-align: top;\n",
       "    }\n",
       "\n",
       "    .dataframe thead th {\n",
       "        text-align: right;\n",
       "    }\n",
       "</style>\n",
       "<table border=\"1\" class=\"dataframe\">\n",
       "  <thead>\n",
       "    <tr style=\"text-align: right;\">\n",
       "      <th>type</th>\n",
       "      <th>anime</th>\n",
       "      <th>manga</th>\n",
       "      <th>anime_proportion</th>\n",
       "      <th>manga_proportion</th>\n",
       "      <th>users_category</th>\n",
       "    </tr>\n",
       "    <tr>\n",
       "      <th>username</th>\n",
       "      <th></th>\n",
       "      <th></th>\n",
       "      <th></th>\n",
       "      <th></th>\n",
       "      <th></th>\n",
       "    </tr>\n",
       "  </thead>\n",
       "  <tbody>\n",
       "    <tr>\n",
       "      <th>--FallenAngel--</th>\n",
       "      <td>473.0</td>\n",
       "      <td>485.0</td>\n",
       "      <td>0.493737</td>\n",
       "      <td>0.506263</td>\n",
       "      <td>balanced</td>\n",
       "    </tr>\n",
       "    <tr>\n",
       "      <th>--Tsubasa--</th>\n",
       "      <td>272.0</td>\n",
       "      <td>116.0</td>\n",
       "      <td>0.701031</td>\n",
       "      <td>0.298969</td>\n",
       "      <td>balanced</td>\n",
       "    </tr>\n",
       "    <tr>\n",
       "      <th>-606</th>\n",
       "      <td>109.0</td>\n",
       "      <td>43.0</td>\n",
       "      <td>0.717105</td>\n",
       "      <td>0.282895</td>\n",
       "      <td>balanced</td>\n",
       "    </tr>\n",
       "    <tr>\n",
       "      <th>-Ackerman</th>\n",
       "      <td>2205.0</td>\n",
       "      <td>1224.0</td>\n",
       "      <td>0.643045</td>\n",
       "      <td>0.356955</td>\n",
       "      <td>balanced</td>\n",
       "    </tr>\n",
       "    <tr>\n",
       "      <th>-Akiru-</th>\n",
       "      <td>162.0</td>\n",
       "      <td>54.0</td>\n",
       "      <td>0.750000</td>\n",
       "      <td>0.250000</td>\n",
       "      <td>balanced</td>\n",
       "    </tr>\n",
       "  </tbody>\n",
       "</table>\n",
       "</div>"
      ],
      "text/plain": [
       "type              anime   manga  ...  manga_proportion  users_category\n",
       "username                         ...                                  \n",
       "--FallenAngel--   473.0   485.0  ...          0.506263        balanced\n",
       "--Tsubasa--       272.0   116.0  ...          0.298969        balanced\n",
       "-606              109.0    43.0  ...          0.282895        balanced\n",
       "-Ackerman        2205.0  1224.0  ...          0.356955        balanced\n",
       "-Akiru-           162.0    54.0  ...          0.250000        balanced\n",
       "\n",
       "[5 rows x 5 columns]"
      ]
     },
     "execution_count": 34,
     "metadata": {},
     "output_type": "execute_result"
    }
   ],
   "source": [
    "type_per_users_count[type_per_users_count.users_category == 'balanced'].head()"
   ]
  },
  {
   "cell_type": "code",
   "execution_count": null,
   "metadata": {
    "colab": {
     "base_uri": "https://localhost:8080/",
     "height": 238
    },
    "id": "tKL609kzGiJW",
    "outputId": "041a6140-9191-4398-c19c-b20c04a7f590"
   },
   "outputs": [
    {
     "data": {
      "text/html": [
       "<div>\n",
       "<style scoped>\n",
       "    .dataframe tbody tr th:only-of-type {\n",
       "        vertical-align: middle;\n",
       "    }\n",
       "\n",
       "    .dataframe tbody tr th {\n",
       "        vertical-align: top;\n",
       "    }\n",
       "\n",
       "    .dataframe thead th {\n",
       "        text-align: right;\n",
       "    }\n",
       "</style>\n",
       "<table border=\"1\" class=\"dataframe\">\n",
       "  <thead>\n",
       "    <tr style=\"text-align: right;\">\n",
       "      <th>type</th>\n",
       "      <th>anime</th>\n",
       "      <th>manga</th>\n",
       "      <th>anime_proportion</th>\n",
       "      <th>manga_proportion</th>\n",
       "      <th>users_category</th>\n",
       "    </tr>\n",
       "    <tr>\n",
       "      <th>username</th>\n",
       "      <th></th>\n",
       "      <th></th>\n",
       "      <th></th>\n",
       "      <th></th>\n",
       "      <th></th>\n",
       "    </tr>\n",
       "  </thead>\n",
       "  <tbody>\n",
       "    <tr>\n",
       "      <th>-1-2-3-4-5-</th>\n",
       "      <td>0.0</td>\n",
       "      <td>3.0</td>\n",
       "      <td>0.000000</td>\n",
       "      <td>1.000000</td>\n",
       "      <td>manga</td>\n",
       "    </tr>\n",
       "    <tr>\n",
       "      <th>-9AA</th>\n",
       "      <td>1.0</td>\n",
       "      <td>12.0</td>\n",
       "      <td>0.076923</td>\n",
       "      <td>0.923077</td>\n",
       "      <td>manga</td>\n",
       "    </tr>\n",
       "    <tr>\n",
       "      <th>-Accelerator94-</th>\n",
       "      <td>158.0</td>\n",
       "      <td>817.0</td>\n",
       "      <td>0.162051</td>\n",
       "      <td>0.837949</td>\n",
       "      <td>manga</td>\n",
       "    </tr>\n",
       "    <tr>\n",
       "      <th>-Astra-</th>\n",
       "      <td>0.0</td>\n",
       "      <td>2.0</td>\n",
       "      <td>0.000000</td>\n",
       "      <td>1.000000</td>\n",
       "      <td>manga</td>\n",
       "    </tr>\n",
       "    <tr>\n",
       "      <th>-BlackRabbit-</th>\n",
       "      <td>70.0</td>\n",
       "      <td>332.0</td>\n",
       "      <td>0.174129</td>\n",
       "      <td>0.825871</td>\n",
       "      <td>manga</td>\n",
       "    </tr>\n",
       "  </tbody>\n",
       "</table>\n",
       "</div>"
      ],
      "text/plain": [
       "type             anime  manga  ...  manga_proportion  users_category\n",
       "username                       ...                                  \n",
       "-1-2-3-4-5-        0.0    3.0  ...          1.000000           manga\n",
       "-9AA               1.0   12.0  ...          0.923077           manga\n",
       "-Accelerator94-  158.0  817.0  ...          0.837949           manga\n",
       "-Astra-            0.0    2.0  ...          1.000000           manga\n",
       "-BlackRabbit-     70.0  332.0  ...          0.825871           manga\n",
       "\n",
       "[5 rows x 5 columns]"
      ]
     },
     "execution_count": 35,
     "metadata": {},
     "output_type": "execute_result"
    }
   ],
   "source": [
    "type_per_users_count[type_per_users_count.users_category == 'manga'].head()"
   ]
  },
  {
   "cell_type": "code",
   "execution_count": null,
   "metadata": {
    "id": "ic7iEnKQGz2i"
   },
   "outputs": [],
   "source": [
    "# Distribution amongst user category\n",
    "anime_category = type_per_users_count[type_per_users_count.users_category == 'anime'].copy()\n",
    "manga_category = type_per_users_count[type_per_users_count.users_category == 'manga'].copy()\n",
    "balanced_category = type_per_users_count[type_per_users_count.users_category == 'balanced'].copy()"
   ]
  },
  {
   "cell_type": "code",
   "execution_count": null,
   "metadata": {
    "colab": {
     "base_uri": "https://localhost:8080/"
    },
    "id": "4_wbuO9IMidP",
    "outputId": "bdcad429-9ba4-44db-ff42-919726f5f3e8"
   },
   "outputs": [
    {
     "data": {
      "text/plain": [
       "(0.9483302707782241, 0.062049306202936666)"
      ]
     },
     "execution_count": 37,
     "metadata": {},
     "output_type": "execute_result"
    }
   ],
   "source": [
    "anime_category.anime_proportion.mean(), anime_category.anime_proportion.std()"
   ]
  },
  {
   "cell_type": "code",
   "execution_count": null,
   "metadata": {
    "colab": {
     "base_uri": "https://localhost:8080/"
    },
    "id": "KhqAbZBzMwgm",
    "outputId": "108314b3-f883-474b-cedd-096ce8f1e19c"
   },
   "outputs": [
    {
     "data": {
      "text/plain": [
       "(0.9183352320224013, 0.08955117954760677)"
      ]
     },
     "execution_count": 38,
     "metadata": {},
     "output_type": "execute_result"
    }
   ],
   "source": [
    "manga_category.manga_proportion.mean(), manga_category.manga_proportion.std()"
   ]
  },
  {
   "cell_type": "code",
   "execution_count": null,
   "metadata": {
    "colab": {
     "base_uri": "https://localhost:8080/"
    },
    "id": "n0J_B_LCM29J",
    "outputId": "a9e1ba4d-2c2c-41e7-d1c8-07886e00309b"
   },
   "outputs": [
    {
     "data": {
      "text/plain": [
       "(0.5941022413706878, 0.129755262521461)"
      ]
     },
     "execution_count": 39,
     "metadata": {},
     "output_type": "execute_result"
    }
   ],
   "source": [
    "balanced_category.anime_proportion.mean(), balanced_category.anime_proportion.std()"
   ]
  },
  {
   "cell_type": "code",
   "execution_count": null,
   "metadata": {
    "colab": {
     "base_uri": "https://localhost:8080/",
     "height": 427
    },
    "id": "-fAtUJYTHKVF",
    "outputId": "96c2c282-fabb-4489-de88-228b290a3546"
   },
   "outputs": [
    {
     "data": {
      "text/plain": [
       "<matplotlib.legend.Legend at 0x7ff374d3f5d0>"
      ]
     },
     "execution_count": 40,
     "metadata": {},
     "output_type": "execute_result"
    },
    {
     "data": {
      "image/png": "[encoded data removed]",
      "text/plain": [
       "<Figure size 648x432 with 1 Axes>"
      ]
     },
     "metadata": {},
     "output_type": "display_data"
    }
   ],
   "source": [
    "# the group that watch anime, watch anime most of the time (like, anime-only)\n",
    "# while the group that read manga, still watch some anime, some of the time.\n",
    "sns.kdeplot(\n",
    "    x = anime_category.anime_proportion,\n",
    "    shade = True,\n",
    "    label='Anime'\n",
    ")\n",
    "\n",
    "sns.kdeplot(\n",
    "    x = manga_category.manga_proportion,\n",
    "    shade = True,\n",
    "    label='Manga'\n",
    ")\n",
    "\n",
    "plt.title('Anime & Manga Rating Proportion between Avid Anime vs. Manga Users')\n",
    "plt.xlabel('Proportion')\n",
    "plt.legend()"
   ]
  },
  {
   "cell_type": "code",
   "execution_count": null,
   "metadata": {
    "colab": {
     "base_uri": "https://localhost:8080/",
     "height": 445
    },
    "id": "xtnyBeM6Hz7D",
    "outputId": "9aff513c-8e7c-45b3-d8bc-5ff9b248a1c1"
   },
   "outputs": [
    {
     "data": {
      "text/plain": [
       "[Text(0.5, 0, 'Anime Proportion'),\n",
       " Text(0.5, 1.0, 'Anime & Manga Rating Proportion of Balanced Users')]"
      ]
     },
     "execution_count": 41,
     "metadata": {},
     "output_type": "execute_result"
    },
    {
     "data": {
      "image/png": "[encoded data removed]",
      "text/plain": [
       "<Figure size 648x432 with 1 Axes>"
      ]
     },
     "metadata": {},
     "output_type": "display_data"
    }
   ],
   "source": [
    "# the balanced group steer more towards anime\n",
    "sns.kdeplot(\n",
    "    x = balanced_category.anime_proportion,\n",
    "    shade = True\n",
    ").set(title='Anime & Manga Rating Proportion of Balanced Users', xlabel='Anime Proportion')"
   ]
  },
  {
   "cell_type": "code",
   "execution_count": null,
   "metadata": {
    "colab": {
     "base_uri": "https://localhost:8080/"
    },
    "id": "j6undSXdKF72",
    "outputId": "3ec9e087-f6be-4de1-d369-c8229e225c97"
   },
   "outputs": [
    {
     "data": {
      "text/plain": [
       "(4829, 103)"
      ]
     },
     "execution_count": 42,
     "metadata": {},
     "output_type": "execute_result"
    }
   ],
   "source": [
    "sum(anime_category.anime_proportion == 1), sum(manga_category.manga_proportion == 1)"
   ]
  },
  {
   "cell_type": "code",
   "execution_count": null,
   "metadata": {
    "colab": {
     "base_uri": "https://localhost:8080/"
    },
    "id": "9W1R0-lOKrD4",
    "outputId": "b104fd28-7d17-4d25-a13e-fafafcdd5266"
   },
   "outputs": [
    {
     "data": {
      "text/plain": [
       "15090"
      ]
     },
     "execution_count": 43,
     "metadata": {},
     "output_type": "execute_result"
    }
   ],
   "source": [
    "len(type_per_users_count) - 2412 - 46"
   ]
  },
  {
   "cell_type": "markdown",
   "metadata": {
    "id": "oH-hMLa1bqgf"
   },
   "source": [
    "##### Type x status relationship"
   ]
  },
  {
   "cell_type": "code",
   "execution_count": null,
   "metadata": {
    "colab": {
     "base_uri": "https://localhost:8080/",
     "height": 143
    },
    "id": "pRJc-qIQBatV",
    "outputId": "88e4e0bd-9b87-46f5-ce11-2b061303e7b7"
   },
   "outputs": [
    {
     "data": {
      "text/html": [
       "<div>\n",
       "<style scoped>\n",
       "    .dataframe tbody tr th:only-of-type {\n",
       "        vertical-align: middle;\n",
       "    }\n",
       "\n",
       "    .dataframe tbody tr th {\n",
       "        vertical-align: top;\n",
       "    }\n",
       "\n",
       "    .dataframe thead th {\n",
       "        text-align: right;\n",
       "    }\n",
       "</style>\n",
       "<table border=\"1\" class=\"dataframe\">\n",
       "  <thead>\n",
       "    <tr style=\"text-align: right;\">\n",
       "      <th>status</th>\n",
       "      <th>1</th>\n",
       "      <th>2</th>\n",
       "      <th>3</th>\n",
       "      <th>4</th>\n",
       "      <th>6</th>\n",
       "    </tr>\n",
       "    <tr>\n",
       "      <th>type</th>\n",
       "      <th></th>\n",
       "      <th></th>\n",
       "      <th></th>\n",
       "      <th></th>\n",
       "      <th></th>\n",
       "    </tr>\n",
       "  </thead>\n",
       "  <tbody>\n",
       "    <tr>\n",
       "      <th>anime</th>\n",
       "      <td>323025</td>\n",
       "      <td>4218440</td>\n",
       "      <td>241024</td>\n",
       "      <td>235725</td>\n",
       "      <td>2021825</td>\n",
       "    </tr>\n",
       "    <tr>\n",
       "      <th>manga</th>\n",
       "      <td>359518</td>\n",
       "      <td>530814</td>\n",
       "      <td>98599</td>\n",
       "      <td>48982</td>\n",
       "      <td>509941</td>\n",
       "    </tr>\n",
       "  </tbody>\n",
       "</table>\n",
       "</div>"
      ],
      "text/plain": [
       "status       1        2       3       4        6\n",
       "type                                            \n",
       "anime   323025  4218440  241024  235725  2021825\n",
       "manga   359518   530814   98599   48982   509941"
      ]
     },
     "execution_count": 48,
     "metadata": {},
     "output_type": "execute_result"
    }
   ],
   "source": [
    "status_per_type_count = pd.crosstab(ratings['type'], ratings['status'], ratings['title'], aggfunc='count')\n",
    "status_per_type_count.head()"
   ]
  },
  {
   "cell_type": "code",
   "execution_count": null,
   "metadata": {
    "colab": {
     "base_uri": "https://localhost:8080/",
     "height": 451
    },
    "id": "h6PJksCPJN-W",
    "outputId": "ea594414-e90f-4dc5-e60a-ac36fcc70f48"
   },
   "outputs": [
    {
     "data": {
      "text/plain": [
       "[Text(0.5, 1.0, 'Status Comparison between Anime and Manga')]"
      ]
     },
     "execution_count": 49,
     "metadata": {},
     "output_type": "execute_result"
    },
    {
     "data": {
      "image/png": "[encoded data removed]",
      "text/plain": [
       "<Figure size 648x432 with 1 Axes>"
      ]
     },
     "metadata": {},
     "output_type": "display_data"
    }
   ],
   "source": [
    "# there are more plan-to-read in the manga space than actual completed manga,\n",
    "# but, there are disproportionately more completed anime than planned-to-watch\n",
    "# the rate of currently, hold, and dropped are about the same rate, I think.\n",
    "map_index = {\n",
    "    1: \"Currently Watching\",\n",
    "    2: \"Completed\",\n",
    "    3: \"On Hold\",\n",
    "    4: \"Dropped\",\n",
    "    6: \"Plan to Watch\",\n",
    "}\n",
    "status_per_type_count.rename(map_index, axis=1, inplace=True)\n",
    "status_per_type_count.plot.bar(rot=45).set(title='Status Comparison between Anime and Manga')"
   ]
  },
  {
   "cell_type": "markdown",
   "metadata": {
    "id": "zCok4rSuC62Q"
   },
   "source": [
    "##### Ratings-amounts relationship"
   ]
  },
  {
   "cell_type": "code",
   "execution_count": null,
   "metadata": {
    "colab": {
     "base_uri": "https://localhost:8080/",
     "height": 454
    },
    "id": "cNySP14boEK_",
    "outputId": "caea9628-9315-4183-cfa3-b1cc93ce55d4"
   },
   "outputs": [
    {
     "data": {
      "text/plain": [
       "<seaborn.axisgrid.JointGrid at 0x7f1be39fb390>"
      ]
     },
     "execution_count": 102,
     "metadata": {},
     "output_type": "execute_result"
    },
    {
     "data": {
      "image/png": "[encoded data removed]",
      "text/plain": [
       "<Figure size 432x432 with 3 Axes>"
      ]
     },
     "metadata": {},
     "output_type": "display_data"
    }
   ],
   "source": [
    "m = manga.score.value_counts()\n",
    "sns.jointplot(x=m.index, y=m.values, height=6, kind='reg')"
   ]
  },
  {
   "cell_type": "code",
   "execution_count": null,
   "metadata": {
    "colab": {
     "base_uri": "https://localhost:8080/",
     "height": 454
    },
    "id": "ADDYskieqGKH",
    "outputId": "c2c9a159-57ec-4b2d-d9fc-3f0452ecb48f"
   },
   "outputs": [
    {
     "data": {
      "text/plain": [
       "<seaborn.axisgrid.JointGrid at 0x7f1be3902990>"
      ]
     },
     "execution_count": 103,
     "metadata": {},
     "output_type": "execute_result"
    },
    {
     "data": {
      "image/png": "[encoded data removed]",
      "text/plain": [
       "<Figure size 432x432 with 3 Axes>"
      ]
     },
     "metadata": {},
     "output_type": "display_data"
    }
   ],
   "source": [
    "a = anime.score.value_counts()\n",
    "sns.jointplot(x=a.index, y=a.values, height=6, kind='reg')"
   ]
  },
  {
   "cell_type": "markdown",
   "metadata": {
    "id": "gdlTY2PRFITn"
   },
   "source": [
    "##### Ratings per user per domain"
   ]
  },
  {
   "cell_type": "code",
   "execution_count": null,
   "metadata": {
    "colab": {
     "base_uri": "https://localhost:8080/",
     "height": 238
    },
    "id": "83rwFlooGtYm",
    "outputId": "07593e78-cf1c-45f2-ebf6-dd71974d0bd2"
   },
   "outputs": [
    {
     "data": {
      "text/html": [
       "<div>\n",
       "<style scoped>\n",
       "    .dataframe tbody tr th:only-of-type {\n",
       "        vertical-align: middle;\n",
       "    }\n",
       "\n",
       "    .dataframe tbody tr th {\n",
       "        vertical-align: top;\n",
       "    }\n",
       "\n",
       "    .dataframe thead th {\n",
       "        text-align: right;\n",
       "    }\n",
       "</style>\n",
       "<table border=\"1\" class=\"dataframe\">\n",
       "  <thead>\n",
       "    <tr style=\"text-align: right;\">\n",
       "      <th>type</th>\n",
       "      <th>anime</th>\n",
       "      <th>manga</th>\n",
       "      <th>anime_proportion</th>\n",
       "      <th>manga_proportion</th>\n",
       "      <th>users_category</th>\n",
       "    </tr>\n",
       "    <tr>\n",
       "      <th>username</th>\n",
       "      <th></th>\n",
       "      <th></th>\n",
       "      <th></th>\n",
       "      <th></th>\n",
       "      <th></th>\n",
       "    </tr>\n",
       "  </thead>\n",
       "  <tbody>\n",
       "    <tr>\n",
       "      <th>--ALEX--</th>\n",
       "      <td>890.0</td>\n",
       "      <td>119.0</td>\n",
       "      <td>0.882061</td>\n",
       "      <td>0.117939</td>\n",
       "      <td>anime</td>\n",
       "    </tr>\n",
       "    <tr>\n",
       "      <th>--Nightmare--</th>\n",
       "      <td>486.0</td>\n",
       "      <td>1.0</td>\n",
       "      <td>0.997947</td>\n",
       "      <td>0.002053</td>\n",
       "      <td>anime</td>\n",
       "    </tr>\n",
       "    <tr>\n",
       "      <th>--William--</th>\n",
       "      <td>202.0</td>\n",
       "      <td>5.0</td>\n",
       "      <td>0.975845</td>\n",
       "      <td>0.024155</td>\n",
       "      <td>anime</td>\n",
       "    </tr>\n",
       "    <tr>\n",
       "      <th>--Xerxes--</th>\n",
       "      <td>187.0</td>\n",
       "      <td>2.0</td>\n",
       "      <td>0.989418</td>\n",
       "      <td>0.010582</td>\n",
       "      <td>anime</td>\n",
       "    </tr>\n",
       "    <tr>\n",
       "      <th>-Arnheid-</th>\n",
       "      <td>121.0</td>\n",
       "      <td>56.0</td>\n",
       "      <td>0.683616</td>\n",
       "      <td>0.316384</td>\n",
       "      <td>balanced</td>\n",
       "    </tr>\n",
       "  </tbody>\n",
       "</table>\n",
       "</div>"
      ],
      "text/plain": [
       "type           anime  manga  anime_proportion  manga_proportion users_category\n",
       "username                                                                      \n",
       "--ALEX--       890.0  119.0          0.882061          0.117939          anime\n",
       "--Nightmare--  486.0    1.0          0.997947          0.002053          anime\n",
       "--William--    202.0    5.0          0.975845          0.024155          anime\n",
       "--Xerxes--     187.0    2.0          0.989418          0.010582          anime\n",
       "-Arnheid-      121.0   56.0          0.683616          0.316384       balanced"
      ]
     },
     "execution_count": 117,
     "metadata": {},
     "output_type": "execute_result"
    }
   ],
   "source": [
    "type_per_users_count.head()"
   ]
  },
  {
   "cell_type": "code",
   "execution_count": null,
   "metadata": {
    "colab": {
     "base_uri": "https://localhost:8080/",
     "height": 300
    },
    "id": "m1wnGUHZHKhc",
    "outputId": "26fabcd6-c793-491d-f25c-116a98ecafef"
   },
   "outputs": [
    {
     "data": {
      "text/html": [
       "<div>\n",
       "<style scoped>\n",
       "    .dataframe tbody tr th:only-of-type {\n",
       "        vertical-align: middle;\n",
       "    }\n",
       "\n",
       "    .dataframe tbody tr th {\n",
       "        vertical-align: top;\n",
       "    }\n",
       "\n",
       "    .dataframe thead th {\n",
       "        text-align: right;\n",
       "    }\n",
       "</style>\n",
       "<table border=\"1\" class=\"dataframe\">\n",
       "  <thead>\n",
       "    <tr style=\"text-align: right;\">\n",
       "      <th>type</th>\n",
       "      <th>anime</th>\n",
       "      <th>manga</th>\n",
       "      <th>anime_proportion</th>\n",
       "      <th>manga_proportion</th>\n",
       "    </tr>\n",
       "  </thead>\n",
       "  <tbody>\n",
       "    <tr>\n",
       "      <th>count</th>\n",
       "      <td>10071.000000</td>\n",
       "      <td>7705.000000</td>\n",
       "      <td>7659.000000</td>\n",
       "      <td>7659.000000</td>\n",
       "    </tr>\n",
       "    <tr>\n",
       "      <th>mean</th>\n",
       "      <td>330.602820</td>\n",
       "      <td>76.113173</td>\n",
       "      <td>0.873341</td>\n",
       "      <td>0.126659</td>\n",
       "    </tr>\n",
       "    <tr>\n",
       "      <th>std</th>\n",
       "      <td>464.613411</td>\n",
       "      <td>397.080170</td>\n",
       "      <td>0.151706</td>\n",
       "      <td>0.151706</td>\n",
       "    </tr>\n",
       "    <tr>\n",
       "      <th>min</th>\n",
       "      <td>1.000000</td>\n",
       "      <td>1.000000</td>\n",
       "      <td>0.007018</td>\n",
       "      <td>0.000455</td>\n",
       "    </tr>\n",
       "    <tr>\n",
       "      <th>25%</th>\n",
       "      <td>103.000000</td>\n",
       "      <td>5.000000</td>\n",
       "      <td>0.834312</td>\n",
       "      <td>0.026549</td>\n",
       "    </tr>\n",
       "    <tr>\n",
       "      <th>50%</th>\n",
       "      <td>215.000000</td>\n",
       "      <td>17.000000</td>\n",
       "      <td>0.927083</td>\n",
       "      <td>0.072917</td>\n",
       "    </tr>\n",
       "    <tr>\n",
       "      <th>75%</th>\n",
       "      <td>405.000000</td>\n",
       "      <td>58.000000</td>\n",
       "      <td>0.973451</td>\n",
       "      <td>0.165688</td>\n",
       "    </tr>\n",
       "    <tr>\n",
       "      <th>max</th>\n",
       "      <td>16467.000000</td>\n",
       "      <td>28019.000000</td>\n",
       "      <td>0.999545</td>\n",
       "      <td>0.992982</td>\n",
       "    </tr>\n",
       "  </tbody>\n",
       "</table>\n",
       "</div>"
      ],
      "text/plain": [
       "type          anime         manga  anime_proportion  manga_proportion\n",
       "count  10071.000000   7705.000000       7659.000000       7659.000000\n",
       "mean     330.602820     76.113173          0.873341          0.126659\n",
       "std      464.613411    397.080170          0.151706          0.151706\n",
       "min        1.000000      1.000000          0.007018          0.000455\n",
       "25%      103.000000      5.000000          0.834312          0.026549\n",
       "50%      215.000000     17.000000          0.927083          0.072917\n",
       "75%      405.000000     58.000000          0.973451          0.165688\n",
       "max    16467.000000  28019.000000          0.999545          0.992982"
      ]
     },
     "execution_count": 122,
     "metadata": {},
     "output_type": "execute_result"
    }
   ],
   "source": [
    "type_per_users_count.describe()"
   ]
  },
  {
   "cell_type": "markdown",
   "metadata": {
    "id": "uwnAcjKEBmVF"
   },
   "source": [
    "##### Quantile"
   ]
  },
  {
   "cell_type": "code",
   "execution_count": null,
   "metadata": {
    "colab": {
     "base_uri": "https://localhost:8080/"
    },
    "id": "9djM9mV7IA_z",
    "outputId": "a8fafcd9-ba98-44ad-f5d9-b2db2c270654"
   },
   "outputs": [
    {
     "data": {
      "text/plain": [
       "array([82., 63., 42., 17.,  6.])"
      ]
     },
     "execution_count": 163,
     "metadata": {},
     "output_type": "execute_result"
    }
   ],
   "source": [
    "np.quantile(type_per_users_count.anime, [.2, .15, .1, .05, .025])"
   ]
  },
  {
   "cell_type": "code",
   "execution_count": null,
   "metadata": {
    "colab": {
     "base_uri": "https://localhost:8080/"
    },
    "id": "pcFxXEVtWYgo",
    "outputId": "bd33bc2e-63ba-4fba-8c83-96e98831f6ff"
   },
   "outputs": [
    {
     "data": {
      "text/plain": [
       "array([0., 0., 0., 0., 0.])"
      ]
     },
     "execution_count": 162,
     "metadata": {},
     "output_type": "execute_result"
    }
   ],
   "source": [
    "np.quantile(type_per_users_count.manga, [.2, .15, .1, .05, .025])"
   ]
  },
  {
   "cell_type": "markdown",
   "metadata": {
    "id": "3xYuisYEKCbY"
   },
   "source": [
    "## Dumps"
   ]
  },
  {
   "cell_type": "markdown",
   "metadata": {
    "id": "vOZ9bVHrMh0e"
   },
   "source": [
    "### Checking Filters"
   ]
  },
  {
   "cell_type": "code",
   "execution_count": null,
   "metadata": {
    "colab": {
     "base_uri": "https://localhost:8080/"
    },
    "id": "CZNAeQc4MjyQ",
    "outputId": "2c7cbf72-bb6e-4181-b0c4-af1a8f512bd5"
   },
   "outputs": [
    {
     "data": {
      "text/plain": [
       "(4505812, 6)"
      ]
     },
     "execution_count": 88,
     "metadata": {},
     "output_type": "execute_result"
    }
   ],
   "source": [
    "ratings_clean.shape"
   ]
  },
  {
   "cell_type": "code",
   "execution_count": null,
   "metadata": {
    "colab": {
     "base_uri": "https://localhost:8080/",
     "height": 238
    },
    "id": "k7bYbY-QM1KP",
    "outputId": "9b84f456-874f-4a83-cf1f-b75cebfc48ec"
   },
   "outputs": [
    {
     "data": {
      "text/html": [
       "<div>\n",
       "<style scoped>\n",
       "    .dataframe tbody tr th:only-of-type {\n",
       "        vertical-align: middle;\n",
       "    }\n",
       "\n",
       "    .dataframe tbody tr th {\n",
       "        vertical-align: top;\n",
       "    }\n",
       "\n",
       "    .dataframe thead th {\n",
       "        text-align: right;\n",
       "    }\n",
       "</style>\n",
       "<table border=\"1\" class=\"dataframe\">\n",
       "  <thead>\n",
       "    <tr style=\"text-align: right;\">\n",
       "      <th>type</th>\n",
       "      <th>anime</th>\n",
       "      <th>manga</th>\n",
       "    </tr>\n",
       "    <tr>\n",
       "      <th>username</th>\n",
       "      <th></th>\n",
       "      <th></th>\n",
       "    </tr>\n",
       "  </thead>\n",
       "  <tbody>\n",
       "    <tr>\n",
       "      <th>---DANIEL---</th>\n",
       "      <td>48.0</td>\n",
       "      <td>6.0</td>\n",
       "    </tr>\n",
       "    <tr>\n",
       "      <th>---KING---</th>\n",
       "      <td>305.0</td>\n",
       "      <td>6.0</td>\n",
       "    </tr>\n",
       "    <tr>\n",
       "      <th>---Spartacus---</th>\n",
       "      <td>4.0</td>\n",
       "      <td>0.0</td>\n",
       "    </tr>\n",
       "    <tr>\n",
       "      <th>--ALEX--</th>\n",
       "      <td>854.0</td>\n",
       "      <td>70.0</td>\n",
       "    </tr>\n",
       "    <tr>\n",
       "      <th>--ANONYMOUS--</th>\n",
       "      <td>495.0</td>\n",
       "      <td>8.0</td>\n",
       "    </tr>\n",
       "  </tbody>\n",
       "</table>\n",
       "</div>"
      ],
      "text/plain": [
       "type             anime  manga\n",
       "username                     \n",
       "---DANIEL---      48.0    6.0\n",
       "---KING---       305.0    6.0\n",
       "---Spartacus---    4.0    0.0\n",
       "--ALEX--         854.0   70.0\n",
       "--ANONYMOUS--    495.0    8.0"
      ]
     },
     "execution_count": 89,
     "metadata": {},
     "output_type": "execute_result"
    }
   ],
   "source": [
    "type_per_users_count = pd.crosstab(ratings_clean['username'], ratings_clean['type'], ratings_clean['title'], aggfunc='count')\n",
    "type_per_users_count.fillna(value=0, inplace=True)\n",
    "type_per_users_count.head()"
   ]
  },
  {
   "cell_type": "code",
   "execution_count": null,
   "metadata": {
    "colab": {
     "base_uri": "https://localhost:8080/"
    },
    "id": "P7QaGDMYM71b",
    "outputId": "5ea4d928-4712-4de3-ee45-2b4141075afa"
   },
   "outputs": [
    {
     "data": {
      "text/plain": [
       "0.75    305.00\n",
       "0.50    147.00\n",
       "0.25     62.00\n",
       "0.15     34.00\n",
       "0.10     19.00\n",
       "0.05      6.35\n",
       "0.01      1.00\n",
       "Name: total_ratings, dtype: float64"
      ]
     },
     "execution_count": 90,
     "metadata": {},
     "output_type": "execute_result"
    }
   ],
   "source": [
    "type_per_users_count['total_ratings'] = type_per_users_count.anime + type_per_users_count.manga\n",
    "type_per_users_count['total_ratings'].quantile([.75, .5, .25, .15, .1, .05, .01])"
   ]
  },
  {
   "cell_type": "code",
   "execution_count": null,
   "metadata": {
    "colab": {
     "base_uri": "https://localhost:8080/"
    },
    "id": "_zWLUrCMNKeS",
    "outputId": "666c7899-e16d-4516-8666-a2c1e0b2f344"
   },
   "outputs": [
    {
     "data": {
      "text/plain": [
       "1104"
      ]
     },
     "execution_count": 91,
     "metadata": {},
     "output_type": "execute_result"
    }
   ],
   "source": [
    "# users with total rating less than 10\n",
    "len(type_per_users_count.loc[type_per_users_count['total_ratings'] < 10])"
   ]
  },
  {
   "cell_type": "code",
   "execution_count": null,
   "metadata": {
    "colab": {
     "base_uri": "https://localhost:8080/"
    },
    "id": "vwaBdkEaNnKZ",
    "outputId": "9516f29b-f02d-4861-bd64-ca87a0614cc7"
   },
   "outputs": [
    {
     "data": {
      "text/plain": [
       "10755"
      ]
     },
     "execution_count": 92,
     "metadata": {},
     "output_type": "execute_result"
    }
   ],
   "source": [
    "# users with total MANGA rating less than 10\n",
    "len(type_per_users_count.loc[type_per_users_count['manga'] < 10])"
   ]
  },
  {
   "cell_type": "code",
   "execution_count": null,
   "metadata": {
    "colab": {
     "base_uri": "https://localhost:8080/"
    },
    "id": "4I9_JTB5Nug7",
    "outputId": "81a7723d-879d-4b9e-f0fe-beedd88af9d4"
   },
   "outputs": [
    {
     "data": {
      "text/plain": [
       "1237"
      ]
     },
     "execution_count": 93,
     "metadata": {},
     "output_type": "execute_result"
    }
   ],
   "source": [
    "# users with total ANIME rating less than 10\n",
    "len(type_per_users_count.loc[type_per_users_count['anime'] < 10])"
   ]
  },
  {
   "cell_type": "code",
   "execution_count": null,
   "metadata": {
    "colab": {
     "base_uri": "https://localhost:8080/"
    },
    "id": "MM-Y4XAJPLVG",
    "outputId": "a7ac446d-ab64-4d64-c112-dc7e3d97358c"
   },
   "outputs": [
    {
     "data": {
      "text/plain": [
       "title\n",
       "\"0\"                                               79\n",
       "\"Aishiteru\", Uso dakedo.                          23\n",
       "\"Aoi\" Hikaru ga Chikyuu ni Ita Koro......         47\n",
       "\"Boku wa Senpai ni Josou wo Shiirareteimasu.\"     27\n",
       "\"Bungaku Shoujo\" Kyou no Oyatsu: Hatsukoi        245\n",
       "                                                ... \n",
       "◯                                                 64\n",
       "♀x♀=♥                                             16\n",
       "♂Docchi♀                                          11\n",
       "♭37℃                                              11\n",
       "♭38℃: Loveberry Twins♥                            16\n",
       "Name: username, Length: 21473, dtype: int64"
      ]
     },
     "execution_count": 100,
     "metadata": {},
     "output_type": "execute_result"
    }
   ],
   "source": [
    "titles_rated = ratings_clean.groupby('title')['username'].count()\n",
    "titles_rated.loc[titles_rated >= 10]"
   ]
  },
  {
   "cell_type": "markdown",
   "metadata": {
    "id": "R_cfNVhXQElq"
   },
   "source": [
    "### Fixing the messed up IDs (before dumping)"
   ]
  },
  {
   "cell_type": "code",
   "execution_count": null,
   "metadata": {
    "colab": {
     "base_uri": "https://localhost:8080/"
    },
    "id": "NgcTEIORdQSk",
    "outputId": "c3d0fd35-9004-4e50-9d91-d29551d921eb"
   },
   "outputs": [
    {
     "data": {
      "text/plain": [
       "array(['Cowboy Bebop', 'Monster'], dtype=object)"
      ]
     },
     "execution_count": 102,
     "metadata": {},
     "output_type": "execute_result"
    }
   ],
   "source": [
    "# some anime & manga have the same id...\n",
    "ratings[ratings.id == 1].title.unique()"
   ]
  },
  {
   "cell_type": "code",
   "execution_count": null,
   "metadata": {
    "id": "67cRQ4nqKS2E"
   },
   "outputs": [],
   "source": [
    "# trying to get the id for anime 0 ~ `last anime title`;\n",
    "# while manga be `last anime title` + 1 ~ `last manga title`"
   ]
  },
  {
   "cell_type": "code",
   "execution_count": null,
   "metadata": {
    "id": "1le-3sM6DnD1"
   },
   "outputs": [],
   "source": [
    "# create a new dataframe to work on before numbering\n",
    "anime_df = ratings_clean.loc[ratings_clean['type'] == 'anime'].copy()\n",
    "manga_df = ratings_clean.loc[ratings_clean['type'] == 'manga'].copy()"
   ]
  },
  {
   "cell_type": "code",
   "execution_count": null,
   "metadata": {
    "colab": {
     "base_uri": "https://localhost:8080/"
    },
    "id": "fvtOuOEhF59O",
    "outputId": "b3bc5d3a-7e11-48e7-f49f-8c51b7e98182"
   },
   "outputs": [
    {
     "data": {
      "text/plain": [
       "(47519, 49768)"
      ]
     },
     "execution_count": 105,
     "metadata": {},
     "output_type": "execute_result"
    }
   ],
   "source": [
    "# THIS! the ids are messed up when it's numbered through single-pass groupby,\n",
    "# because several anime & manga titles are the same (2k of them, in fact.)\n",
    "# and these made the same id are categorized in different type...\n",
    "ratings_clean.title.nunique(), anime_df.title.nunique() + manga_df.title.nunique()"
   ]
  },
  {
   "cell_type": "code",
   "execution_count": null,
   "metadata": {
    "colab": {
     "base_uri": "https://localhost:8080/"
    },
    "id": "IlQ2_mjmD3r0",
    "outputId": "e926e233-2029-4fa7-c2ce-6e26d2260d3e"
   },
   "outputs": [
    {
     "data": {
      "text/plain": [
       "(17050, 17051, 49767)"
      ]
     },
     "execution_count": 106,
     "metadata": {},
     "output_type": "execute_result"
    }
   ],
   "source": [
    "# this solves the problem. by first separating the type, and doing grouping on\n",
    "# the separated dataframe, it works.\n",
    "anime_id = anime_df.sort_values('id').groupby('title').ngroup()\n",
    "offset_id = anime_id.max() + 1\n",
    "manga_id = manga_df.sort_values('id').groupby('title').ngroup() + offset_id\n",
    "\n",
    "anime_id.max(), manga_id.min(), manga_id.max()  # it's 0-indexed"
   ]
  },
  {
   "cell_type": "code",
   "execution_count": null,
   "metadata": {
    "colab": {
     "base_uri": "https://localhost:8080/"
    },
    "id": "6LHtEqMdJBum",
    "outputId": "1556b81b-5ed4-4c62-a6ec-4f610ebd60f5"
   },
   "outputs": [
    {
     "data": {
      "text/html": [
       "<div>\n",
       "<style scoped>\n",
       "    .dataframe tbody tr th:only-of-type {\n",
       "        vertical-align: middle;\n",
       "    }\n",
       "\n",
       "    .dataframe tbody tr th {\n",
       "        vertical-align: top;\n",
       "    }\n",
       "\n",
       "    .dataframe thead th {\n",
       "        text-align: right;\n",
       "    }\n",
       "</style>\n",
       "<table border=\"1\" class=\"dataframe\">\n",
       "  <thead>\n",
       "    <tr style=\"text-align: right;\">\n",
       "      <th></th>\n",
       "      <th>username</th>\n",
       "      <th>type</th>\n",
       "      <th>id</th>\n",
       "      <th>title</th>\n",
       "      <th>score</th>\n",
       "      <th>status</th>\n",
       "      <th>item</th>\n",
       "    </tr>\n",
       "  </thead>\n",
       "  <tbody>\n",
       "    <tr>\n",
       "      <th>2298397</th>\n",
       "      <td>JBBeast</td>\n",
       "      <td>anime</td>\n",
       "      <td>12231</td>\n",
       "      <td>Dragon Ball: Episode of Bardock</td>\n",
       "      <td>1</td>\n",
       "      <td>2</td>\n",
       "      <td>3408</td>\n",
       "    </tr>\n",
       "    <tr>\n",
       "      <th>1068054</th>\n",
       "      <td>nightfury10</td>\n",
       "      <td>anime</td>\n",
       "      <td>38573</td>\n",
       "      <td>Tsuujou Kougeki ga Zentai Kougeki de Ni-kai Ko...</td>\n",
       "      <td>1</td>\n",
       "      <td>2</td>\n",
       "      <td>15412</td>\n",
       "    </tr>\n",
       "    <tr>\n",
       "      <th>1092096</th>\n",
       "      <td>AzzurroKurai97X</td>\n",
       "      <td>anime</td>\n",
       "      <td>32878</td>\n",
       "      <td>ēlDLIVE</td>\n",
       "      <td>1</td>\n",
       "      <td>2</td>\n",
       "      <td>17049</td>\n",
       "    </tr>\n",
       "    <tr>\n",
       "      <th>2960507</th>\n",
       "      <td>VhlleX</td>\n",
       "      <td>anime</td>\n",
       "      <td>32901</td>\n",
       "      <td>Eromanga-sensei</td>\n",
       "      <td>1</td>\n",
       "      <td>2</td>\n",
       "      <td>3666</td>\n",
       "    </tr>\n",
       "    <tr>\n",
       "      <th>3364426</th>\n",
       "      <td>Timelime</td>\n",
       "      <td>anime</td>\n",
       "      <td>21881</td>\n",
       "      <td>Sword Art Online II</td>\n",
       "      <td>1</td>\n",
       "      <td>2</td>\n",
       "      <td>14265</td>\n",
       "    </tr>\n",
       "  </tbody>\n",
       "</table>\n",
       "</div>"
      ],
      "text/plain": [
       "                username   type     id  ... score  status   item\n",
       "2298397          JBBeast  anime  12231  ...     1       2   3408\n",
       "1068054      nightfury10  anime  38573  ...     1       2  15412\n",
       "1092096  AzzurroKurai97X  anime  32878  ...     1       2  17049\n",
       "2960507           VhlleX  anime  32901  ...     1       2   3666\n",
       "3364426         Timelime  anime  21881  ...     1       2  14265\n",
       "\n",
       "[5 rows x 7 columns]"
      ]
     },
     "execution_count": 107,
     "metadata": {},
     "output_type": "execute_result"
    }
   ],
   "source": [
    "anime_df['item'] = anime_id\n",
    "manga_df['item'] = manga_id\n",
    "\n",
    "anime_df.head()"
   ]
  },
  {
   "cell_type": "markdown",
   "metadata": {
    "id": "Q5Xz4c1c_HYG"
   },
   "source": [
    "### Dump data"
   ]
  },
  {
   "cell_type": "code",
   "execution_count": null,
   "metadata": {
    "colab": {
     "base_uri": "https://localhost:8080/"
    },
    "id": "H67UUNlyIOCy",
    "outputId": "eadeb048-9633-4e19-c4c1-c51692eaecc2"
   },
   "outputs": [
    {
     "name": "stdout",
     "output_type": "stream",
     "text": [
      "473740     16611\n",
      "906589     16611\n",
      "1903411    16611\n",
      "2037640    16611\n",
      "2037650    16611\n",
      "           ...  \n",
      "4433047    16611\n",
      "4433048    16611\n",
      "4433049    16611\n",
      "4433050    16611\n",
      "4433051    16611\n",
      "Name: user, Length: 82, dtype: int64\n"
     ]
    }
   ],
   "source": [
    "# keep the id of rex' for later (personal) evaluation\n",
    "# rex_chan_s' id = 8593\n",
    "full_dump = pd.concat([anime_df, manga_df], ignore_index=True)\n",
    "full_dump['user'] = full_dump.groupby('username').ngroup()\n",
    "\n",
    "print(full_dump[full_dump.username == 'rex_chan_s'].user)\n",
    "\n",
    "# also, dump the neat ratings with its full column\n",
    "full_dump.drop(columns=['id'], inplace=True)\n",
    "rearrange_columns = ['username', 'user', 'type', 'item', 'title', 'score', 'status']\n",
    "full_dump = full_dump[rearrange_columns]\n",
    "\n",
    "full_dump.to_csv('with_clubs_neat_ratings_full_column.csv', index=False)"
   ]
  },
  {
   "cell_type": "code",
   "execution_count": null,
   "metadata": {
    "colab": {
     "base_uri": "https://localhost:8080/"
    },
    "id": "-Uz6-mk9MhqE",
    "outputId": "d8a51425-1e4a-4c9b-d316-581981e143fe"
   },
   "outputs": [
    {
     "name": "stdout",
     "output_type": "stream",
     "text": [
      "username,user,type,item,title,score,status\n",
      "Yugi_Tsukasa,6143,anime,14968,Vanitas no Karte,1,4\n",
      "Ed_warudo,1659,anime,6528,Kaifuku Jutsushi no Yarinaoshi,1,3\n",
      "Superdooper224,5360,anime,6729,Kanojo wa Dare to demo Sex Suru.,1,6\n",
      "SkyXPlay,5131,anime,6949,Ken to Mahou no Logres: Inishie no Megami x Fate/Extella,1,2\n",
      "Random1234,4558,anime,1710,Buddy Go!,1,2\n",
      "quiuzus,8518,anime,16135,◯,1,2\n",
      "NamaloomShacks,3913,anime,4195,Generation of Chaos,1,2\n",
      "blorf7,6688,anime,4850,Hametsu no Mars,1,2\n",
      "ElPatoOtaku,1686,anime,10710,Overlord II,1,4\n"
     ]
    }
   ],
   "source": [
    "!head 'neat_ratings_full_column.csv'"
   ]
  },
  {
   "cell_type": "code",
   "execution_count": null,
   "metadata": {
    "colab": {
     "base_uri": "https://localhost:8080/",
     "height": 206
    },
    "id": "ny5vcFdfafcH",
    "outputId": "33bee045-835e-4333-fb28-32e4f4912c1b"
   },
   "outputs": [
    {
     "data": {
      "text/html": [
       "<div>\n",
       "<style scoped>\n",
       "    .dataframe tbody tr th:only-of-type {\n",
       "        vertical-align: middle;\n",
       "    }\n",
       "\n",
       "    .dataframe tbody tr th {\n",
       "        vertical-align: top;\n",
       "    }\n",
       "\n",
       "    .dataframe thead th {\n",
       "        text-align: right;\n",
       "    }\n",
       "</style>\n",
       "<table border=\"1\" class=\"dataframe\">\n",
       "  <thead>\n",
       "    <tr style=\"text-align: right;\">\n",
       "      <th></th>\n",
       "      <th>type</th>\n",
       "      <th>user</th>\n",
       "      <th>item</th>\n",
       "      <th>rating</th>\n",
       "    </tr>\n",
       "  </thead>\n",
       "  <tbody>\n",
       "    <tr>\n",
       "      <th>0</th>\n",
       "      <td>anime</td>\n",
       "      <td>7463</td>\n",
       "      <td>3408</td>\n",
       "      <td>1</td>\n",
       "    </tr>\n",
       "    <tr>\n",
       "      <th>1</th>\n",
       "      <td>anime</td>\n",
       "      <td>16225</td>\n",
       "      <td>15412</td>\n",
       "      <td>1</td>\n",
       "    </tr>\n",
       "    <tr>\n",
       "      <th>2</th>\n",
       "      <td>anime</td>\n",
       "      <td>4054</td>\n",
       "      <td>17049</td>\n",
       "      <td>1</td>\n",
       "    </tr>\n",
       "    <tr>\n",
       "      <th>3</th>\n",
       "      <td>anime</td>\n",
       "      <td>11704</td>\n",
       "      <td>3666</td>\n",
       "      <td>1</td>\n",
       "    </tr>\n",
       "    <tr>\n",
       "      <th>4</th>\n",
       "      <td>anime</td>\n",
       "      <td>11454</td>\n",
       "      <td>14265</td>\n",
       "      <td>1</td>\n",
       "    </tr>\n",
       "  </tbody>\n",
       "</table>\n",
       "</div>"
      ],
      "text/plain": [
       "    type   user   item  rating\n",
       "0  anime   7463   3408       1\n",
       "1  anime  16225  15412       1\n",
       "2  anime   4054  17049       1\n",
       "3  anime  11704   3666       1\n",
       "4  anime  11454  14265       1"
      ]
     },
     "execution_count": 109,
     "metadata": {},
     "output_type": "execute_result"
    }
   ],
   "source": [
    "# join the anime & manga df\n",
    "df = pd.concat([anime_df, manga_df], ignore_index=True)\n",
    "\n",
    "# create new user_id (the previous one uses username)\n",
    "df['user'] = df.groupby('username').ngroup()\n",
    "\n",
    "# drop unused columns\n",
    "df.drop(columns=['username', 'id', 'title', 'status'], inplace=True)\n",
    "\n",
    "# rename for clarity\n",
    "df.rename(columns={'score': 'rating'}, inplace=True)\n",
    "\n",
    "# rearrange the column\n",
    "df = df[['type', 'user', 'item', 'rating']]\n",
    "\n",
    "df.head()"
   ]
  },
  {
   "cell_type": "code",
   "execution_count": null,
   "metadata": {
    "id": "zPTCB-PFQEJV"
   },
   "outputs": [],
   "source": [
    "# sanity check, lengths are the same\n",
    "assert ratings_clean.shape[0] == df.shape[0]"
   ]
  },
  {
   "cell_type": "code",
   "execution_count": null,
   "metadata": {
    "id": "t6rcEbf-XF7m"
   },
   "outputs": [],
   "source": [
    "df.to_csv('with_clubs_neat_ratings.csv', index=False)"
   ]
  }
 ],
 "metadata": {
  "colab": {
   "collapsed_sections": [
    "EGsyEKQLdDXr",
    "aS-QtwnWJB3n",
    "YlNC9icOEary",
    "R_cfNVhXQElq"
   ],
   "name": "Skripsi - Cleaning + EDA.ipynb",
   "provenance": []
  },
  "kernelspec": {
   "display_name": "Python 3",
   "language": "python",
   "name": "python3"
  },
  "language_info": {
   "codemirror_mode": {
    "name": "ipython",
    "version": 3
   },
   "file_extension": ".py",
   "mimetype": "text/x-python",
   "name": "python",
   "nbconvert_exporter": "python",
   "pygments_lexer": "ipython3",
   "version": "3.7.7"
  }
 },
 "nbformat": 4,
 "nbformat_minor": 1
}
